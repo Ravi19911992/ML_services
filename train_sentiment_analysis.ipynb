{
  "nbformat": 4,
  "nbformat_minor": 0,
  "metadata": {
    "anaconda-cloud": {},
    "kernelspec": {
      "display_name": "Python 3",
      "language": "python",
      "name": "python3"
    },
    "language_info": {
      "codemirror_mode": {
        "name": "ipython",
        "version": 2
      },
      "file_extension": ".py",
      "mimetype": "text/x-python",
      "name": "python",
      "nbconvert_exporter": "python",
      "pygments_lexer": "ipython2",
      "version": "2.7.3"
    },
    "pycharm": {
      "stem_cell": {
        "cell_type": "raw",
        "source": [],
        "metadata": {
          "collapsed": false
        }
      }
    },
    "colab": {
      "name": "train_sentiment_analysis.ipynb",
      "provenance": [],
      "collapsed_sections": [],
      "include_colab_link": true
    }
  },
  "cells": [
    {
      "cell_type": "markdown",
      "metadata": {
        "id": "view-in-github",
        "colab_type": "text"
      },
      "source": [
        "<a href=\"https://colab.research.google.com/github/Ravi19911992/ML_services/blob/master/train_sentiment_analysis.ipynb\" target=\"_parent\"><img src=\"https://colab.research.google.com/assets/colab-badge.svg\" alt=\"Open In Colab\"/></a>"
      ]
    },
    {
      "cell_type": "markdown",
      "metadata": {
        "collapsed": false,
        "pycharm": {
          "name": "#%% md\n"
        },
        "id": "eFAmWLNQ5Mos",
        "colab_type": "text"
      },
      "source": [
        "## Part 2: Training your own ML Model\n",
        "\n",
        "<a href=\"https://colab.research.google.com/github/peckjon/hosting-ml-as-microservice/blob/master/part2/train_sentiment_analysis.ipynb\" target=\"_parent\"><img src=\"https://colab.research.google.com/assets/colab-badge.svg\" alt=\"Open In Colab\"/></a>"
      ]
    },
    {
      "cell_type": "markdown",
      "metadata": {
        "id": "Gn6IgOwi5Mot",
        "colab_type": "text"
      },
      "source": [
        "### Download corpuses\n",
        "\n",
        "We'll continue using the `movie_reviews` corpus to train our model. The `stopwords` corpus contains a [set of standard stopwords](https://gist.github.com/sebleier/554280) we'll want to remove from the input, and `punkt` is used for toneization in the [.words()](https://www.nltk.org/api/nltk.corpus.html#corpus-reader-functions) method of the corpus reader."
      ]
    },
    {
      "cell_type": "code",
      "metadata": {
        "pycharm": {
          "name": "#%%\n"
        },
        "id": "QuVUs3JJ5Mou",
        "colab_type": "code",
        "colab": {
          "base_uri": "https://localhost:8080/",
          "height": 136
        },
        "outputId": "2efa86e3-3f53-498c-e380-c2f76c11c11c"
      },
      "source": [
        "from nltk import download\n",
        "\n",
        "download('movie_reviews')\n",
        "download('punkt')\n",
        "download('stopwords')"
      ],
      "execution_count": 1,
      "outputs": [
        {
          "output_type": "stream",
          "text": [
            "[nltk_data] Downloading package movie_reviews to /root/nltk_data...\n",
            "[nltk_data]   Unzipping corpora/movie_reviews.zip.\n",
            "[nltk_data] Downloading package punkt to /root/nltk_data...\n",
            "[nltk_data]   Unzipping tokenizers/punkt.zip.\n",
            "[nltk_data] Downloading package stopwords to /root/nltk_data...\n",
            "[nltk_data]   Unzipping corpora/stopwords.zip.\n"
          ],
          "name": "stdout"
        },
        {
          "output_type": "execute_result",
          "data": {
            "text/plain": [
              "True"
            ]
          },
          "metadata": {
            "tags": []
          },
          "execution_count": 1
        }
      ]
    },
    {
      "cell_type": "markdown",
      "metadata": {
        "id": "6ZYT_NC55Mow",
        "colab_type": "text"
      },
      "source": [
        "### Define feature extractor and bag-of-words converter\n",
        "\n",
        "Given a list of (already tokenized) words, we need a function to extract just the ones we care about: those not found in the list of English stopwords or standard punctuation.\n",
        "\n",
        "We also need a way to easily turn a list of words into a [bag-of-words](https://en.wikipedia.org/wiki/Bag-of-words_model), pairing each word with the count of its occurrences."
      ]
    },
    {
      "cell_type": "code",
      "metadata": {
        "id": "J_avyOsi5Mox",
        "colab_type": "code",
        "colab": {}
      },
      "source": [
        "from nltk.corpus import stopwords\n",
        "from string import punctuation\n",
        "\n",
        "stopwords_eng = stopwords.words('english')\n",
        "\n",
        "def extract_features(words):\n",
        "    return [w for w in words if w not in stopwords_eng and w not in punctuation]\n",
        "\n",
        "def bag_of_words(words):\n",
        "    bag = {}\n",
        "    for w in words:\n",
        "        bag[w] = bag.get(w,0)+1\n",
        "    return bag"
      ],
      "execution_count": 2,
      "outputs": []
    },
    {
      "cell_type": "code",
      "metadata": {
        "id": "_E0O2sMPh-NY",
        "colab_type": "code",
        "colab": {}
      },
      "source": [
        "# IMPLEMENTATION: use Spacy lemmatizer\n",
        "# !pip install spacy\n",
        "# !python -m spacy download en_core_web_sm\n",
        "\n",
        "import spacy \n",
        "\n",
        "nlp = spacy.load(\"en_core_web_sm\") \n",
        "\n",
        "def extract_features(document):\n",
        "    return [str(w.lemma_) for w in nlp(unicode(document)) if w.text not in stopwords_eng and w.text not in punctuation]"
      ],
      "execution_count": 3,
      "outputs": []
    },
    {
      "cell_type": "code",
      "metadata": {
        "id": "wn-AGaztzMEm",
        "colab_type": "code",
        "colab": {
          "base_uri": "https://localhost:8080/",
          "height": 51
        },
        "outputId": "e55871f4-d1f7-469f-dab0-ab07d202059b"
      },
      "source": [
        "# IMPLEMENTATION: use WordNet lemmatizer\n",
        "\n",
        "import nltk\n",
        "nltk.download('wordnet')\n",
        "\n",
        "from nltk.stem import WordNetLemmatizer \n",
        "from nltk.tokenize import word_tokenize\n",
        "\n",
        "lemmatizer = WordNetLemmatizer()\n",
        "\n",
        "def extract_features(document):\n",
        "    words = word_tokenize(document)\n",
        "    return [str(lemmatizer.lemmatize(w)) for w in words if w not in stopwords_eng and w not in punctuation]"
      ],
      "execution_count": 4,
      "outputs": [
        {
          "output_type": "stream",
          "text": [
            "[nltk_data] Downloading package wordnet to /root/nltk_data...\n",
            "[nltk_data]   Unzipping corpora/wordnet.zip.\n"
          ],
          "name": "stdout"
        }
      ]
    },
    {
      "cell_type": "code",
      "metadata": {
        "id": "5eo5oW1czMRE",
        "colab_type": "code",
        "colab": {
          "base_uri": "https://localhost:8080/",
          "height": 34
        },
        "outputId": "a137bd80-9ff4-4995-c2fa-53ccfcb8a7d1"
      },
      "source": [
        "# IMPLEMENTATION: use n-grams\n",
        "\n",
        "import re\n",
        "# from nltk.util import ngrams\n",
        "from nltk.util import everygrams\n",
        "\n",
        "def extract_features(document):\n",
        "    document = document.lower()\n",
        "    document = re.sub(r'[^a-zA-Z0-9\\s]', ' ', document)\n",
        "    words = [w for w in document.split(\" \") if w!=\"\" and w not in stopwords_eng and w not in punctuation]\n",
        "    return ['_'.join(ngram) for ngram in list(everygrams(words, max_len=3))]\n",
        "print(extract_features(\"Hello world, corpuses calling!\"))"
      ],
      "execution_count": 5,
      "outputs": [
        {
          "output_type": "stream",
          "text": [
            "['hello', 'world', 'corpuses', 'calling', 'hello_world', 'world_corpuses', 'corpuses_calling', 'hello_world_corpuses', 'world_corpuses_calling']\n"
          ],
          "name": "stdout"
        }
      ]
    },
    {
      "cell_type": "code",
      "metadata": {
        "id": "fkbyzTkozttN",
        "colab_type": "code",
        "colab": {
          "base_uri": "https://localhost:8080/",
          "height": 34
        },
        "outputId": "0a3732cd-d88f-482b-b01b-45af8a53f48f"
      },
      "source": [
        "# IMPLEMENTATION: use n-grams AND Spacy lemmatizer\n",
        "\n",
        "import spacy \n",
        "import re\n",
        "# from nltk.util import ngrams\n",
        "from nltk.util import everygrams\n",
        "\n",
        "nlp = spacy.load(\"en_core_web_sm\") \n",
        "\n",
        "def extract_features(document):\n",
        "    lemmas = [w.lemma_ for w in nlp(document) if w.text not in stopwords_eng and w.text not in punctuation]\n",
        "    document = \" \".join(lemmas)\n",
        "    document = document.lower()\n",
        "    document = re.sub(r'[^a-zA-Z0-9\\s]', ' ', document)\n",
        "    words = [w for w in document.split(\" \") if w!=\"\" and w not in stopwords_eng and w not in punctuation]\n",
        "    return [str('_'.join(ngram)) for ngram in list(everygrams(words, max_len=3))]\n",
        "print(extract_features(\"Hello world, corpuses calling!\"))"
      ],
      "execution_count": 6,
      "outputs": [
        {
          "output_type": "stream",
          "text": [
            "['hello', 'world', 'corpus', 'call', 'hello_world', 'world_corpus', 'corpus_call', 'hello_world_corpus', 'world_corpus_call']\n"
          ],
          "name": "stdout"
        }
      ]
    },
    {
      "cell_type": "code",
      "metadata": {
        "id": "tJTzo3wO4_v8",
        "colab_type": "code",
        "colab": {
          "base_uri": "https://localhost:8080/",
          "height": 68
        },
        "outputId": "954bbedd-7358-4f10-ee01-bb841de5a1e5"
      },
      "source": [
        "# IMPLEMENTATION: use n-grams AND WordNet lemmatizer\n",
        "\n",
        "import nltk\n",
        "nltk.download('wordnet')\n",
        "\n",
        "from nltk.stem import WordNetLemmatizer \n",
        "from nltk.tokenize import word_tokenize\n",
        "import re\n",
        "# from nltk.util import ngrams\n",
        "from nltk.util import everygrams\n",
        "\n",
        "lemmatizer = WordNetLemmatizer()\n",
        "\n",
        "def extract_features(document):\n",
        "    words = word_tokenize(document)\n",
        "    lemmas = [str(lemmatizer.lemmatize(w)) for w in words if w not in stopwords_eng and w not in punctuation]\n",
        "    document = \" \".join(lemmas)\n",
        "    document = document.lower()\n",
        "    document = re.sub(r'[^a-zA-Z0-9\\s]', ' ', document)\n",
        "    words = [w for w in document.split(\" \") if w!=\"\" and w not in stopwords_eng and w not in punctuation]\n",
        "    return [str('_'.join(ngram)) for ngram in list(everygrams(words, max_len=3))]\n",
        "print(extract_features(\"Hello world, corpuses calling!\"))"
      ],
      "execution_count": 7,
      "outputs": [
        {
          "output_type": "stream",
          "text": [
            "[nltk_data] Downloading package wordnet to /root/nltk_data...\n",
            "[nltk_data]   Package wordnet is already up-to-date!\n",
            "['hello', 'world', 'corpus', 'calling', 'hello_world', 'world_corpus', 'corpus_calling', 'hello_world_corpus', 'world_corpus_calling']\n"
          ],
          "name": "stdout"
        }
      ]
    },
    {
      "cell_type": "markdown",
      "metadata": {
        "id": "P2XMPDqg5Mo0",
        "colab_type": "text"
      },
      "source": [
        "### Ingest, clean, and convert the positive and negative reviews\n",
        "\n",
        "For both the positive (\"pos\") and negative (\"neg\") sets of reviews, extract the features and convert to bag of words. From these, we construct a list of tuples known as a \"featureset\": the first part of each tuple is the bag of words for that review, and the second is its label (\"pos\"/\"neg\").\n",
        "\n",
        "Note that `movie_reviews.words(fileid)` provides a tokenized list of words. If we wanted the un-tokenized text, we would use `movie_reviews.raw(fileid)` instead, then tokenize it using our preferred tokenizeer (e.g. [nltk.tokenize.word_tokenize](https://www.nltk.org/api/nltk.tokenize.html#nltk.tokenize.punkt.PunktLanguageVars.word_tokenize))."
      ]
    },
    {
      "cell_type": "code",
      "metadata": {
        "id": "SVpaqlxi5Mo0",
        "colab_type": "code",
        "colab": {}
      },
      "source": [
        "from nltk.corpus import movie_reviews\n",
        "\n",
        "reviews_pos = []\n",
        "reviews_neg = []\n",
        "for fileid in movie_reviews.fileids('pos'):\n",
        "    words = extract_features(str(movie_reviews.words(fileid)))\n",
        "    reviews_pos.append((bag_of_words(words), 'pos'))\n",
        "for fileid in movie_reviews.fileids('neg'):\n",
        "    words = extract_features(str(movie_reviews.words(fileid)))\n",
        "    reviews_neg.append((bag_of_words(words), 'neg'))"
      ],
      "execution_count": 9,
      "outputs": []
    },
    {
      "cell_type": "markdown",
      "metadata": {
        "id": "e0xgTOmU5Mo3",
        "colab_type": "text"
      },
      "source": [
        "### Split reviews into training and test sets\n",
        "We need to break up each group of reviews into a training set (about 80%) and a test set (the remaining 20%). In case there's some meaningful order to the reviews (e.g. the first 800 are from one group of reviewers, the next 200 are from another), we shuffle the sets first to ensure we aren't introducing additional bias. Note that this means our accuracy will not be exactly the same on every run; if you wish to see consistent results on each run, you can stabilize the shuffle by calling [random.seed(n)](https://www.geeksforgeeks.org/random-seed-in-python/) first."
      ]
    },
    {
      "cell_type": "code",
      "metadata": {
        "id": "HdcasvhW5Mo3",
        "colab_type": "code",
        "colab": {}
      },
      "source": [
        "from random import shuffle\n",
        "\n",
        "split_pct = .80\n",
        "\n",
        "def split_set(review_set):\n",
        "    split = int(len(review_set)*split_pct)\n",
        "    return (review_set[:split], review_set[split:])\n",
        "\n",
        "shuffle(reviews_pos)\n",
        "shuffle(reviews_neg)\n",
        "\n",
        "pos_train, pos_test = split_set(reviews_pos)\n",
        "neg_train, neg_test = split_set(reviews_neg)\n",
        "\n",
        "train_set = pos_train+neg_train\n",
        "test_set = pos_test+neg_test"
      ],
      "execution_count": 10,
      "outputs": []
    },
    {
      "cell_type": "markdown",
      "metadata": {
        "id": "tLGWFrOt5Mo6",
        "colab_type": "text"
      },
      "source": [
        "### Train the model\n",
        "\n",
        "Now that our data is ready, the training step itself is quite simple if we use the [NaiveBayesClassifier](https://www.nltk.org/api/nltk.classify.html#module-nltk.classify.naivebayes) provided by NLTK.\n",
        "\n",
        "If you are used to methods such as `model.fit(x,y)` which take two parameters -- the data and the labels -- it may be confusing that `NaiveBayesClassifier.train` takes just one argument. This is because the labels are already embedded in `train_set`: each element in the set is a Bag of Words paired with a 'pos' or 'neg'; value."
      ]
    },
    {
      "cell_type": "code",
      "metadata": {
        "id": "PQ3XuZli5Mo6",
        "colab_type": "code",
        "colab": {}
      },
      "source": [
        "from nltk.classify import NaiveBayesClassifier\n",
        "\n",
        "model = NaiveBayesClassifier.train(train_set)"
      ],
      "execution_count": 11,
      "outputs": []
    },
    {
      "cell_type": "markdown",
      "metadata": {
        "id": "9jR52HFK5Mo8",
        "colab_type": "text"
      },
      "source": [
        "### Check model accuracy\n",
        "\n",
        "NLTK's built-in [accuracy](https://www.nltk.org/api/nltk.classify.html#module-nltk.classify.util) utility can run our test_set through the model and compare the labels returned by the model to the labels in the test set, producing an overall % accuracy. Not too impressive, right? We need to improve."
      ]
    },
    {
      "cell_type": "code",
      "metadata": {
        "id": "H1y7JV8H5Mo9",
        "colab_type": "code",
        "colab": {
          "base_uri": "https://localhost:8080/",
          "height": 34
        },
        "outputId": "4b077d49-f72d-44d7-c8f8-1dfa130126a8"
      },
      "source": [
        "from nltk.classify.util import accuracy\n",
        "\n",
        "print(100 * accuracy(model, test_set))"
      ],
      "execution_count": 12,
      "outputs": [
        {
          "output_type": "stream",
          "text": [
            "56.25\n"
          ],
          "name": "stdout"
        }
      ]
    },
    {
      "cell_type": "code",
      "metadata": {
        "id": "yM4q7m7Y7Dca",
        "colab_type": "code",
        "colab": {
          "base_uri": "https://localhost:8080/",
          "height": 1000
        },
        "outputId": "f40fc90a-fa51-4d6a-fafd-d2048cb4a4d4"
      },
      "source": [
        "model.show_most_informative_features(100)"
      ],
      "execution_count": 15,
      "outputs": [
        {
          "output_type": "stream",
          "text": [
            "Most Informative Features\n",
            "                     let = 1                 pos : neg    =      5.7 : 1.0\n",
            "             ingredients = 1                 pos : neg    =      5.7 : 1.0\n",
            "                      us = 1                 pos : neg    =      5.0 : 1.0\n",
            "                   worst = 1                 neg : pos    =      5.0 : 1.0\n",
            "               following = 1                 neg : pos    =      5.0 : 1.0\n",
            "                probably = 1                 pos : neg    =      4.3 : 1.0\n",
            "                   three = 1                 pos : neg    =      4.3 : 1.0\n",
            "                   heard = 1                 pos : neg    =      3.8 : 1.0\n",
            "                     boy = 1                 neg : pos    =      3.7 : 1.0\n",
            "                 written = 1                 neg : pos    =      3.7 : 1.0\n",
            "                   bruce = 1                 pos : neg    =      3.7 : 1.0\n",
            "                   going = 1                 neg : pos    =      3.7 : 1.0\n",
            "                     new = 1                 neg : pos    =      3.4 : 1.0\n",
            "                    many = 1                 pos : neg    =      3.2 : 1.0\n",
            "                     bob = 1                 pos : neg    =      3.0 : 1.0\n",
            "                    want = 1                 pos : neg    =      3.0 : 1.0\n",
            "                    1997 = 1                 pos : neg    =      3.0 : 1.0\n",
            "                   sweet = 1                 pos : neg    =      3.0 : 1.0\n",
            "                  willis = 1                 pos : neg    =      3.0 : 1.0\n",
            "                    1999 = 1                 pos : neg    =      3.0 : 1.0\n",
            "              originally = 1                 pos : neg    =      3.0 : 1.0\n",
            "                pictures = 1                 pos : neg    =      3.0 : 1.0\n",
            "                    line = 1                 neg : pos    =      3.0 : 1.0\n",
            "                   silly = 1                 neg : pos    =      3.0 : 1.0\n",
            "                  second = 1                 pos : neg    =      3.0 : 1.0\n",
            "                 feature = 1                 neg : pos    =      3.0 : 1.0\n",
            "                    five = 1                 neg : pos    =      3.0 : 1.0\n",
            "                     kid = 1                 pos : neg    =      3.0 : 1.0\n",
            "                   never = 1                 neg : pos    =      2.7 : 1.0\n",
            "                     say = 1                 pos : neg    =      2.6 : 1.0\n",
            "                     man = 1                 pos : neg    =      2.4 : 1.0\n",
            "                   since = 1                 pos : neg    =      2.4 : 1.0\n",
            "                  robert = 1                 pos : neg    =      2.4 : 1.0\n",
            "                    days = 1                 neg : pos    =      2.4 : 1.0\n",
            "                synopsis = 1                 neg : pos    =      2.4 : 1.0\n",
            "         bastard_quickie = 1                 pos : neg    =      2.3 : 1.0\n",
            "            bruce_willis = 1                 pos : neg    =      2.3 : 1.0\n",
            "                brothers = 1                 neg : pos    =      2.3 : 1.0\n",
            "                    wild = 1                 neg : pos    =      2.3 : 1.0\n",
            "                  latest = 1                 neg : pos    =      2.3 : 1.0\n",
            "       bob_happy_bastard = 1                 pos : neg    =      2.3 : 1.0\n",
            "   happy_bastard_quickie = 1                 pos : neg    =      2.3 : 1.0\n",
            "                   place = 1                 pos : neg    =      2.3 : 1.0\n",
            "               one_thing = 1                 pos : neg    =      2.3 : 1.0\n",
            "                    make = 1                 neg : pos    =      2.3 : 1.0\n",
            "                 quickie = 1                 pos : neg    =      2.3 : 1.0\n",
            "             interesting = 1                 neg : pos    =      2.3 : 1.0\n",
            "                   knows = 1                 pos : neg    =      2.3 : 1.0\n",
            "                    hard = 1                 pos : neg    =      2.3 : 1.0\n",
            "                 science = 1                 pos : neg    =      2.3 : 1.0\n",
            "                  sequel = 1                 neg : pos    =      2.3 : 1.0\n",
            "                    show = 1                 pos : neg    =      2.3 : 1.0\n",
            "                  saying = 1                 pos : neg    =      2.3 : 1.0\n",
            "                   maybe = 1                 neg : pos    =      2.3 : 1.0\n",
            "                    self = 1                 pos : neg    =      2.3 : 1.0\n",
            "                      go = 1                 pos : neg    =      2.3 : 1.0\n",
            "                 richard = 1                 pos : neg    =      2.3 : 1.0\n",
            "         review_contains = 1                 neg : pos    =      2.3 : 1.0\n",
            "                    type = 1                 pos : neg    =      2.3 : 1.0\n",
            "                    team = 1                 pos : neg    =      2.3 : 1.0\n",
            "                   seems = 1                 neg : pos    =      2.3 : 1.0\n",
            "                    call = 1                 pos : neg    =      2.3 : 1.0\n",
            "                    read = 1                 pos : neg    =      2.3 : 1.0\n",
            "                 michael = 1                 neg : pos    =      2.3 : 1.0\n",
            "                   night = 1                 neg : pos    =      2.3 : 1.0\n",
            "               according = 1                 neg : pos    =      2.3 : 1.0\n",
            "                spoilers = 1                 neg : pos    =      2.3 : 1.0\n",
            "                  budget = 1                 pos : neg    =      2.3 : 1.0\n",
            "                    jean = 1                 neg : pos    =      2.3 : 1.0\n",
            "                thriller = 1                 neg : pos    =      2.3 : 1.0\n",
            "               bob_happy = 1                 pos : neg    =      2.3 : 1.0\n",
            "                   debut = 1                 pos : neg    =      2.3 : 1.0\n",
            "                     dog = 1                 pos : neg    =      2.3 : 1.0\n",
            "                   close = 1                 pos : neg    =      2.3 : 1.0\n",
            "                    part = 1                 pos : neg    =      2.3 : 1.0\n",
            "                    seen = 1                 pos : neg    =      2.2 : 1.0\n",
            "                    even = 1                 neg : pos    =      2.2 : 1.0\n",
            "                     got = 1                 pos : neg    =      2.2 : 1.0\n",
            "            may_consider = 1                 pos : neg    =      2.1 : 1.0\n",
            "       note_may_consider = 1                 pos : neg    =      2.1 : 1.0\n",
            "                note_may = 1                 pos : neg    =      2.1 : 1.0\n",
            "   may_consider_portions = 1                 pos : neg    =      2.1 : 1.0\n",
            "                portions = 1                 pos : neg    =      2.1 : 1.0\n",
            "       consider_portions = 1                 pos : neg    =      2.1 : 1.0\n",
            "                consider = 1                 pos : neg    =      2.1 : 1.0\n",
            "                   would = 1                 neg : pos    =      2.1 : 1.0\n",
            "                    note = 1                 pos : neg    =      2.1 : 1.0\n",
            "                     bad = 1                 neg : pos    =      2.1 : 1.0\n",
            "                  movies = 1                 neg : pos    =      2.0 : 1.0\n",
            "                  people = 1                 pos : neg    =      1.9 : 1.0\n",
            "                   think = 1                 neg : pos    =      1.9 : 1.0\n",
            "                    back = 1                 pos : neg    =      1.9 : 1.0\n",
            "                     set = 1                 pos : neg    =      1.9 : 1.0\n",
            "                   could = 1                 pos : neg    =      1.9 : 1.0\n",
            "                  summer = 1                 neg : pos    =      1.9 : 1.0\n",
            "                    much = 1                 neg : pos    =      1.9 : 1.0\n",
            "                     old = 1                 neg : pos    =      1.9 : 1.0\n",
            "                     men = 1                 neg : pos    =      1.8 : 1.0\n",
            "                   comes = 1                 neg : pos    =      1.8 : 1.0\n",
            "                   quick = 1                 neg : pos    =      1.8 : 1.0\n"
          ],
          "name": "stdout"
        }
      ]
    },
    {
      "cell_type": "markdown",
      "metadata": {
        "id": "I8UME2M85Mo_",
        "colab_type": "text"
      },
      "source": [
        "### Save the model\n",
        "Our trained model will be cleared from memory when this notebook is closed. So that we can use it again later, save the model as a file using the [pickle](https://docs.python.org/3/library/pickle.html) serializer."
      ]
    },
    {
      "cell_type": "code",
      "metadata": {
        "pycharm": {
          "name": "#%%\n"
        },
        "id": "My-rli4u5MpA",
        "colab_type": "code",
        "colab": {}
      },
      "source": [
        "import pickle\n",
        "\n",
        "model_file = open('sa_classifier.pickle','wb')\n",
        "pickle.dump(model, model_file)\n",
        "model_file.close()"
      ],
      "execution_count": 16,
      "outputs": []
    },
    {
      "cell_type": "markdown",
      "metadata": {
        "id": "zw-dewQV5MpC",
        "colab_type": "text"
      },
      "source": [
        "### Save the model (Colab version)\n",
        "\n",
        "Google Colab doesn't provide direct access to files saved during a notebook session, so we need to save it in [Google Drive](https://drive.google.com) instead. The first time you run this, it will ask for permission to access your Google Drive. Follow the instructions, then wait a few minutes and look for a new folder called \"Colab Output\" in [Drive](https://drive.google.com). Note that Colab does not alway sync to Drive immediately, so check the file update times and re-run this cell if it doesn't look like you have the most revent version of your file."
      ]
    },
    {
      "cell_type": "code",
      "metadata": {
        "id": "n0-RaiXW5MpD",
        "colab_type": "code",
        "colab": {
          "base_uri": "https://localhost:8080/",
          "height": 85
        },
        "outputId": "3d9aef07-65f4-486a-99a7-f63a131cca61"
      },
      "source": [
        "import sys\n",
        "if 'google.colab' in sys.modules:\n",
        "    from google.colab import drive\n",
        "    drive.mount('/content/gdrive')\n",
        "    !mkdir -p '/content/gdrive/My Drive/Colab Output'\n",
        "    model_file = open('/content/gdrive/My Drive/Colab Output/sa_classifier.pickle','wb')\n",
        "    pickle.dump(model, model_file)\n",
        "    model_file.flush()\n",
        "    print('Model saved in /content/gdrive/My Drive/Colab Output')\n",
        "    !ls '/content/gdrive/My Drive/Colab Output'\n",
        "    drive.flush_and_unmount()\n",
        "    print('Re-run this cell if you cannot find it in https://drive.google.com')"
      ],
      "execution_count": 17,
      "outputs": [
        {
          "output_type": "stream",
          "text": [
            "Mounted at /content/gdrive\n",
            "Model saved in /content/gdrive/My Drive/Colab Output\n",
            "sa_classifier.pickle\n",
            "Re-run this cell if you cannot find it in https://drive.google.com\n"
          ],
          "name": "stdout"
        }
      ]
    },
    {
      "cell_type": "code",
      "metadata": {
        "id": "3GatoErV7QVY",
        "colab_type": "code",
        "colab": {}
      },
      "source": [
        ""
      ],
      "execution_count": null,
      "outputs": []
    }
  ]
}