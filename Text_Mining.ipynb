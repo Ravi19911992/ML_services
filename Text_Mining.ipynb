{
  "nbformat": 4,
  "nbformat_minor": 0,
  "metadata": {
    "colab": {
      "name": "Text_Mining.ipynb",
      "provenance": [],
      "collapsed_sections": [],
      "authorship_tag": "ABX9TyOE/llanaEgxGjOHwuY/4r2",
      "include_colab_link": true
    },
    "kernelspec": {
      "name": "python3",
      "display_name": "Python 3"
    },
    "accelerator": "GPU"
  },
  "cells": [
    {
      "cell_type": "markdown",
      "metadata": {
        "id": "view-in-github",
        "colab_type": "text"
      },
      "source": [
        "<a href=\"https://colab.research.google.com/github/Ravi19911992/ML_services/blob/master/Text_Mining.ipynb\" target=\"_parent\"><img src=\"https://colab.research.google.com/assets/colab-badge.svg\" alt=\"Open In Colab\"/></a>"
      ]
    },
    {
      "cell_type": "code",
      "metadata": {
        "id": "zOkr57bFDtAV",
        "colab_type": "code",
        "colab": {
          "base_uri": "https://localhost:8080/",
          "height": 187
        },
        "outputId": "d30a30b1-5597-4b11-fa8c-acf78a43155b"
      },
      "source": [
        "#Setting up SQLLite database and Reddit API client\n",
        "# Importing PRAW and SQLITE3 Libraries\n",
        "!pip install PRAW"
      ],
      "execution_count": null,
      "outputs": [
        {
          "output_type": "stream",
          "text": [
            "Requirement already satisfied: PRAW in /usr/local/lib/python3.6/dist-packages (7.1.0)\n",
            "Requirement already satisfied: websocket-client>=0.54.0 in /usr/local/lib/python3.6/dist-packages (from PRAW) (0.57.0)\n",
            "Requirement already satisfied: update-checker>=0.17 in /usr/local/lib/python3.6/dist-packages (from PRAW) (0.17)\n",
            "Requirement already satisfied: prawcore<2.0,>=1.3.0 in /usr/local/lib/python3.6/dist-packages (from PRAW) (1.4.0)\n",
            "Requirement already satisfied: six in /usr/local/lib/python3.6/dist-packages (from websocket-client>=0.54.0->PRAW) (1.12.0)\n",
            "Requirement already satisfied: requests>=2.3.0 in /usr/local/lib/python3.6/dist-packages (from update-checker>=0.17->PRAW) (2.23.0)\n",
            "Requirement already satisfied: urllib3!=1.25.0,!=1.25.1,<1.26,>=1.21.1 in /usr/local/lib/python3.6/dist-packages (from requests>=2.3.0->update-checker>=0.17->PRAW) (1.24.3)\n",
            "Requirement already satisfied: idna<3,>=2.5 in /usr/local/lib/python3.6/dist-packages (from requests>=2.3.0->update-checker>=0.17->PRAW) (2.10)\n",
            "Requirement already satisfied: certifi>=2017.4.17 in /usr/local/lib/python3.6/dist-packages (from requests>=2.3.0->update-checker>=0.17->PRAW) (2020.6.20)\n",
            "Requirement already satisfied: chardet<4,>=3.0.2 in /usr/local/lib/python3.6/dist-packages (from requests>=2.3.0->update-checker>=0.17->PRAW) (3.0.4)\n"
          ],
          "name": "stdout"
        }
      ]
    },
    {
      "cell_type": "code",
      "metadata": {
        "id": "FPZxcwWRQYfD",
        "colab_type": "code",
        "colab": {
          "base_uri": "https://localhost:8080/",
          "height": 598
        },
        "outputId": "b940be7c-00a3-4301-f2d4-4836bb617b42"
      },
      "source": [
        "!pip install pysqlite3"
      ],
      "execution_count": null,
      "outputs": [
        {
          "output_type": "stream",
          "text": [
            "Collecting pysqlite3\n",
            "  Using cached https://files.pythonhosted.org/packages/ca/e4/38f120cb2277b7931503ad5fe371a66fe780508f79b3793e3775f7fd819e/pysqlite3-0.4.3.tar.gz\n",
            "Building wheels for collected packages: pysqlite3\n",
            "\u001b[33m  WARNING: Legacy build of wheel for 'pysqlite3' created no files.\n",
            "  Command arguments: /usr/bin/python3 -u -c 'import sys, setuptools, tokenize; sys.argv[0] = '\"'\"'/tmp/pip-install-x3ez7nd7/pysqlite3/setup.py'\"'\"'; __file__='\"'\"'/tmp/pip-install-x3ez7nd7/pysqlite3/setup.py'\"'\"';f=getattr(tokenize, '\"'\"'open'\"'\"', open)(__file__);code=f.read().replace('\"'\"'\\r\\n'\"'\"', '\"'\"'\\n'\"'\"');f.close();exec(compile(code, __file__, '\"'\"'exec'\"'\"'))' bdist_wheel -d /tmp/pip-wheel-m9fl1qpk --python-tag cp36\n",
            "  Command output:\n",
            "  running bdist_wheel\n",
            "  running build\n",
            "  running build_py\n",
            "  creating build\n",
            "  creating build/lib.linux-x86_64-3.6\n",
            "  creating build/lib.linux-x86_64-3.6/pysqlite3\n",
            "  copying pysqlite3/__init__.py -> build/lib.linux-x86_64-3.6/pysqlite3\n",
            "  copying pysqlite3/dbapi2.py -> build/lib.linux-x86_64-3.6/pysqlite3\n",
            "  running build_ext\n",
            "  Builds a C extension linking against libsqlite3 library\n",
            "  building 'pysqlite3._sqlite3' extension\n",
            "  creating build/temp.linux-x86_64-3.6\n",
            "  creating build/temp.linux-x86_64-3.6/src\n",
            "  x86_64-linux-gnu-gcc -pthread -DNDEBUG -g -fwrapv -O2 -Wall -g -fstack-protector-strong -Wformat -Werror=format-security -Wdate-time -D_FORTIFY_SOURCE=2 -fPIC -DMODULE_NAME=\"pysqlite3.dbapi2\" -I/usr/include -I/usr/include/python3.6m -c src/module.c -o build/temp.linux-x86_64-3.6/src/module.o\n",
            "  In file included from src/module.c:24:0:\n",
            "  src/connection.h:34:10: fatal error: sqlite3.h: No such file or directory\n",
            "   #include \"sqlite3.h\"\n",
            "            ^~~~~~~~~~~\n",
            "  compilation terminated.\n",
            "  error: command 'x86_64-linux-gnu-gcc' failed with exit status 1\n",
            "  ----------------------------------------\u001b[0m\n",
            "  Building wheel for pysqlite3 (setup.py) ... \u001b[?25l\u001b[?25hdone\n",
            "  Running setup.py clean for pysqlite3\n",
            "Failed to build pysqlite3\n",
            "Installing collected packages: pysqlite3\n",
            "    Running setup.py install for pysqlite3 ... \u001b[?25l\u001b[?25hdone\n",
            "Successfully installed pysqlite3\n"
          ],
          "name": "stdout"
        }
      ]
    },
    {
      "cell_type": "code",
      "metadata": {
        "id": "NUc7dJ5ERfdM",
        "colab_type": "code",
        "colab": {}
      },
      "source": [
        "import praw\n",
        "import sqlite3"
      ],
      "execution_count": null,
      "outputs": []
    },
    {
      "cell_type": "code",
      "metadata": {
        "id": "Q501eddzQ1Iv",
        "colab_type": "code",
        "colab": {}
      },
      "source": [
        "# Set up connection to SQLite database \n",
        "conn = sqlite3.connect('reddit.db')\n",
        "c= conn.cursor()"
      ],
      "execution_count": null,
      "outputs": []
    },
    {
      "cell_type": "code",
      "metadata": {
        "id": "QZeyBcl-RbZs",
        "colab_type": "code",
        "colab": {
          "base_uri": "https://localhost:8080/",
          "height": 34
        },
        "outputId": "94dfac62-ab9c-41cd-c90c-6d13e21cf81d"
      },
      "source": [
        "#Execute SQL statements to create topics and comments table\n",
        "c.execute('''DROP TABLE IF EXISTS topics''')\n",
        "c.execute('''DROP TABLE IF EXISTS comments''')\n",
        "c.execute('''CREATE TABLE topics\n",
        "             (topicTitle text, topicText text, topicID text, topicCategory text)''')\n",
        "c.execute('''CREATE TABLE comments\n",
        "             (commentText text, commentID text, topicTitle text, topicText text, topicID text, topicCategory text)''')"
      ],
      "execution_count": null,
      "outputs": [
        {
          "output_type": "execute_result",
          "data": {
            "text/plain": [
              "<sqlite3.Cursor at 0x7f9bc77e0340>"
            ]
          },
          "metadata": {
            "tags": []
          },
          "execution_count": 28
        }
      ]
    },
    {
      "cell_type": "code",
      "metadata": {
        "id": "dR5ItTJeRmQw",
        "colab_type": "code",
        "colab": {}
      },
      "source": [
        "# Creating PRAW user agent so we can use Reddit API\n",
        "user_agent = 'Introducing Data Science Book'\n",
        "r = praw.Reddit(user_agent = user_agent, client_id= 'N6yUGyyHAd4ouw', client_secret='egSDy7Ga83MxslmBYXWZ_PNofNw')"
      ],
      "execution_count": null,
      "outputs": []
    },
    {
      "cell_type": "code",
      "metadata": {
        "id": "3lTgmit0RoMp",
        "colab_type": "code",
        "colab": {}
      },
      "source": [
        "# List of subreddits we'll draw into SQLite database\n",
        "subreddits = ['datascience', 'gameofthrones']"
      ],
      "execution_count": null,
      "outputs": []
    },
    {
      "cell_type": "code",
      "metadata": {
        "id": "HXJ8PMp8Rr3j",
        "colab_type": "code",
        "colab": {}
      },
      "source": [
        "#Max number of posts we fetch from Reddit per category\n",
        "limit=1000"
      ],
      "execution_count": null,
      "outputs": []
    },
    {
      "cell_type": "code",
      "metadata": {
        "id": "-PKANRkZR4Gb",
        "colab_type": "code",
        "colab": {
          "base_uri": "https://localhost:8080/",
          "height": 1000
        },
        "outputId": "d2f63361-a836-4d11-8090-e6ffd7e201f7"
      },
      "source": [
        "%%time\n",
        "\n",
        "#Reddit Data retieval and storage in SQLite\n",
        "def prawGetData(limit, subredditName):\n",
        "    topics = r.subreddit(subredditName).hot(limit=limit)\n",
        "    commentInsert =[]\n",
        "    topicInsert = []\n",
        "    topicNBR=1\n",
        "    for topic in topics:\n",
        "        if (float(topicNBR)/limit)*100 in range(1,100):\n",
        "            print ('********* TOPIC:' + str(topic.id) + ' ******COMPLETE: ' + str((float(topicNBR)/limit)*100) + ' % ****')\n",
        "        topicNBR += 1\n",
        "        try:\n",
        "            topicInsert.append((topic.title, topic.selftext, topic.id, subredditName))\n",
        "        except:\n",
        "            pass\n",
        "        try:\n",
        "            for comment in topic.comments:\n",
        "                commentInsert.append((comment.body,comment.id, topic.title.topic.selftext, topic.id, subredditName))\n",
        "        except:\n",
        "            pass\n",
        "    print('***********************************')\n",
        "    print('INSERTING DATA INTO SQLITE')\n",
        "    c.executemany('INSERT INTO topics VALUES (?,?,?,?)', topicInsert)\n",
        "    print('INSERTED TOPICS')\n",
        "    c.executemany('INSERT INTO comments VALUES (?,?,?,?,?,?)', commentInsert)\n",
        "    print('INSERTED COMMENTS')\n",
        "    conn.commit()\n",
        "    \n",
        "for subject in subreddits:\n",
        "    prawGetData(limit=limit, subredditName=subject)"
      ],
      "execution_count": null,
      "outputs": [
        {
          "output_type": "stream",
          "text": [
            "********* TOPIC:hrr9q9 ******COMPLETE: 1.0 % ****\n",
            "********* TOPIC:hrazsq ******COMPLETE: 2.0 % ****\n",
            "********* TOPIC:hqjsxp ******COMPLETE: 3.0 % ****\n",
            "********* TOPIC:hpf2zb ******COMPLETE: 4.0 % ****\n",
            "********* TOPIC:hop5xd ******COMPLETE: 5.0 % ****\n",
            "********* TOPIC:hnmu71 ******COMPLETE: 6.0 % ****\n",
            "********* TOPIC:hmhg9v ******COMPLETE: 8.0 % ****\n",
            "********* TOPIC:hlxnqg ******COMPLETE: 9.0 % ****\n",
            "********* TOPIC:hl7w3p ******COMPLETE: 10.0 % ****\n",
            "********* TOPIC:hkbjlj ******COMPLETE: 11.0 % ****\n",
            "********* TOPIC:hjy0u0 ******COMPLETE: 12.0 % ****\n",
            "********* TOPIC:hjokfq ******COMPLETE: 13.0 % ****\n",
            "********* TOPIC:hi7m46 ******COMPLETE: 15.0 % ****\n",
            "********* TOPIC:hho725 ******COMPLETE: 16.0 % ****\n",
            "********* TOPIC:hgfzws ******COMPLETE: 17.0 % ****\n",
            "********* TOPIC:hg27ht ******COMPLETE: 18.0 % ****\n",
            "********* TOPIC:heyi95 ******COMPLETE: 19.0 % ****\n",
            "********* TOPIC:he41c8 ******COMPLETE: 20.0 % ****\n",
            "********* TOPIC:hdip81 ******COMPLETE: 21.0 % ****\n",
            "********* TOPIC:hdgzaw ******COMPLETE: 22.0 % ****\n",
            "********* TOPIC:hdaaoo ******COMPLETE: 23.0 % ****\n",
            "********* TOPIC:hcne52 ******COMPLETE: 24.0 % ****\n",
            "********* TOPIC:hc30gj ******COMPLETE: 25.0 % ****\n",
            "********* TOPIC:haku70 ******COMPLETE: 26.0 % ****\n",
            "********* TOPIC:hagidj ******COMPLETE: 27.0 % ****\n",
            "********* TOPIC:h7gna8 ******COMPLETE: 30.0 % ****\n",
            "********* TOPIC:h03s6t ******COMPLETE: 31.0 % ****\n",
            "********* TOPIC:gyv6to ******COMPLETE: 32.0 % ****\n",
            "********* TOPIC:gxwntt ******COMPLETE: 33.0 % ****\n",
            "********* TOPIC:gx2bg2 ******COMPLETE: 34.0 % ****\n",
            "********* TOPIC:gwa6nt ******COMPLETE: 35.0 % ****\n",
            "********* TOPIC:gvzaik ******COMPLETE: 36.0 % ****\n",
            "********* TOPIC:gvgc0f ******COMPLETE: 37.0 % ****\n",
            "********* TOPIC:guafw0 ******COMPLETE: 38.0 % ****\n",
            "********* TOPIC:gtzaeo ******COMPLETE: 39.0 % ****\n",
            "********* TOPIC:gt7wv3 ******COMPLETE: 40.0 % ****\n",
            "********* TOPIC:grmbms ******COMPLETE: 41.0 % ****\n",
            "********* TOPIC:grgc0e ******COMPLETE: 42.0 % ****\n",
            "********* TOPIC:gp98rt ******COMPLETE: 43.0 % ****\n",
            "********* TOPIC:go2joo ******COMPLETE: 44.0 % ****\n",
            "********* TOPIC:gn9eu6 ******COMPLETE: 45.0 % ****\n",
            "********* TOPIC:gm3yh7 ******COMPLETE: 46.0 % ****\n",
            "********* TOPIC:gk9ggo ******COMPLETE: 47.0 % ****\n",
            "********* TOPIC:gjd820 ******COMPLETE: 48.0 % ****\n",
            "********* TOPIC:gh93qv ******COMPLETE: 49.0 % ****\n",
            "********* TOPIC:ggin49 ******COMPLETE: 50.0 % ****\n",
            "********* TOPIC:gfx9s1 ******COMPLETE: 51.0 % ****\n",
            "********* TOPIC:gehca6 ******COMPLETE: 52.0 % ****\n",
            "********* TOPIC:gcnv6y ******COMPLETE: 53.0 % ****\n",
            "********* TOPIC:gb41m8 ******COMPLETE: 54.0 % ****\n",
            "********* TOPIC:g3gwbv ******COMPLETE: 59.0 % ****\n",
            "********* TOPIC:g17928 ******COMPLETE: 60.0 % ****\n",
            "********* TOPIC:g00c3a ******COMPLETE: 61.0 % ****\n",
            "***********************************\n",
            "INSERTING DATA INTO SQLITE\n",
            "INSERTED TOPICS\n",
            "INSERTED COMMENTS\n",
            "********* TOPIC:hrv7ma ******COMPLETE: 1.0 % ****\n",
            "********* TOPIC:hr1l6t ******COMPLETE: 2.0 % ****\n",
            "********* TOPIC:hpwucf ******COMPLETE: 3.0 % ****\n",
            "********* TOPIC:hqo338 ******COMPLETE: 4.0 % ****\n",
            "********* TOPIC:hputit ******COMPLETE: 5.0 % ****\n",
            "********* TOPIC:hpzre9 ******COMPLETE: 6.0 % ****\n",
            "********* TOPIC:hpchex ******COMPLETE: 8.0 % ****\n",
            "********* TOPIC:hosgis ******COMPLETE: 9.0 % ****\n",
            "********* TOPIC:howwdx ******COMPLETE: 10.0 % ****\n",
            "********* TOPIC:hob6bx ******COMPLETE: 11.0 % ****\n",
            "********* TOPIC:ho7fg6 ******COMPLETE: 12.0 % ****\n",
            "********* TOPIC:ho419s ******COMPLETE: 13.0 % ****\n",
            "********* TOPIC:hnm338 ******COMPLETE: 15.0 % ****\n",
            "********* TOPIC:hnbezk ******COMPLETE: 16.0 % ****\n",
            "********* TOPIC:hn15ux ******COMPLETE: 17.0 % ****\n",
            "********* TOPIC:hmt4l1 ******COMPLETE: 18.0 % ****\n",
            "********* TOPIC:hlzavb ******COMPLETE: 19.0 % ****\n",
            "********* TOPIC:hlkbug ******COMPLETE: 20.0 % ****\n",
            "********* TOPIC:hldjn2 ******COMPLETE: 21.0 % ****\n",
            "********* TOPIC:hlaoh8 ******COMPLETE: 22.0 % ****\n",
            "********* TOPIC:hkkny0 ******COMPLETE: 23.0 % ****\n",
            "********* TOPIC:hkph1o ******COMPLETE: 24.0 % ****\n",
            "********* TOPIC:hkb0na ******COMPLETE: 25.0 % ****\n",
            "********* TOPIC:hj1uy4 ******COMPLETE: 26.0 % ****\n",
            "********* TOPIC:hjsmve ******COMPLETE: 27.0 % ****\n",
            "********* TOPIC:hiqz7w ******COMPLETE: 30.0 % ****\n",
            "********* TOPIC:hhho38 ******COMPLETE: 31.0 % ****\n",
            "********* TOPIC:hicrsj ******COMPLETE: 32.0 % ****\n",
            "********* TOPIC:hhrbgu ******COMPLETE: 33.0 % ****\n",
            "********* TOPIC:hgse40 ******COMPLETE: 34.0 % ****\n",
            "********* TOPIC:hhefae ******COMPLETE: 35.0 % ****\n",
            "********* TOPIC:hh8t6d ******COMPLETE: 36.0 % ****\n",
            "********* TOPIC:hghlfn ******COMPLETE: 37.0 % ****\n",
            "********* TOPIC:hf8w5v ******COMPLETE: 38.0 % ****\n",
            "********* TOPIC:hfyzu2 ******COMPLETE: 39.0 % ****\n",
            "********* TOPIC:hfmhc1 ******COMPLETE: 40.0 % ****\n",
            "********* TOPIC:hfjof7 ******COMPLETE: 41.0 % ****\n",
            "********* TOPIC:hf6kvk ******COMPLETE: 42.0 % ****\n",
            "********* TOPIC:hem7y4 ******COMPLETE: 43.0 % ****\n",
            "********* TOPIC:hedgfk ******COMPLETE: 44.0 % ****\n",
            "********* TOPIC:henvlq ******COMPLETE: 45.0 % ****\n",
            "********* TOPIC:hd54ez ******COMPLETE: 46.0 % ****\n",
            "********* TOPIC:hdo9ii ******COMPLETE: 47.0 % ****\n",
            "********* TOPIC:hdbupw ******COMPLETE: 48.0 % ****\n",
            "********* TOPIC:hd049k ******COMPLETE: 49.0 % ****\n",
            "********* TOPIC:hcslul ******COMPLETE: 50.0 % ****\n",
            "********* TOPIC:hckkjf ******COMPLETE: 51.0 % ****\n",
            "********* TOPIC:hcaqjt ******COMPLETE: 52.0 % ****\n",
            "********* TOPIC:hbl38p ******COMPLETE: 53.0 % ****\n",
            "********* TOPIC:hbtnrj ******COMPLETE: 54.0 % ****\n",
            "***********************************\n",
            "INSERTING DATA INTO SQLITE\n",
            "INSERTED TOPICS\n",
            "INSERTED COMMENTS\n",
            "CPU times: user 7.14 s, sys: 185 ms, total: 7.33 s\n",
            "Wall time: 6min 19s\n"
          ],
          "name": "stdout"
        }
      ]
    },
    {
      "cell_type": "code",
      "metadata": {
        "id": "pb0xQnGcSEh1",
        "colab_type": "code",
        "colab": {
          "base_uri": "https://localhost:8080/",
          "height": 85
        },
        "outputId": "d10306ac-654e-4a8d-8ed5-033af1bf72ce"
      },
      "source": [
        "#Import all required Libraries\n",
        "\n",
        "import sqlite3\n",
        "import nltk\n",
        "import matplotlib.pyplot as plt\n",
        "from collections import OrderedDict\n",
        "import random\n",
        "\n",
        "nltk.download('punkt')\n",
        "nltk.download('stopwords')\n",
        "\n",
        "# Make a connection to SQLite database that contains our Reddit data\n",
        "conn = sqlite3.connect('reddit.db')\n",
        "c= conn.cursor()"
      ],
      "execution_count": null,
      "outputs": [
        {
          "output_type": "stream",
          "text": [
            "[nltk_data] Downloading package punkt to /root/nltk_data...\n",
            "[nltk_data]   Package punkt is already up-to-date!\n",
            "[nltk_data] Downloading package stopwords to /root/nltk_data...\n",
            "[nltk_data]   Package stopwords is already up-to-date!\n"
          ],
          "name": "stdout"
        }
      ]
    },
    {
      "cell_type": "code",
      "metadata": {
        "id": "DrLtIrs5VpE1",
        "colab_type": "code",
        "colab": {}
      },
      "source": [
        "# Wordfiltering and lowercasing functions. Wordfilter function will remove a term from array of terms\n",
        "def wordFilter(excluded, wordrow):\n",
        "    filtered = [word for word in wordrow if word not in excluded]\n",
        "    return filtered\n",
        "stopwords = nltk.corpus.stopwords.words('english')\n",
        "def lowercaseArray(wordrow):\n",
        "    lowercased = [word.lower() for word in wordrow]\n",
        "    return lowercased"
      ],
      "execution_count": null,
      "outputs": []
    },
    {
      "cell_type": "code",
      "metadata": {
        "id": "qAPWNbDDVsGl",
        "colab_type": "code",
        "colab": {
          "base_uri": "https://localhost:8080/",
          "height": 54
        },
        "outputId": "67367bd0-e918-4541-e984-d8074d6db192"
      },
      "source": [
        "#stopwords\n",
        "\n",
        "stopwords = nltk.corpus.stopwords.words('english')\n",
        "print(stopwords)"
      ],
      "execution_count": null,
      "outputs": [
        {
          "output_type": "stream",
          "text": [
            "['i', 'me', 'my', 'myself', 'we', 'our', 'ours', 'ourselves', 'you', \"you're\", \"you've\", \"you'll\", \"you'd\", 'your', 'yours', 'yourself', 'yourselves', 'he', 'him', 'his', 'himself', 'she', \"she's\", 'her', 'hers', 'herself', 'it', \"it's\", 'its', 'itself', 'they', 'them', 'their', 'theirs', 'themselves', 'what', 'which', 'who', 'whom', 'this', 'that', \"that'll\", 'these', 'those', 'am', 'is', 'are', 'was', 'were', 'be', 'been', 'being', 'have', 'has', 'had', 'having', 'do', 'does', 'did', 'doing', 'a', 'an', 'the', 'and', 'but', 'if', 'or', 'because', 'as', 'until', 'while', 'of', 'at', 'by', 'for', 'with', 'about', 'against', 'between', 'into', 'through', 'during', 'before', 'after', 'above', 'below', 'to', 'from', 'up', 'down', 'in', 'out', 'on', 'off', 'over', 'under', 'again', 'further', 'then', 'once', 'here', 'there', 'when', 'where', 'why', 'how', 'all', 'any', 'both', 'each', 'few', 'more', 'most', 'other', 'some', 'such', 'no', 'nor', 'not', 'only', 'own', 'same', 'so', 'than', 'too', 'very', 's', 't', 'can', 'will', 'just', 'don', \"don't\", 'should', \"should've\", 'now', 'd', 'll', 'm', 'o', 're', 've', 'y', 'ain', 'aren', \"aren't\", 'couldn', \"couldn't\", 'didn', \"didn't\", 'doesn', \"doesn't\", 'hadn', \"hadn't\", 'hasn', \"hasn't\", 'haven', \"haven't\", 'isn', \"isn't\", 'ma', 'mightn', \"mightn't\", 'mustn', \"mustn't\", 'needn', \"needn't\", 'shan', \"shan't\", 'shouldn', \"shouldn't\", 'wasn', \"wasn't\", 'weren', \"weren't\", 'won', \"won't\", 'wouldn', \"wouldn't\"]\n"
          ],
          "name": "stdout"
        }
      ]
    },
    {
      "cell_type": "code",
      "metadata": {
        "id": "TUftyXhqVuDw",
        "colab_type": "code",
        "colab": {}
      },
      "source": [
        "# Data Preparation and execution\n",
        "def data_processing(sql):\n",
        "    c.execute(sql) # create pointer to AWLite Data\n",
        "    data = {'wordMatrix' : [], 'all_words' : []}\n",
        "    row = c.fetchone() # Fetch Data row by row\n",
        "    while row is not None:\n",
        "        wordrow = nltk.tokenize.word_tokenize(row[0] + \" \" + row[1]) #row[0] is title, row[1] is topic text\n",
        "        wordrow_lowercased = lowercaseArray(wordrow)\n",
        "        wordrow_nostopwords = wordFilter(stopwords, wordrow_lowercased)\n",
        "        data['all_words'].extend(wordrow_nostopwords)\n",
        "        data['wordMatrix'].append(wordrow_nostopwords) # comprised of word vectors, 1 vector per document\n",
        "        row = c.fetchone() # Get new document to SQLite\n",
        "    return data\n",
        "\n",
        "subreddits = ['datascience', 'gameofthrones']\n",
        "data = {}\n",
        "for subject in subreddits:\n",
        "    data[subject] = data_processing(sql ='''SELECT topicTitle, topicText, topicCategory FROM topics WHERE topicCategory= ''' + \"'\" + subject + \"'\")"
      ],
      "execution_count": null,
      "outputs": []
    },
    {
      "cell_type": "code",
      "metadata": {
        "id": "Q2lG10LlVxn_",
        "colab_type": "code",
        "colab": {
          "base_uri": "https://localhost:8080/",
          "height": 54
        },
        "outputId": "55ada4eb-b614-4055-9dfd-aa73cef871f1"
      },
      "source": [
        "print(data['datascience']['wordMatrix'][0])"
      ],
      "execution_count": null,
      "outputs": [
        {
          "output_type": "stream",
          "text": [
            "['weekly', 'entering', '&', 'transitioning', 'thread', '|', '12', 'jul', '2020', '-', '19', 'jul', '2020', 'welcome', 'week', \"'s\", 'entering', '&', 'transitioning', 'thread', '!', 'thread', 'questions', 'getting', 'started', ',', 'studying', ',', 'transitioning', 'data', 'science', 'field', '.', 'topics', 'include', ':', '*', 'learning', 'resources', '(', 'e.g', '.', 'books', ',', 'tutorials', ',', 'videos', ')', '*', 'traditional', 'education', '(', 'e.g', '.', 'schools', ',', 'degrees', ',', 'electives', ')', '*', 'alternative', 'education', '(', 'e.g', '.', 'online', 'courses', ',', 'bootcamps', ')', '*', 'job', 'search', 'questions', '(', 'e.g', '.', 'resumes', ',', 'applying', ',', 'career', 'prospects', ')', '*', 'elementary', 'questions', '(', 'e.g', '.', 'start', ',', 'next', ')', 'wait', 'answers', 'community', ',', 'check', '[', 'faq', ']', '(', 'https', ':', '//www.reddit.com/r/datascience/wiki/frequently-asked-questions', ')', '[', 'resources', ']', '(', 'resources', ')', 'pages', 'wiki', '.', 'also', 'search', 'answers', '[', 'past', 'weekly', 'threads', ']', '(', 'https', ':', '//www.reddit.com/r/datascience/search', '?', 'q=weekly', '%', '20thread', '&', 'restrict_sr=1', '&', 'sort=new', ')', '.']\n"
          ],
          "name": "stdout"
        }
      ]
    },
    {
      "cell_type": "code",
      "metadata": {
        "id": "4jWYa5LzV8QO",
        "colab_type": "code",
        "colab": {
          "base_uri": "https://localhost:8080/",
          "height": 513
        },
        "outputId": "d5141529-3dc5-4a82-d5d0-564ae5cbe76a"
      },
      "source": [
        "#Frequenncy Distribution\n",
        "wordfreqs_cat1 = nltk.FreqDist(data['datascience']['all_words'])\n",
        "plt.hist(wordfreqs_cat1.values(), bins = range(10))\n",
        "plt.show()\n",
        "wordfreqs_cat2 = nltk.FreqDist(data['gameofthrones']['all_words'])\n",
        "plt.hist(wordfreqs_cat2.values(), bins = range(20))\n",
        "plt.show()"
      ],
      "execution_count": null,
      "outputs": [
        {
          "output_type": "display_data",
          "data": {
            "image/png": "[encoded data removed]",
            "text/plain": [
              "<Figure size 432x288 with 1 Axes>"
            ]
          },
          "metadata": {
            "tags": [],
            "needs_background": "light"
          }
        },
        {
          "output_type": "display_data",
          "data": {
            "image/png": "[encoded data removed]",
            "text/plain": [
              "<Figure size 432x288 with 1 Axes>"
            ]
          },
          "metadata": {
            "tags": [],
            "needs_background": "light"
          }
        }
      ]
    },
    {
      "cell_type": "code",
      "metadata": {
        "id": "sXovLg-zWW8W",
        "colab_type": "code",
        "colab": {
          "base_uri": "https://localhost:8080/",
          "height": 71
        },
        "outputId": "f8e9cf23-d290-4e6b-9a72-6d5c3d4596e6"
      },
      "source": [
        "# Single-occurrence terms such as these are called hapaxes, and model-wise they’re useless because a single occurrence of a feature is never enough to build a reliable model.\n",
        "print(wordfreqs_cat1.hapaxes())\n",
        "print(wordfreqs_cat2.hapaxes())"
      ],
      "execution_count": null,
      "outputs": [
        {
          "output_type": "stream",
          "text": [
            "['non-deep', 'xgb', 'tree/flow', '//www.pnrjournal.com/viewimage.asp', 'img=jpharmnegativeresults_2010_1_2_61_75708_f1.jpg', 'guest', 'downhill', 'granular', 'authority', 'tonne', 'corrected', 'whilst', 'conflicting', 'easiest', 'golden', 'algos', 'reliant', 'blunt', 'career/skill', 'undertake', 'procurement', 'requesting', 'open-ended', '**any**', 'bigrams/trigrams', 'lemmatizing', 'sustainable', 'distinct', 'headers', '`import', 'pd', 'warnings', 'language_check', 'spacy', 'nltk', 'sent_tokenize', 'nltk.tokenize', 'gensim', 'gensim.corpora', 'language_check.languagetool', \"'en-us\", 'spacy.load', 'en_core_web_sm', 'warnings.filterwarnings', 'word.translate', 'str.maketrans', '.replace', 'tool.check', 'm.category', \"'redundant\", \"'capitalization\", \"'redundancy\", \"'plain\", 'm.locqualityissuetype', \"'style\", \"'uncategorized\", 'm.ruleid', \"='morfologik_rule_en_us\", 'm.msg', \"='possible\", 'spelling', 'm.replacements', 'tool.correct', 'language_check.correct', 'token.lower_', '.isnumeric', 't.isnumeric', 'token.lemma_', \"'/path'\", \"'file_name.csv\", \"sep='|\", \"encoding='utf-8\", \"'stopwords.csv\", 'header=0', 'stop.stopwords.tolist', 'string.ascii_lowercase', 'string.digits', \"'/\", \"'+\", \"'n/a\", \"'10\", \"'100\", \"'like\", \"'love\", \"'nan\", \"'ton\", \"'-pron-\", \"'good\", \"'best\", \"'better\", \"'few\", \"'many\", \"'least\", \"'have\", \"'find\", \"'years\", \"'less\", \"'little\", \"'never'\", \"'name\", \"'high\", \"'newer\", \"'small\", \"'young\", \"'everything\", \"'anywhere\", 'minus', 'common_terms', 'ignore+', \"'q5\", '.astype', 'str', '.str.replace', '.str.strip', \"'q5_valid\", 'oe.q5_tokens.astype', 'bool', 'oe.q5_valid', '.unique', 'dictionary.filter_extremes', 'no_below=3', 'no_above=0.95', 'dictionary.doc2bow', 'gensim.models.tfidfmodel', 'dictionary=dictionary', 'normalize=true', 'tf_idf_lda_model', 'corpus=tfidf_corpus', 'id2word=dictionary', 'num_topics=8', 'random_state=100', 'chunksize=1000', 'passes=20', 'iterations', 'minimum_probability=0.52', 'workers=2', 'tf_idf_lda_model.top_topics', 'consumers', 'pseudonymized', 'non-anonymous', 'b/w', 'enablement', 'discovered', 'south', 'asia', 'abroad', 'abroad/work', 'australia', 'countries/universities', 'diploma', 'accommodation', '60k-65k', 'computer/data', 'privilege', 'icml', 're-used', 'endorsement', 'signature', 'admitted', 'inexperienced', 'reviews/suggestions', '3+', \"'distributions\", 'atm', 'divided', 'this-', 'loads', 'x_percentile_10', 'x_median', 'x_percentile_90', 'y_std', 'etc-', 'bussiness', 'thechnical', 'shortcomings', 'showcased', 'reiterate', 'accomplished', 'reverting', 'shortcoming', 'shifted', 'grinding', 'shuffled', 'notebooks/.py', 'method/way', 'company/team', 'codebase/tools', 'code/juptyer', '\\\\~2.5', 'unfinished', 'co-worker', 're-using', 'accessed/still', 'accesses', 'edits', 'readme', 'fast-forward', 'shadowing', 'jumping', 'untitled', 'tools/automate', 'floating', 'codebases', 'bajillion', 'debugger', 'xeus-python', 'jupyterdash', 'extension', 'completion', 'tba', 'quality-of-life', 'big-picture', 'amateur', 'categorization', 'transportation', 'legal', 'construction', 'staffing', 'manufacturing', 'ten', 'b*', 'fuzzy', 'inc', 'conditioning', '-if', 'accomplishes', 'websites/apis', 'learning/nlp', 'models/techniques', 'backend/rest', 'frontend', 'i/the', 'work-time', 'should/can', 'engineering/developing', 'developer/engineer', 'specialisation', 'directors/vps', 'hivemind', 'managers/people', 'panels', 'senior/principal\\\\', '4+', 'weeds', 'frustrates', 'technical-round', '6-8', 'directors', 'vps', 'rant-like', 'grammar/details', 'reshaping', 'casting', '-extracted', '-used', 'rid', '-threw', 'semi', '10,000+', 'already-labeled', 'ingesting', 'coordinate', 'pairs', 'alongside', 'steer', 'automates', 'user/customer', 'btws', 'holders', 'island', 're-familiarize', 're-familiarization', 'internalizing', 'schooling', 'bout', 'spanning', '**from', 'gotchas', 'ml/dl/', 'efficiently', 'internals', 'descent', 'taught/used', 'bytes', 'represent/store', 'structures/algorithms', 'lookup', 'hash', 'iterable', 'refresh', 'hashable', 'mutable', 'remembered', 'midwestern', 'unicorn', 'dime', 'admit', 'ridiculously', 'ds/analytics/statistical', 'gifted', 'doubly', 'spoiled', 'grain', 'salt', 'school/still', 'survivors', 'predict/explain', 'neatly', '**impact', 'msr', 'unheard', 'and/mentors', 'adapt', 'talented', '*senior*', 'l3', 'l4', 'l5', 'misunderstood', 'leveling', 'resentful', 'levels.fyi', 'equivalence', '**find', 'sessions', 'favor', 'forums', '**strike', 'valued', 'orthogonal', 'toolkit', '~2-3', 'lifelong', 'endeavor', 'negotiator', 'half-way', 'breather', 'vacations', 'endless', 'rat-race', '5-6', 'everyday', 'contradictory', 'time-span', 'teller', '**don', 'scientists/ml', 'farther', 'loathe', 'doxxed', 'sidestep', 'oil/gas', 'stone', 'five', 'concerning', 'role/situation', 'formally', \"'stats\", 'infancy', 'thankfully', 'learning/training', 'esl', 'prml', 'maths/natural', 'consolidating', 'breath', 'escape', 'oversell', 'under-qualified', 'knowledgebase', 'managerial', 'displayed', 'fellows', 'tomatoes', 'yielded', 'kitchen', 'garden', '83', '//drive.google.com/file/d/18nigw7snz3qi2npq7qmffbdph9rh7spk/view', 'usp=drivesdk', 'vertical', 'red', 'training/testing', 'shout', 'spotlight', 'pursing', 'waking', 'appreciation', '/rant', 'stumbled', 'stairs', '2020-07-11', 'mary', '2020-07-10', 'predict_proba', 'exacly', 'probabilty', 'arguing', 'cleaning/', 'organizing/', 'non-data', 'mins', 'nonparametric', 'ing', 'u', 'look/give', 'fabulous', 'convo', 'apprecaite', 'tsne', 'compelling', '//imgur.com/jdjfwaw', 'menial', 'gopher', 'yelled', 'whopping', 'gall', 'nonconfrontational', 'midwesterner', 'doubled', 'stimulating', '125k', 'dc', 'pursuits', 'plunge', 'visualised', 'kagglers', 'screenings', 'flustered', 'doubts', 'ages', 'faking', 'bragging', 'overreacting', 'understands', 'sf/nyc', 'applicant', 'sometime', 'scaring', 'da/ds', 'smarter', 'bcom', 'inferior', 'first-ever', \"'***head\", 'analytics***', 'literacy/maturity', 'deficit', 'combines', 'impact/social', 'drafted', 'classed', 'low/mid', 'confirmation', 'retained', '3-year', 'heads', 'aids', 'achieving', 'unlock', 'data-informed', 'objectives/responsibilities', '**infrastructure**', 'formats', 'administer', 'initiative', '**analysis**', 'effectively', 'indicators', 'donor', 'supporters', 'journeys', 'marketing/advertising', '**management**', 'optimise', 'closely', 'competitors', 'low/mid-range', 'wet', 'patience', 'filling', 'implement/fix', 'two-year+', 'technical/non-technical', 'crm/central', 'scams', 'matt', 'tran', 'engineered', 'congo', 'promoting', 'blackmailed', 'kid', 'criticizing', 'audiences', '350', 'scamming', 'low-quality', 'above-average', 'preying', 'desperate', 'regulations', 'non-existent', 'unlike', 'scam', 'pl/sql', 'stacks', 'edw', '***why***', 'legacy', 'patch', \"'office\", 'insane', '«', '»', 'offend', 'tool/framework', 'urls', 'snippets/algorithms', 'structures/algos', 'wordpress', 'hunters', '\\\\*\\\\*note', 'remind', 'jog', 'memory.\\\\*\\\\*', 'toolboxes', 'optimizations', 'eventual', 'hesitant', 'trending', '1-1', 'interacting', 'juniors', 'on-site', 'rejecting', '*animated*', \"'how\", 'reception', \"**'making\", 'animated', \"r'**\", '//youtu.be/snci0s0e4io', '//imgur.com/a/9chzcr7', 'interpreting', 'validating', 'percent', '0.8762103', '.087', '8.7', 'dislike', 'annotations', 'laymen', 'biotechnology/sciences', 'minoring', 'doesnt', 'guideline', 'flaws', 'kitty/plug', 'innovative', 'ideas/thoughts', 'medoid', 'redesign', 'lecture', 'self-regulated', 'fa18', 'sp19', 'fa19', 'sp20', 'respectively', 'bus', '563', 'biochemistry', 'uniformly', 'phases', 'grand', 'worded', 'acts', 'wonky', 'fantastically', 'pre-defined', 'phase\\\\', 'reshape', 'rename', 'exclude', 'studentidnum', 'responseid', '-99', 'n/a', 'likert', 'fa18\\\\_bgn', 'fa18\\\\_mid', 'fa18\\\\_end', 'sp19\\\\_bgn', 'sp19\\\\_mid', 'sp19\\\\_end', 'sp20\\\\_bgn', 'sp20\\\\_mid', 'sp20\\\\_end', 'merged/combined', 'tells', 'intersect', 'sounding', 'spanking', 'stores', 'r/r', 'refine', 'ew', 'idk', 'appreciative', '~3-400gb', '300-400gb', 'unemployed', 'passion', 'aford', 'aws/azure', 'disk', '100gb', 'cvs', 'exceed', 'associate', 'experimented', 'ascribed', 'positively', 'quantifiable', 'experiments/deployed', 'deluded', 'problem-solving', 'strive', 'creativity', 'externalities', 'competitor', 'launches', 'widget\\\\_y', 'regulation', 'enacted', 'widget\\\\_z', 'widgets', 'suspending', 'routines', \"y'all\", 'marketers', 'tl', 'probe', 'annoying', 'assessing', 'interviewees', 'selfish', 'containers', 'submit', 'deduction', 'dtypes', 'strings', 'low-unique-count', 'configuration', 'short-circuit', 'bryan', 'caplan', '//www.amazon.com/case-against-education-system-waste/dp/0691174652', 'roi', 'hc', 'cultivating', 'mills', 'charging', 'flourish', 'distinguishing', 'merits', 'certs', '2nd/3rd', 'recruitment', 'supplements', 'bme', 'advantageous', 'facilitate', 'professors/advisors', 'math/stats/coding', 'sales/marketing', 'mri', 'plasma', 'sysadmin', 'biomedical', 'eng', 'biology', 'pacific', 'nw', 'married', 'thoughtful', 'auc/f1', 'tweaked', 'separable', 'bayes', 'modelled', 'stddev', 'permanent', 'renters', 'eyeballs', 'eyeballing', 'entail', 'transformations', 'mart', 'watered', 'coranavirus', 'caused', 'shortened', \"'windows\", 'preference', 'unix', 'peoples', 'interning', 'sry', 'bummer', 'etc..', 'horrible', 'mcc', '0.28', '12in', 'thin', 'retina', 'econ', '1,2', 'ghz', 'm3', '8gb', 'economics/econometrics', '13', '1.4ghz', 'turbo', '3.9ghz', '256gb', '3.6ghz', '256', 'pcs', 'despise', 'conventional', 'econometrics/statistics', 'go-to', 'website/journal/etc', '.what', 'on/talked', 'favourites', 'improves', 'lyft', 'pinterest', 'invite', 'resources/advice/insight', 'fang-like', 'hispanic', 'poc', 'born', 'add-on', 'ex', 'productivity/aesthetics', 'greece', 'booming', 'ruled', 'site/project', '😊', 'lifetime-value', 'selecting', 'ltv', 'podcasts', 'a-priori', 'attract', 'unfair', 'floated', 'holdout', 'synthetic', 'controls', 'ime', 'carefully', 'sophisticated', 'involving', 'hamming', 'svm', 'f1', 'continuous-categorical', 'unbalanced', 'smote', 'resample', 'saver', 'mentees', 'guided', 'mentor/mentee', 'ireland', 'python/sql/jupyter', 'notebooks/ml', 'mesh-like', 'mesh', 'vanishes', 'concatenation', 'vectors', 'generalised', 'inferred', 'low-variational', 'organised', 'higher-variational', 'colour', 'shut-off', 'sudden', 'engagement', 'spree', 'bode', 'full-fledged', '360', 'blank', 'juices', 'plead', 'optics', '**later**', 'asap', 'battling', 'infectious', 'frequencies', 'occurrence', '2000', '800', 'equally', 'pyclustering', 'precompute', 'precomputed', 'docstrings', 'impletation', 'evalute', 'jr.', 'rnd', 'sysadmin/application', 'shadowed', 'downfalls', 'conclusions/predictions', 'texas', 'msds', 'encrypted', 'homomorphic', 'encryption', '//youtu.be/nlsd2lo-s50', 'retrieval', 'modular', 'carried', 'models/data/source', 'files/results', 'overhead', 'compulsion', 'cleanest', 'neatness', 'unproductive', 'analyst/business', 'bypassing', 'blobs', '\\\\`random\\\\_state\\\\`', '//github.com/scikit-learn-contrib/hdbscan/issues/326', '`approx_min_span_tree=false`', 'dropdowns/widgets', 'ipywidgets', 'dropdown', 'pleasing', 'embeddable', 'standardization', 'satandardization', 'float', 'standarize', '0,1s', 'remaings', 'inbetween', 'distorted', '175', 'implications', 'clusterizing', 'indeintify', 'suing', 'refusing', 'sexual', 'harassment', 'daunting', 'disappointing', 'branching', 'vocabulary', '16c', '17d', 'ons', 'hd', 'duty', '1234t', '1234r', 'd6t', 'd6-20', 'parentmodel', 'childmodel', 'd6d', 'd6d-20', 'letters', 'placeholders', 'pile', 'denominators', 'tiers', 'model|parentmodel|childmodel', '2500-4', '2500bcm', '2503pd', '2503', '2503p', '25040', '250g', '230g', '250h-00', '250lvr', '250l', 'awd', 'rollercoaster', '\\\\`nbdime\\\\`', '\\\\`nbstripout\\\\`', 'collab', 'heartbeat', 'fully-functional', 'apps/libraries', 'human-readable', 'diffs', 'uis', 'auto-formatted', '\\\\`black\\\\`', 'creator', 'coach', 'foundational', 'pat', 'mocc', 'khan', 'academy', 'construct', 'falling', 'vizzes', 'permitted', 'pasted', 'researched', 'loading', 'rejection', 'blahblahblah', 'bi/analyst', 'reviewing', 'fortunate', 'lucked', 'deficiencies', 'electronics', 'refund', 'qualities', 'avg', 'versus', 'hotter', 'non-returned', 'unrelated', 'pool', 'penalties', 'scored', 'europe', 'top5', 'leagues', 'striker', 'hypothesis/problem', '2007-2020', 'opta', 'events-', 'catered', 'management/', 'scoping/', 'gathering/etc', 'subfields', 'ctc', 'sketch', 'molding', 'rendering', 'solidworks', 'catia', 'revit', 'sub-fields', 'lucrativeness', 'magical', 'city-specific', 'very-niche', 'seekers+++', 'jobs+++', '|role|description|special', 'skills|supply/demand|', '|quantitative', 'researcher|analyzes', 'trading', 'prop', 'shops', 'etc.|c++', 'puzzle', 'school|seekers++|', 'builder|builds', 'making.|ability', 'engineering|jobs+++|', 'infrastructure|builds', '|software', 'learning|jobs+|', 'researchers|close', 'loosely', 'needed|phd', 'publications|seekers+++|', 'pipelines|software', '|jobs++|', '|experimentation', 'infrastructure|statistics', 'engineering|jobs+|', '|product', 'experimentation|design', 'opportunities|statistics', 'sql|seekers+|', 'analyst|perform', 'analysis|sql', 'tableau|seekers+++|', 'hierarchical', 'competion', 'concluded', 'forecasts', '30,000', 'walmart', 'bottom-level', 'resulted', '30,000+', 'parallelized', '55m', '190', 'performers', 'r/cscareerquestionseu', 'germany', 'march', 'zoom', 'elated', '222', 'modified', 'straight-up', '**ghosted', '118', '**outright', 'rejections**', '68', '**rejections', 'stage**', '**still', 'process**', '**offers**', 'continues', 'depressed', 'resilient', 'grade', '1.7/5', 'europe/germany', 'assistant', 'ml/dl', 'typical/common', '/c++', 'python.org', '//python.org', 'compiling', '~15', 'minimal', 'installs', 'suggesting', 'signals', 'preserving', 'l2', 'frechetdist', '136', '136x136', 'inverted', '//scikit-learn.org/stable/modules/clustering.html', 'np', '**5', 'ggplots', 'r.**', '//i.imgur.com/1tdrlkj.jpg', 'the**', '**youtube', 'video**', '**feel', 'to**', '**to', 'neuroscience', 'error-prone', 'dunno', '😭', 'rebrush', 'sf', 'clinical/medical', 'shoes', 'familiarise', 'biomed', 'bioinformatics', 'pharmacology', 'oversimplified', 'delving', '2nd', 'para', 'timeouts', 'disconnecting', 'extending', 'waits', 'pd`', 'nba_api.stats.static', 'players`', 'playergamelog`', 'commonplayerinfo`', 'nba_api.stats.library.parameters', 'seasonall`', 'sleep`', 'commonplayerinfo.commonplayerinfo', 'player_id=2544', '/usr/local/lib/python3.6/dist-packages/urllib3/connectionpool.py', '_make_request', 'conn', 'url', 'chunked', '**httplib_request_kw', '383', '384', 'six.raise_from', '385', 'sockettimeout', 'basesslerror', 'socketerror', '/usr/local/lib/python3.6/dist-packages/requests/adapters.py', 'cert', '527', 'sslerror', '528', 'elif', 'isinstance', '529', '530', '531', 'product/service', 'lend', 'products/services', 'tightly', 'purchases.', 'hunch', 'retrained', 'prescheduled', 'raising', 'powers', 'recommends', 'succumb', 'retraining', 'mentor/pay', 'puts', 'literacy', 'fundraising/project', 'data-focused', 'programmes', 'mammoth', \"'consultants\", \"'python\", 'occasional', 'cheatsheet', 'covers', 'trash', 'language-agnostic', 'imposed', 'imho', 'fostering', 'innovativeness', 'perverse', 'incentive', '//en.wikipedia.org/wiki/perverse_incentive', 'cobra', '//en.wikipedia.org/wiki/cobra_effect', 'mcnamara', 'fallacy', '//en.wikipedia.org/wiki/mcnamara_fallacy', 'pervasive', 'data-science-specific', 'auto-regessive', 'garch/arch', 'annual', 'chucked', '1,1', 'team-up', 'data-science', 'codeacademy', 'lightfm', 'autoencoders', 'corresponds', 'outlined', 'impressions', 'enraged', 'disgusted', 'fought', 'tremendously', 'native', 'garbled', 'monster', 'attracted', 'pisses', 'richer', 'thumbnails', 'thumbnail', 'throughs', 'ctr', 'upward', 'intervention', 'counterfactual', 'pointwise', 'unstable', 'atleast', '7-day', 'orange', 'dirt', 'buzz', 'offense', 'formulas', 'built-in', 'wolframalpha', 'noosql', 'migration', 'attempted', 'hyper', 'cnns', 'lstms', 'scientist/mle', 'unpaid', 'playground', '~10k', 'categorical/continuous', 'nearest', 'neighbor', 'infinity', 'doubtful', 'confusion', 'skeptical', 'transforming', 'tree', 'iyo', 'blurred', 'limit\\\\', 'h', 'thanks**', 'fetched', 'convincing', 'update\\\\', '*please', 'learning*', '*i', 'weekend', '**my', 'professionally', 'blend', 'saas', '**for', 'multitouch', 'seeks', 'media-mix', 'branded', 'contributed', 'touchpoint', 'me\\\\', 'upfront', 'feedback\\\\', 'dm**', 'project\\\\', 'start\\\\', 'invites', 'wednesday', 'comment/dm\\\\', 'tag', 'only\\\\_pythoncoding**', 'front-line', 'dirty', 'marketing\\\\_and\\\\_code**', 'only\\\\_marketing**', 'mentor/share', 'only\\\\_stats\\\\_analytical**', 'code/market', 'consultancy', 'sprinkle', 'dying', 'carve', 'slot', 'semi-recognised', 'uni', '7-10', 'multidmension', 'it.i', '97,5', 'process.the', 'inversed', 'tranformed', 'interquartlie', 'squared', 'scattered', 'detecting', 'tackled', 'specify', 'familiarity', 'toolsets', 'mapreduce', 'prostituted', 'prostitution', 'clarify', 'ranting', 'satisfaction', 'sneak', 'c-level', 'pump', 'hits', 'showcasing', 'rewarded', 'strip', 'affordability', 'ears', 'showcase', 'surgery', 'acience', 'pre-made', 'ti', 'belongs', '*ai', 'order*', 'surpassed', 'argues', 'laws', 'gripes', 'enamored', 'funneling', 'cash', 'ventures', 'silicone', 'remained', 'stagnant', 'complacent', 'brushing', 'assert', 'procedural', 'suites', 'productionized', 'cycle', 'sprint', 'meetings', 'fight', 'higher-ups', 'burner', 'agile-ish', 'smattering', 'arises', 'flight', 'kanban', 'prep/cleansing/automation/reporting', 'deriving', 'ongoing', 'auditors/accountants', 'audit/accounting', 'accounting/audit', 'posed', 'examine', 'downtown', 'los', 'angeles', 'non-chain', 'restaurants', 'prime', 'pitching', 'faangmulla', '//www.teamblind.com/post/', 'ama', '-staff-ds-at-airbnb-with-12-yoe-across-four-faangmulla-nygf0tuk', \"'analyst\", 'end-users', 'warehouses', 'standardize', 'tracked', 'afterward', 'driver', 'spread', 'messes', '**manually**', 'carriers', 'fuck', 'sorted', 'districts', 'neighbors', 'alphabetically', 'criminally', 'laughing', 'hysterically', 'joker', 'categorized', 'near-field', 'worries', 'carries', 'shrinks', 'apis', 'storm', '50-200', 'grows', 'rinse', 'recall', 'touched', 'pyramid', 'lengthy', 'veteran', \"'roadmap\", 'redditor', '//thinkgrowth.org/the-startup-founders-guide-to-analytics-1d2176f20ac1', 'forrest', 'classifiers', 'locally', 'voice', 'omni-channel', 'outliers/anomalies', '//towardsdatascience.com/5-ways-to-detect-outliers-that-every-data-scientist-should-know-python-code-70a54335a623', 'digest', 'clicked', 'underwhelming', 'pose', 'underwhelmed', 'presumptuous', 'visually', 'boxplots', 'scatterplots', 'pigeonholed', 'growth-stage', 'thrive', 'un-pigeonholing', 'unstuck', 'secondarily', 'ndas', 'welfare', 'organisation/people', 'gradual', \"'data-driven\", 'inspecting', 'automatizing', 'debate', 'foundations', 'medium/big', 'smooth', 'noob', 'monetary', '|customer|new', 'column|', '|jimmy|great', 'customer|', '|mary|about', 'churn|', '|joe|churned|', 'ventured', 'crunch', 'insert', '//cooldata.wordpress.com/2014/02/26/automate-rfm-scoring-of-your-donors-with-this-python-script/', 'saves', 'dr**', 'basecamp', 'exercising', 'automating', 'recruiters/employers', 'affiliate', 'subtracting', 'aic', 'sun', 'distract', 'procrastinators', 'confidently', 'cuts', 'sidetracked', 'bombarded', 'according', '15-20', 'chase', 'distracting', 'resist', 'distraction', 'ruthless', 'guilt-free', 'pleasure', 'pains', 'tremendous', 'immerse', 'mastering', 'imo', '/r/statistics', '/r/programming', '/r/learndatascience', 'ingestion', '4500', 'inefficient', 'military', 'tougher', 'legit', 'cultural', '*vastly*', 'underestimate', 'storage/transfer/processing', '1m', 'proposition', 'fail', 'monopoly', 'margins', 'venture', 'personalization', 'deploy/test', 'refactored', 'deployment/retraining', 'user-item', 'tweak/refine', 'redeploy', 'thoughts/comments', 'educating', 'stereotypical', 'mom-and-pop', 'someway', 'adult', 'fwiw', 'vernacular', 'overstepping', 'under-presenting', 'traverse', '/statistical', 'nmf', 'forgotten', 'in-turn', 'et', 'intelligently', 'criss-cross', 'holes', \"*'what\", \"for'*\", 'bold', 'gut', '2tb', 'bottleneck', 'hdf5', 'smb', '18.04', '*which', 'most*', '*how', 'historical', 'data*', '**predict', 'churn**', '//towardsdatascience.com/hands-on-predict-customer-churn-5c2a42806266', 'plotly/', 'hypothetical', 'tempted', 'divulging', 'proprietary', 'grip', 'calculus', 'york', 'fierce', 'chicago', 'town', 'science/analyst', 'tx', 'scenes', 'visibly', 'vision**', 'academic/technical', 'r/askstatistics', 'countless', 'sleeping', 'joke', '**water', 'industry**', 'bump', 'grabbing', 'coffee', 'hanging', 'hallways', 'moderation**', '**blog/project', 'links**', 'attempts', 'self-promotion', 'commonly-used', 'restricted', '**learners/transitioners**', 'advisor', 'redirect', '**weekly', '**video', 'listicles**', 'tended', 'negatives', 'sight', '**memes**', 'tacky', 'large-ish', '**technical', 'questions**', 'directed', '**junk/low', 'effort**', 'speaks', 'uncommon', '**politics/off-topic**', 'explicitly', 'removable', 'future**', '**content', 'long-running', '**moderation', 'bot**', 'u/datascience-bot', 'removals', '**removal', 'reasons**', 'context/resources', '**flairs**', 'sorta', 'adjusted', 'capability', '**moderators**', 'families', 'moderating', 'winds', '**we', 'criticisms**', 'inefficiencies', 'equities', 'anticipation', 'property', 'profitable', 'rental', 'metropolitan', 'employ', 'qualifiers', 'narrowing', 'distributing', 'starter', 'hoard', 'didnt', 'pdfs', 'clouds', 'fragment', 'brainstorming', 'classifications', 'brutal', 'terminator', 'sarcastic', 'models/solutions', 'planner', 'been/are', 'citizen', 'holder', 'sponsor', 'h1b', 'participate', 'opt', 'caps', 'bolded', '1500', '72', 'immigration', 'collate', 'first-party', 'specialize', 'par', 'towardsdatascience', 'bubble', 'progressed', 'arena', 'sounded', 'cubicle', 'behaviors', 'chime', 'work/life', 'rumors', 'blown', 'willingness', 'vaguely', 'runner', 'solves', 'metadata', 'tables/', 'indexes', 'inspect', 'autocomplete', 'clauses', 'syntax', '//www.pgcli.com/docs', 'auto-completion', 'datagrip', '//www.jetbrains.com/datagrip/', 'bulkier', 'sequel', '//sequelpro.com/', '//www.mysql.com/products/workbench/', 'diagrams', 'popsql', '//popsql.com/', 'freeze', 'killed', 'loaded', 'breaker', 'dbeaver', '//dbeaver.io/', 'fits', 'grail', 'dataviz', 'intelligence/analysts', 'montreal', '0-5', 'toronto', 'taxes', 'glassdoor', 'mtl', 'numbers/ranges', '190k', 'ml-focused', '25k/semester', 'username_sql_queries', 'complaint', 'terminated', 'plagiarised', '2020.', '//www.reddit.com/r/machinelearning/comments/ex2sks/d_siraj_is_still_plagiarizing/', 'solidify', 'session', 'served', 'non-stats', 'stats/ds/ml', 'mbp', 'sexist', 'male', 'offensive', 'autofill', 'angry\\\\', 'translating', 'neutral', 'pronoun', 'nurse', 'javascript/tensorflow.js', 'desktop', 'digging', 'redditors', '6-ish', 'analyzed', 'extracted', 'compliments', 'text-based', 'edtech', 'knewton', 'adaptive', 'claims', 'co', '4ish', '250k/yr', 'outlandish', 'casually', 'masters/phd', 'figures', 'horrific', 'rightfully', 'preparing', 'loop', 'kidding', 'shoulder', 'lie', 'phony', '**i', 'bookish', 'unsophisticated', 'society\\\\~', 'disastrous', 'ball', 'missed', 'swing', 'fool', 'binging', '🏃\\u200d♂️', 'response..', 'speechless', 'discord/group', 'pandas.iplot', 'iplot', 'developping', 'tool/ide', 'lackluster', 'autocompletion', 'sad', 'html/javascript', 'heroku', '500mb', 'requirements.txt', '100+mb', 'elastic', 'beanstalk', 'floydhub', '//www.docker.com/play-with-docker', 'port', 'get\\\\_dummies', 'statsmodels', 'converged', 'nan', 'intercept', 'bi/sql', 'server/r/python', 'stitching', 'productionalized', 'course/book', 'higher-level', 'worthy', 'misleading', 'segmentations', 'repsopnsibilites', 'bugfixes', 'extreamly-advanced', 'streaming', '1k', 'migrating', 'snowflake', 'wherscape', 'athena', 's3', 'kaagle', 'fade', 'technologies/languages', 'hive-ql', 'ariflow', 'althow', 'jira', '5-10', 'knowlege', 'superficial', 'exams', 'white-paper', 'proposals', 'length', 'technicalities', 'clea', 'alot', 'ineffecient', 'completes', 'feild', 'speeds', 'cores', 'cache', 'isimportant', '2400mhz', '3200mhz', 'motherboard', \"'normal\", 'grid-searching', 'lightgbm', 'linear/tree-based', '/r/buildapc', '~520', 'weather', 'leaks', 'traning', '~80', '~20', 'alarming', 'skill-gap', 'python/sql', 'd3.js', 'partially', 'delegated', 'woefully', 'advice/tool', 'scientist/ml', 'bandwidth', 'reccomend', 'on-campus', 'reputable', 'institution', 'waterfall', 'scrum', 'sprints', 'chatbots', 'outlay', 'chatbot', 'historic', 'mobile', 'advancements', 'suspect', 'devise', 'foresee', 'nightmare', 'declarative', 'hobbled', 'scraped-key', 'rpa', '35', 'relational', 'protocols', 'corrupt', 'warranty', 'rdbms', 'regulated', 'identities', 'formalities', 'menu', 'verification', 'ins', 'passing', 'automatons', '2023', 'dumpster', 'tempting', 'robots', 'lowest', 'accommodating', 'i7', 'dependable', 'durable', \"'am\", 'migrated', 'automation', 'devops/data', 'repositories', 'plsql', 'practically', 'configure', 'prompts', 'tapped', 'displays', 'reclassify', 'learning/machine', 'learning/neural', 'swe/data', 'misnomer', 'resembled', 'og', 'databases/algorithms', 'iq', 'shaped', 'unilaterally', 'one-dimensional', '**more', 'metrics**', 'press', 'talks', 'installed/invoked', 'lab`', 'notebook`', 'cl', 'productivity', 'ide-like', 'persistent', 'browser', 'restarting', 'succeeds', 'crossroads', 'separated', 'elaborate', 'summarized', 'gpt3', 'checklists', 'warned', 'un-confuse', 'warn', 'sphere', 'interplanetary', 'magnetic', 'drives', 'atmosphere', 'dips', 'shapes', 'inputted', 'discern', 'linking', 'recognition', 'spikes/dips', 'mlengineer', 'bridge', 'specializing', 'steroids', 'gaps', 'vp', 'restart', 'cloud/virtual', 'virtual/cloud', 'low-cost', 'i5', '9.99/month', 'step-wise', 'estimation', 'problem**', 'comprised', 'concentrations', '|ingredient|min', '|max', '|x|25|50|', '|y|25|50|', '|z|25|50|', 'normality', 'uniformity', 'want**', 'simulated', '1000', 'configurations', 'design/front-end', 'spain', '—more', 'less—', '//www.ahmedbesbes.com/case-studies/end-to-end-ml-app', '//veekaybee.github.io/2020/06/09/ml-in-prod/', '//plotly.com/dash/', 'streamlit', 'hugginface', '//huggingface.co/', 'pytorch/flask', 'abhishek', 'thakur', '//www.youtube.com/channel/ucbprjjiwfyng4x-crbnv78a', '//www.kaggle.com/abhishek/notebooks', 'spanish', 'benefited', '//twitter.com/_dylancastillo/status/1272238506916675591', 'python/dash', 'ha', 'painfully', 'sacrificed', 'ship', 'dry', 'cry', 'nginx', 'gunicorn', '*hacky*', 'sooner', 'quote', 'upgrade/no', 'cant', 'increasingly', 'namely', '//www.reddit.com/r/datascience/comments/h8yjdf/im_offered_a_data_engineer_role_instead_of_data/', '//www.reddit.com/r/datascience/comments/h9p4kl/from_data_scientist_to_machine_learning_engineer/', 'themes', 'largely', '*waned*', '*our', 'memory*', 'flawed', 'whims', 'emotions', 'consequences', 'clock', 'rewards', 'costliest', '**enter', 'document**', 'evan', '//jvns.ca/blog/brag-documents/', 'accomplishments', 'accumulate', 'olympic', 'medals', 'coworker', 'anticipate', 'bug', 'proactively', 'promise', 'wonders', 'negotiating', '*what', 'doing*', 'ruthlessly', 'principle**', 'proud', 'amongst', '**frequency**', 'calendar', '**collaborate**', '*to', 'you*', 'accountable', '**your', 'manager**', 'quarter', '**weird**', '**unnatural**', 'dumping', 'lap', 'vouch', 'reshuffle', 'quarterly', 'wait..what', '**ending', 'thoughts**', 'illustrations', '//www.careerfair.io/reviews/howtobragatwork', '//www.careerfair.io/', 'newsletter', '2012', 'asus', 'k56cm', 'samsung', 'galaxy', 's6', 'tablet', 'newly', 'employed', 'badly-written', 'off-putting', 'transformer', 'cnn', 'multi-task', 'multi-lingual', 'dual-encoder', 'rife', 'logistical', 'black-box', 'debug', 'day-dreaming', 'grievances', 'product-focused', 'sentiments', 'committing', 'threshold', 'mistakes', 'empirical', 'literal', 'hucksters', 'nobodies', 'fakes', 'firmly', 'want.', 'jaw', 'dropped', 'good.', 'witnessed', 'manipulated', 'pie', 'negligent', 'hottest', 'clarity', 'trainer', 'trainers', 'workshops', 'evenings/weekends', 'bots', 'austinpowers', 'movie', 'respond', 'impressively', 'wav', '8000', 'librosa', 'on-premise', 'obtained', 'legs', 'drifted', 'macs', 'laptops', 'windows/linux', 'ish', 'keyboard', 'steam', 'thinkpad', 'x1', '1499.99', '//www.lenovo.com/us/en/laptops/thinkpad/thinkpad-x1/x1-carbon-gen-7/p/22tp2txx17g', 'conservation', 'wildlife', 'inspired', 'animals', 'differentiate', 'chicken-and-egg', 'mile', 'impacts', 'superforecasters', 'eye-roll', 'textbooks/resources', 'hft', 'unanimously', 'teaches', 'dw', '500k', '50+', 'accurately', 'conversions', 'standardizing', 'guiding', 'graduation', 'consultancy/management', 'burnout', 'gan', 'vae', 'non-software', '+matplotlib', 'killer', 'tinkered', 'semma', '//documentation.sas.com/', 'docsetid=emref', 'docsettarget=n061bzurmej4j3n1jnj8bbjjm1a2.htm', 'docsetversion=14.3', 'locale=en', 'crisp-dm', '//www.datasciencecentral.com/profiles/blogs/crisp-dm-a-standard-methodology-to-ensure-a-good-outcome', 'google-fu', 'relevance', 'frick', 'r/languagetechnology', 'suspicious', 'configuring', '\\u200b\\u200bwhat', 'scary', 'science/analysis/engineering', 'andrew', 'n.g', 'liking', 'advices', 'emulator', 'plugins', 'mentoring', 'devs/pms', '…', 'team\\\\', 'one-time', '**specifically', 'incisive', 'weeks/months', 'enjoyable', 'hyperparameter', 'in-between', 'technicality', '***i', 'thinking***', 'surprises', 'imposition', 'edited', 'formatting/clarity', 'temporal', 'spans', '\\\\~4', 'month/year', 'roll', 'thats', 'examines', 'onboarding', 'headcounts', 'headcount', 'crunchbase', 'static', 'prep', 'younger', 'business/coding', 'introducing', 'labelling', 'va', 'summer-fall', 'asynchronous', 'worms', 'are/aren', 'write-ups', 'internship/results', '40s', 'with/for', 'cheery', 'regret', 'gig', 'exogenous', 'univariate', 'influenced', 'pacf', 't-1', 't-n', 'temperate', 'whack', 'lstm', 'mild', 'panic', 'analyst-y', 'causing', 'rework', 'bite', 'floundering', 'peer-reviewed', 'arts/humanities/social', 'tangential', 'miserable', '0.6fte', 'culminate', 'soul-crushing', 'softwares', 'versed', '160k', 'rebranded', 'overstate', 'bored', 'unrewarding', 'slicing', 'rarely', 'investigating', 'incomprehensible', '**have', 'trajectory', 'privileged', 'weighed', 'dissatisfaction', 'activations', 'need-based', 'wealthy', 'he/they', 'plan/theme/budget', 'approves', 'it/negotiates', 'factored', 'budgeted', 'destroyed', 'tweak', 'inquiries', 'glean', 'operational', 'discounting', 'modeled', 'emerging', 'pathway', 'lightweight', 'minimizing', 'deployments', 'seasonally', 'coefficient', 'precision', 'tuesdays', 'tuesdays..', '11', 'caked', 'significants', 'yield', 'pet', 'telecom', 'browse', 'miscommunication', 'billing', 'csat', 'judging', 'judge', 'acquire', 'resource-constrained', 'difficulty', '8-9', 'seek', 'varied', 'science/visualisation', 'statements/', 'midst', 'aid', 'acheive', 'attached', 'consisting', 'utitilities', 'bonuses', 'fallen', 'visualise', 'summarize', 'totally', 'inundated', 'complain', 'demands', 'categorize', 'obliviously', 'ridiculous', 'stab', 'shoot', 'inflation', 'p-values', 'enlighten', 'just-out-of-the-academic-press', '5000', 'masked', 'procedurally', 'detected', 'replaced', 'brian', '//github.com/microsoft/presidio', 'weigh', 'macie', 'tagging', '//rstudio.com/resources/rstudioconf-2020/value-in-data-science-beyond-models-in-production/', '***other', 'than***', 'off-the-shelf', 'automl', 'intelligence-type', 'goal-setting', 'self-service', 'ad-hoc', 'delved', 'dplyr', 'verbs', 'intentions', 'igniting', 'two-phase', 'magicians', \"'tis\", 'rapid', 'transitions', 'operationalization', \"'*guy\", 'basement', \"'*well\", 'oiled', 'machinery', 'spits', 'maintains', 'standardise', 'high-frequent', '|technology|purpose|open', 'source/closed', 'source|pricing|comment|', '//wandb.com/', '|experiment', 'documentation|closed', 'source|free', '35/user', '175/user', 'corp', '|really', 'frameworks|', '//dvc.org', 'versioning|open', 'source|free|we', 'learning|', '//aws.amazon.com/sagemaker/', '|serving', 'training|open', '|depends', '0.08', '/hr', '|not', 'models|', '**tech', 'read/write', 'flat', '**curious', 'with**', 'gcp', 'bluemix', 'pros/cons', '**best', 'advice**', 'standardised', 'designed', 'productisation', '//www.reddit.com/r/datascience/comments/gw8z13/do_you_code_in_object_oriented_way_in_python_when/fsu2p8p', '**do', 'rigor', '**fail', 'summarise', 'sought', 'hypothesise', 'insensitive', 'modeller', 'non-ml', 'oppotive', 'computer/notepad', 'code/math', 'science/data/analytics', 'sofa', 'noobish', 'serverless', 'memory/cpu/gpu', \"'command\", 'station', 'delegates', 'fargate', 'lambdas/containers', 'dinosaur', 'legitimately', 'significance', 'stumble', 'gans', 'greatest', '*never', 'develops', 'overwhelming', 'razor', 'compensate', 'nerd', 'adequate', 'in-depth', 'quality/salary', 'midwest', 'cutbacks', 'blanket', 'engineer/dba', 'lead/manager', 'weary', 'manager/recruiter', '**every', '48', '**companies', 'march-may', 'region', 'masks', 'distancing', 'reference/', 'explores', '3.7', 'atom', 'downloading', 'pip', 'v3.7', 'depend', 'installed', 'respected', 'statistician', 'gs-12', 'respected/have', 'poking', 'b.sc./m.sc', 'directories', 'lineage', 'provisioning', 'execution', '24h', 'tenant', 'possibility', 'opensource', 'optional', 'self-hostable', 'tenancy', 'openshit/opendatahub', 'vertaai/modeldb', 'pachyderm', 'wishes', 'overfitting', 'heatmaps', 'vif', 's/model', '*use', 'shap', '*plot', 'drop-off', 'eliminating', 'elimination', 'pruning', '*checking', 'one-hot', 'subregions', '*compare', 'combinations', 'yellow', 'lurker', 'utd', 'fist', 'american', 'financially', 'reduction', 'wont', 'expenses', 'sustain', 'jr', 'wgu', 'united', 'mates', 'seniors', 'difficult/almost', 'till', 'november/', 'sponsorship', 'checking', 'caret', 'tidyverse', 'packrat', 'data.table', '..', 'drake', '//books.ropensci.org/drake/', 'insider', 'stella', '\\\\^\\\\_\\\\^', \"o'reilly\", '**python', 'developers**', 'wes', 'mckinney', '**hands-on', 'systems**', 'aurelien', 'geron', 'themselves/', 'book/tutorials', '//www.reddit.com/r/ml\\\\_dotnet/', '//www.reddit.com/r/ml_dotnet/', '70-30', 'liblinear', 'shrank', '//i.imgur.com/vm224zi.png', 'y-axis', 'denotes', 'params', 'train_sizes', 'train_scores', 'test_scores', 'learning_curve', \"penalty='l1\", 'solver', \"'liblinear\", 'cv=10', 'shuffle=true', \"scoring='roc_auc'\", 'advantages/disadvantages', 'markdowns', 'rmarkdown', 'knitr', 'spyder-reports', 'functioning', 'spectrum', 'technical-related', 'activties', 'data-savvy', 'agile/scum', 'micromanaged', 'churns', 'retros', 'bleh', 'owners', 'bees', 'accounted', 'scope/source', 'analytics/data', 'defining', 'industries/companies/job', 'owner/technical', 'diverging', 'explanatory', 'org', 'enlightening', 'qual', 'quant', 'won/lost', 'tackling', 'tree-based', 'regularized', 'stackexchange', 'infrequently', 'lag', 'ml/', 'reporting/analysis', 'sap', 'bo', 'convince', 'mooc', 'uci', 'pondering', 'fresher', 'watched', 'n', 'kicked', 'expectation/requirement', 'waste/invest', 'pardon', 'fold', 'acc', '93.5', 'forum', '**seniority', 'juniority**', 'diagnosing', 'dr.', 'house-like', 'life-threatening', 'passionately', 'single-handedly', 'defending', 'grisham', 'goldman', 'sachs', 'multi-billion', 'trades', '**any', 'career**', '3/4/5', 'colours', 'slide', '**importance', 'organisation**', 'wildly', 'guff', 'organisations', 'revenues', 'argue', 'shortsighted', 'accordingly', 'salespeople', 'sensory', 'shutdown', 'enlightened', 'open-minded', '**there', 'work**', 'brand-new', 'quantitatively', 'literature/video/article', 'necessariliy', 'da/calculations', 'mismatching', 'determined', 'condense', 'conked', 'man', 'hmm', 'statistically', 'modes', 'bless', 'soul', 'barista', 'cafe', 'reset', 'realisation', 'simplicity', '–', '//app.wandb.ai/openai/published-work/learning-dexterity-end-to-end', 'vmlldzoxmtuymdq', 'robotics', 'robotic', 'block', 'reorientation', '//openai.com/blog/learning-dexterity/', 'cloning', 'reinforcement', 'ablate', 'alex', 'demographic', 'enough.', '~', '0.65', 'synthesize', 'autoencoder', 'closest', 'distributed', 'knot', 'majored', 'contents/data', 'redacted', 'redact', 'contents', 'optimisation', 'expotential', 'allocations', '.15', '1/total/2', 'algortihm', 'p', '1|max', 'unlucky', 'credentials/passwords', 'pipelines/etl', 'reins', '//i.imgur.com/43eedle.jpg', 'etls', 'username', 'password', 'gitignored', 'credentials.ini', 'kingdom', 'keepass', 'vault', '.kdbx', 'keyfile', 'storage/deploying', 'ethic', '3-5', 'propublica', 'sentencing', '//www.propublica.org/article/machine-bias-risk-assessments-in-criminal-sentencing', 'recipe', 'mundane', 'happily', 'divyansh', 'agarwal', 'ride', 'rider-driver', 'essays', '//data8.org/', 'uc', 'berkeley', 'backup', 'prepped', 'invited', 'house', 'eats', 'maps', 'attended', 'dynamics', '//marketplace.uber.com/matching', 'responding', 'meets', 'leeway', 'designers', 'functionally', '**you', '230', 'fewer', 'occasions', 'buy-in', 'begun', 'surrounded', 'incredible', 'teammates', 'poker', 'badminton', 'changer', 'scopes', 'pricing', 'causality', 'a/bs', 'actively', '**hope', 'at**', 'careerfair', '//www.careerfair.io/reviews/datascientist', 'website/platform', 'sell/buy', 'buy/sell', 'data-scientists', 'data-scientist', 'consist', 'standards', 'non-statistical', 'mistakenly', 'exported', 'revising', 'unprofessional', 'unfeasible', 'semi-automated', 'data-visualization', 'self-study', 'business-facing', 'homerooms', 'highlights', 'trade', 'secrets', 'hopkins', 'contractors', 'security+', 'alumni', 'intention', 'enticing', 'succinctly', '//www.reddit.com/r/datascience/comments/dn5uxq/amazon\\\\_data\\\\_scienceml\\\\_interview\\\\_questions/', '//www.reddit.com/r/datascience/comments/dn5uxq/amazon_data_scienceml_interview_questions/', 'backprop', 'blew', 'kindness', 'fears', 'cathartic', 'sheer', 'ill', 'systemic/institutionalized', 'racism', 'belief', 'systemic', 'racial', 'spirit', 'sociological/demographic/economic-related', 'constitute', 'rooted', 'resolve', 'architectures', 'informational', 'cost-effective', 'stats/it', 'disclosure', 'comparably', '*and*', 'poll', '//www.reddit.com/poll/gu1iqk', 'varients', 'hyperparameters', 'seperate', 'system/approach', 'for/wish', '\\\\~100k', 'played', 'two-player', 'readme.md', '//readme.md', 'overlooking', 'workspaces', 'politically', 'articulation', 'approvals', 'articulate', 'facts', 'choosen', 'css', 'bleak', 'calm', 'chill', 'deadline', 'simplistic', 'fake', 'about..', 'breathe', 'mull', 'devote', 'inconsistencies', 'alter', 'perceptions', 'optimistic', 'costumers', 'communicating', 'accounting', 'confounding', 'detached', 'previsibility', 'predictability', 'depressing', 'arrived', 'walked', 'nitty', 'gritty', 'detailed', 'toed', 'stupidly', 'sorry..but', 'indexing', 'jargon', 'pry', 'freaks', 'upset', 'complicating', '1+', 'constructive', 'replies', 'dig', 'stayed', 'showed', 'histogram', 'minimize', 'obscured', 'balance.', 'proved', 'zoned', 'stands', 'vice', 'president', 'howdy', 'similarly', 'veroni', 'segregation', 'phrase', 'loser', 'adjustments', 'minima', 'stupidity', '**it', 'friday', 'vent', 'protect', 'ed', 'prioritise', 'arguments', 'understandable', 'seatbelts', 'accidents', 'licence', 'inspected', 'dodgy', 'passengers', 'needless', 'appalled', 'rigs', 'heavier', 'scripts/tools', 'infosec', 'vpn', '41', 'programmin', 'ii', 'iii', 'ultimate', 'georgia', 'omscs', 'pornhub', 'viewing', 'convention', 'observed', 'bootstrap', 'vote', 'datastage', 'pro/con', 'permissions', 'policies', 'ec2', 'environments/connect', 'test/backup', 'clarification', 'advocating', 'privileges', 'u/lacompacida', 'eloquently', 'referred', 'tradeoff', 'u/slightberry', 'stance', 'spinning', 'isolated', 'joe', 'shmoe', 'prod', 'ticket', 'stood', 'stressful', 'assurance', 'southern', 'california', '70k', '75k', 'january', 'fafsa', 'webscraping', 'hadoop/mapreduce/spark', 'promos', 'sairma', '☟', 'step-by-step', 'containerize', 'containerization', 'registry', 'gcr', 'moez\\\\_62905/deploy-machine-learning-model-on-google-kubernetes-engine-94daac85108b', 'moez_62905/deploy-machine-learning-model-on-google-kubernetes-engine-94daac85108b', 'modulated', 'implanted', 'bio-statisticians', 'overshadows', 'teammate', 'low-skilled', 'replaceable', 'bits', 'pieces', 'partial', 'performs', 'ridge', 'wash', 'outperform', 'bing', 'scraped', 'textual', 'caption', 'autistic', 'matlab', 'matlabs', 'utter', 'unnecessarily', 'tick', 'outputting', 'selectable', 'schemes', 'moba', 'autochess', 'hearthstone', 'hsreplay.net', 'op.gg', 'winrates', 'diversity', 'comeback', 'interactivity/counterplay', 'cap/floor', '~200', 'juggling', 'waveform', 'oscilloscope', '//en.wikipedia.org/wiki/oscilloscope', 'persuasive', 'local-only', 'quad', 'ryzen', '3600', 'lang', '//www.r-project.org/', 'declare', '300-400', '100-200', '//www.gormanalysis.com/blog/reading-and-writing-csv-files-with-cpp/', 'admittedly', '//www.postgresqltutorial.com/import-csv-file-into-posgresql-table/', 'interfacing', 'tried-and-true', '*go', 'instinct', '//github.com/ben-strasser/fast-cpp-csv-parser', 'featuring', 'back-end', 'pysimplegui', '//pysimplegui.readthedocs.io/en/latest/', 'game-changer', '50-100', 'mutual', 'reformulate', \"'new\", 'backtest/validate', 'aggregated', 'kurtosis', 'payments', 'normalised', 'counted', \"'compound\", 'pcie', 'lanes', 'gpus', 'threadripper', 'forests', 'rnn', 'ambivalence', 'pour', 'michael', 'waskom', 'afternoon', 'influencer', 'tweeted', 'sucks', 'readings', 'sa', 'upwork/freelancer.com', 'plea', '99', 'up-skilling', 'ycombinator', 'developments', 'sticky', 'treating', 'helper', 'crowd-sourced', '262', 'donate', 'cause/charity', 'time-series', 'unsurprisingly', 'insurance', 'beat', 'counteract', 'arbitrarily', 'excluding', 'cliched', 'arithmetic', 'comprehend', 'practicing', 'multiplying', 'subtraction', 'fulfilling', 'prophecy', 'incompetence/insecurity', 'comparisons', 'institutions', 'acca', 'postgrads', 'bait-y', 'democratize', '1.', '2.', 'slides', '3.', 'irrelevant', 'presumably', 'cook', 'seafood', 'cook/waste', 'predicts', 'doable', 'throws', 'cooked', 'analyst/product', 'polarising', 'gradually', 'dir', 'decrease', 'avoids', '*why*', 'glaze', 'foolproof', 'polynomial', 'base+10', '+18k', 'rsus', 'flashiness', 'adoption', 'mac/linux', 'nvidia', '64gb', 'linux/mac', '**dean', '//www.reddit.com/r/datascience/comments/glfdmm/a_data_science_company_stole_my_gfs_ml_project/', 'authorised', 'litigation', 'republish', 'radio', 'stations', 'musicians', 'music', 'drudge', 'huffington', 'fark', 'newslookup', 'newsvine', 'wn', 'listing', 'deceive', 'ownership', 'hair-brained', 'deserving', 'deed', 'unpunished', 'aggravation', 'attacked', 'awarding', 'embarrassed', 'penny', 'aggregator', 'oversite', 'hindsight', 'assure', 'convenient', 'sophomoric', 'unintentional', 'first-degree', 'murder', 'fooled', 'profession', '7th-grade', 'daughter', 'decipher', 'reader', 'disruptive', 'trolling', 'punitive', 'silencing', 'congratulations', 'visibility-enhancing', 'dataiku', 'prize', '~400k', '20-30', 'discrete/categorical', 'platinum', 'cateogorical', 'age/how', 'calories', 'curated', 'pointing', 'filtered', 'custum', '0s', '1s', '2s', 'hackathons', 'contextual', 'cosine', 'extend', 'narrowed', 'washing', 'defective', 'equilibrium', 'theft', 'permission=theft', 'eight', 'kdnuggets', 'outlets', 'appeal', 'millions', 'fluffy', 'buzzword', 'bingo', 'cited', 'quotation', 'paraphrasing', 'releasing', 'blacklisted', 'issued', 'apology', 're-purposing', 'ngram', 'skyrocketed', 'curiously', 'adopted', '//books.google.com/ngrams/graph', 'content=deep+learning', 'year_start=1800', 'year_end=2008', 'corpus=15', 'smoothing=3', 'share=', 'direct_url=t1', '2cdeep', '20learning', '2cc0', 'cum', 'laude', '65k', 'lowered', 'negotiation', 'responds', 'machine-learning', 'surprise', '**dean-hoffman**', '//www.reddit.com/user/dean-hoffman/', '**posted', 'copy-pasted', 'reposting', '**ridiculously', 'founder', 'excellence', 'writers', 'bot-operated', 'copy+paste', 'techcrunch', 'confirmed', 'labs', 'pennsylvania', 'rights', 'infringe', 'tos', 'infringement', 'copyrighted', 'deleted', '//www.reddit.com/user/dean-hoffman/comments/gkoxpd/ai\\\\_and\\\\_real\\\\_state\\\\_predicting\\\\_rental\\\\_prices\\\\_in/', '//www.reddit.com/user/dean-hoffman/comments/gkoxpd/ai_and_real_state_predicting_rental_prices_in/', 'strict', 'protections', '24th', '2015-2019', '2015-2018', 'chunks', 'images/nlp', 'affair', 'workplace', 'unsatisfied', 'homelessness', 'urban', 'elsevier', 'springer', 'morph', 'conditional', 'loan', 'defaulters', 'borrower', 'borrowers', 'imply', 'delinquencies', '9999', 'introduce', 'binning', 'expense', 'granularity', 'building/ml', 'organise', 'learnings', 'artefacts', 'organising', 'kick', 'sidecar', 'security/compliance', 'snapshot', 'exec', 'ppt', 'notion/confluence/gdocs/something', 'single-use', 'build-in', 'flowers', 'accessed', 'csv-file', 'pre-selected', 'twice', '54k', 'obs', 'fund-string', 'scanning', 'faulty', 'attributed', 'non-match', 'unfortunate', 'bearable', 'streamline', 'ease', \"match/don't-match\", 'banned', 'hates', 'clicking', 'hidden', 'ugh', 'express', 'adept', 'invested', 'geez', 'reformatting', 'postprocesses', 'unneeded', 'praises', 'probabilistic', 'membership', 'gift', 'mother', 'district', 'identifies', 'coordinates', 'powerschool', 'birthday', 'psychiatric', 'associations', 'look/ask', 'disposable', 'thier', 'mixture', 'gaussian', 'k-prototype', 'intuitive', 'fan', 'affects', 'hometeam', 'ik', 'ping', 'pong', 'aav', 'durability', 'winshares', 'ppg', 'apg', 'neck', 'woods', 'product/overall', 'oc', 'heterogeneous', 'geographical', 'monitors', 'location/store', 'adwords/fb', 'in-store', 'gdpr', 'ccpa', 'compliance', 'geographic', 'emea', 'britain', 'apac', 'japan', 'programmatically', 'factual/foursquare', 'placeiq', 'groundtruth', 'cuebiq', 'x-mode', 'safegraph', 'hat', 'welcomed', 'tidytuesday', 'pythons', 'tidytuesday**', 'dependencies', '`pip', 'install`ing', '//docs.conda.io/projects/conda/en/latest/user-guide/getting-started.html', '//docs.conda.io/projects/conda/en/latest/user-guide/tasks/manage-environments.html', '//haveagreatdata.com/posts/data-science-python-dependency-management/', 'whisperer', 'shortage', 'non-beginners', 'mesmerized', 'polished', 'self-education', 'slew', 'shockingly', 'unimaginative', 'repetitive', 'section', 'imported', 'pd.scatter\\\\_matrix', 'df.corr', 'homes', 'controlled', 'upsell', 'inspiration', 'dismayed', 'richness', 'submissions', 'fancy', 'fitted', 'variability', 'transformed', 'width', 'decay', 'death', 'foot', '2k', '40x', 'yalls', 'manageable', 'sanitize', 'similarities', 'considerations', 'politcal', 'questionnaire', 'hypotheses', 'itch', 'patients', 'ehrs', 'officially', 'carry', 'avenues', 'science/analytics', 'suffice', 'arvix', 'crude', 'art', 'champions', 'reign', 'reigns', '==', 'fast.ai', 'practical/coding', \"'mathy\", 'intuitively', 'breadcrumbs', 'lexikon', 'spotify', 'announced', '//github.blog/2020-05-06-new-from-satellite-2020-github-codespaces-github-discussions-securing-code-in-private-repositories-and-more/', 'eye-catching', 'released', 'conjunction', 'satellite', '//medium.com/syncedreview/github-announces-codespaces-for-in-browser-coding-6c2240f1b911', 'influencers', 'parade', 'throwaway', 'contributor', '6+', 'dare', 'practitioner', 'followers', 'effusing', 'packaged', 'b-school', 'freely', 'platitudes', '*believe', 'searched', 'bust', 'stir', 'drama', 'twitter/linkedin', 'here**', '//www.reddit.com/r/datascience/comments/gfnax4/im_sick_of_ai_influencers_especially_ones_that/fpvvxsk', 'jealous', 'woman', 'salesman', 'shameless', 'self-promoter', 'salesmen', 'grassroots', 'nonprofit', 'youth', 'afterschool', 'inner', 'one-man', 'grades', 'volunteer', 'migrate', 'centralized', 'replicating', 'replicable', 'accommodate', 'open-source/low-cost', 'automatable', 'cross-platform', 'modify', 'firebase', 'proficiency', 'collaborators', 'advisors', 'reviewed', 'indication', 'presents', 'capstone', 'thumb', 'imperfect', 'deaths', 'windy', 'roads', '*really*', 'skillsets', 'cure', 'cancer', '*someone*', 'metric**', 'can**', 'post-processed', 'muscles', 'play-by-play', 's.barkley', 'yard', 'nyg', 'statline', 'analysis**', 'secondly', 'lastly', 'designs', 'web-app', 'selections', '**work', 'alone**', 'corroborate', 'guarantee', 'can/', 'seldom', 'punish', 'hardest', 'googled', 'laggy', 'cleared', '1hr', 'piss', 'multi-output', '*two*', 'desmondyeoh/structuring-jupyter-notebooks-for-fast-and-iterative-machine-learning-experiments-e09b56fa26bb', '.net', 'clone', '9+', 'analysis/', 'speech', 'impediment', 'stammer', 'doubted', 'lock-down', 'refined', 'slowly', 'polish', 'manager/business', 'ambition', 'consulting/implementation', 'manager-level', 'data/advanced', 'enhence', 'iseas', 'hirers', 'cs/ds', 'applying/getting', 'sde', 'comparatively', 'fivethirtyeight', 'approval', 'polling', 'prospective', '**bg', 'global', 'lookout', 'virus', 'recruit', 'prestigious', '**issue', 'needle', 'haystack', 'recruits', 'marks', 'crossed', 'disaster', 'rambling', 'individuals', 'handed', '**q', 'exhibited', 'uploading', 'nightly', 'mlr', 'overnight', 'names/types', 'job/etl', 'trainees', 'detector', 'recruited', 'beginner-intermediate', 'breadth', 'practicality', 'scientists/analysts', 'cataloging', 'traceable', 'surpass', 'demonstration', 'shorter', '`unstack`', 'accompanying', '`set_index', '`groupby`', '`df.duplicated', 'esp', 'duplicate', 'df.duplicated', \"'a\", \"'b\", 'keep=false', 'b.', '~df.cola.isin', 'df1.colb', '\\\\`merge\\\\`', '`vlookup`', '`indexmatch`', 'drop\\\\_duplicates', 'extraordinary', 'recover', 'extreme', 'strange', 'hone', 'speaking', 'familiarizing', 'freezing', 'pounding', 'palms', 'sweaty', 'tunnel', 'datascientist', 'remuneration/benefits', 'geography', 'citizens', 't.', 'myriad', 'one-shot', 'quick-win', 'reinventing', 'wheel', 'reused', 'flowing', 'well-measured', 'post-production', 'ceteris', 'paribus', '0.1-5', 'legalese', '//www.tensorflow.org/certificate', 'id/passport', 'webcam', 'beforehand', 'strongly', '//www.coursera.org/specializations/tensorflow-in-practice', 'finishes', 'drawback', '\\\\~10mins', '//www.tensorflow.org/datasets', 'load\\\\_data', 'notably', 'low-stress', '//www.reddit.com/r/datascience/comments/b3gawa/what\\\\_are\\\\_good\\\\_careers\\\\_for\\\\_shitty\\\\_data\\\\_scientists/', '//www.reddit.com/r/datascience/comments/b3gawa/what_are_good_careers_for_shitty_data_scientists/', 'easygoing', 'listings/openings', 'demotivated', 'dismal', 'pessimistic', 'bitter', 'taste', 'mouth', 'hyperbolic', 'backstory', 'revolve', \"'promises\", 'retrospect', 'red-flag', 'hoped', 'contracts', 'hopper', 'nov/dec', 'unsuccessfully', 'transferred', 'promising', 'feb/mar', 'flimsy', 'references', 'perfectly', 'de/etl', 'suit', 'wtf', '.the', 'deliverable', 'sits', 'prioritized', 'outright', 'adapted', 'pitches', 'monetize', 'holistically', 'administrate', 'synergy', 'al', 'science/ml/ai', 'enthusiasts', '80+', 'pressuring', 'medium-sized', '90k/year', '1200/month', '2-bedroom-2-bathroom', 'apartment', 'criticized', 'offices', 'hardworking', 'stunningly', 'separating', 'causation', 'caring', 'company-wide', 'health', 'pto', 'quitting', 'incompetent', 'amid', 'criminal', 'micro', 'shocked', 'grammar', 'correlate', 'progressions', 'bachelors/relevant', 'masters/', 'ceilings', 'underqualified', 'disqualifies', 'ml/modelling', 'underpaid', 'infra', 'disillusioned', 'inflated', 'modelling/ml', 'nationality', 'newer', 'coronavirus', 'founded', 'milk', 'honey', 'episodes', 'nevertheless', '400', 'nuance', 'transformation/analytics', 'bcg', 'gamma', 'finishing', 'm7', 'upskill', 'recession', 'skills/concepts', 'insourcing', 'euphoria', '//www.mckinsey.com/business-functions/mckinsey-analytics/our-insights/why-data-culture-matters', 'skepticism', 'in-', 'arise', 'tank', 'supportive', 'akin', 'tends', 'addiction', 'interesting/unexpected', 'human/etc', 'behavior/the', 'incognito', 'thankful', 'ttest', 'homogeneity', 'hardly', 'committee', 'floored', 'coherent', 'title/role', 'entails', 'keen', 'boxes', 'glaring', 'offenders', 'conscientious', 'degrading', '2010', 'ranks', 'macro', 'bread', 'butter', 'vizs', 'anecdote', 'knock', 'interactives/viz', 'pythonistas', 'bash', 'awk', 'shell', 'scripting', 'analysts/scientists', 'pe', 'hf', 'critique/help', 'mlops', '~4', 'considerable', 'ml/dev', 'undetected', 'commits/merge', 'results/objects', 'triggers', 'on-prem', 'usable', 'devops/linux', 'moderate', 'pipeline/modeling', '~6', 'workstations', 'silver', 'incorporate', 'extraction/processing', 'engineering/data', 'definitions', '*very*', '**modeling', 'ingest/validation', '**reporting', 'separately', 'specification', 'functional', 'tied', 'disaggregate', 'repositories/tasks', 'mirrors', '//dvc.org/', 'minio', '//min.io/', 'dags', 'teach/talk', 'robust/transparent', 'shareholders', 'satisfied', 'tangible', 'lateral', 'raytheon', 'ula', 'compensated', 'staring', 'depended', 'hated', 'runescape', 'neopets', 'wishing', 'scarce', 'uncertain', 'empathize', 'professionals/students', 'alike', 'recruiters/managers', 'research/analytics', 'gunning', 'r/datascienceadmissions', 'newbies', 'learning/statistics', '/r/machinelearning', 'buried', 'useful/do', 'certificates/what', 'frontpage', '/r/askreddit', 'christ', 'misconception', 'pypi', 'ip', 'compete', 'communicator', '**this', 'platforms**', 'bigquery', 'earning', 'to-do', 'piling', 'ever-growing', 'intriguing', 'endlessly', 'dissecting', 'nth', 'dimension', 'practises', 'readability', 'reafactoring', 'fowler', 'annoy', 'semi-autobiographical', '//raw.githubusercontent.com/adamrossnelson/helloworld/master/sparefiles/datasciencecartoon.png', 'illustrated', 'cased', 'blowing', 'torn', 'avoided', 'resourceful', '.5', 'tooling', 'fulfilled', 'bulk', 'enhanced', 'dumbest', 'executing', 'engineering-heavy', 'oppose', 'business-related', 'coworkers', '45', 'wherever', 'older', '150k', 'dashboarding', 'located', 'cscareers', 'vocal', '200k', 'observational', 'earliest', '2021', 'logically', 'realistically', 'pipe', 'dreams', 'layoffs', 'restructuring', 'devision', 'pov', 'iot', 'massachusetts', 'research/deployment', 'insist', 'do\\\\*', 'peer', 'sarcasm', 'implying', 'everyont', 'spark\\\\*', 'obvious/required', 'suggessting', 'source/community', 'edition', 'html', 'reshaped/tweaked', 'front/back-end', 'chief', 'cds', 'optimised', 'solidifies', 'realise', 'time-management', 'prioritising', 'side-by-side', 'biostatistics', 'backs', 'elective', 'slots', '//imgur.com/a/2rtgplp', 'anonymous', 'edit3', '*retrospective*', '100-days', '//www.reddit.com/r/datascience/comments/fisj71/from_economics_to_data_science/', '**math', '//www.udemy.com/course/linear-algebra-course/', '//www.amazon.com/linear-algebra-right-undergraduate-mathematics-ebook/dp/b00pulzwpc', '//www.youtube.com/playlist', 'list=plzhqobowtqdpd3mizzm2xvfitgf8he_ab', '3blue1brown', 'supplement', 'must-do', '**statistical', 'learning**', 'introduction', '//faculty.marshall.usc.edu/gareth-james/isl/data.html', '//www.youtube.com/channel/ucb2p-jaoolkv0h22m4i9l9q/videos', '//www.youtube.com/channel/uctyluttgs3k1fg4y5tahlbw', 'halfway', 'reproducing', 'dsa', 'follows', '//web.stanford.edu/~hastie/elemstatlearn/', '**programming**', 'one-two', 'missions', 'well-structured', 'a-z', '//www.udemy.com/course/machinelearning/learn/lecture/6453704', 'start=0', '//www.amazon.com/think-python-like-computer-scientist-ebook/dp/b018uxj9eq/ref=sr_1_1', 'crid=2ndpr8r8grq8n', 'dchild=1', 'keywords=think+python', 'qid=1586982845', 's=digital-text', 'sprefix=think+python', '2cdigital-text', '2c139', 'sr=1-1', 'sweet', 'leetcode/hackerrank', '70-80', 'mediums', 'nothin', 'amazes', 'unknown', 'thorough', '4-5', 'scrolling', '25-minute', 'uninterrupted', '5-minute', 'reminding', 'gratification', 'captivating', 'stimulus', 'encouraged', 'notion', 'paradox', 'fairness', 'embody', 'satisfied—there', 'trade-off', 'false-positive', 'false-negative', 'contexts', 'recognizes', 'populates', 'recognized', 'meanings', 'ceiling', 'altitude', 'aircraft', 'walls/floor/etc', 'orders', '2500-4000', 'bidirectional', 'ultra-specific', 'overgeneralize', 'scatter', '20s', '**solid**', 'ivy', '*could*', 'crank', 'hair', 'combining', 'influx', 'not-so-technical', 'business-focus', 'jazzed', 'dropping', 'mortgage', 'barrier', '**should', '***note', '*the', 'rotating', 'topic/debate', 'downloadable', 'vlookup', 'goes…', 'invoices', 'shop', '9', '**customers', 'beer**', '//preview.redd.it/syeee0ym4rs41.png', 'width=1081', 's=80befea480ce0ec2391ebfdbed336a776433e30b', 'blue', '***why', '**one', 'evenings', 'diapers..', 'wife', '**while', 'picks', 'highlighted', '***post***', 'supermarket', 'arrange', '**whether', 'e-commerce', 'superstore', 'tactics', '*you', '*a', 'system*', '//preview.redd.it/s8omtg1s4rs41.png', 'width=892', 's=b0c636afa4201f6f81484f1eebd8224e123e7f8e', 'shopper', 'distinctive', 'preferences', 'housewife', 'dinner', 'chips', '*both', 'placed', 'prompted', '*promotional', 'discounts', '*advertisements', '*x', 'flavors', 'if-then', 'basket', 'influential', 'discovery', '**besides', 'increasing', 'co-morbid', 'medicine', 'prescription', '**support', 'itemsets', 'rice', 'kd', 'nuggets', '//preview.redd.it/ecsl15nw4rs41.png', 'width=503', 's=5310d5b9c688b944b938d8dbbef0029167781157', '**2', '//preview.redd.it/3h2hccty4rs41.png', 'width=527', 's=d295d99297f9b7e0f21c17062d3c4b53a1f63e43', '**3', 'controlling', 'implies', '//preview.redd.it/ko7fjsg35rs41.png', 'width=566', 's=50b3cdf0cb7497a5043dcbe689c40a61c0096db6', '**association', 'mining**', '57000', 'increases', 'exponentially', 'rescue', '**lets', 'studio**', 'pre-processing', 'decode', 'karthik.thandapani/build-an-efficient-recommendation-system-in-r-using-apriori-98ae21d4433a', '\\\\/\\\\/github.com\\\\/thecodemasterk\\\\/download\\\\_apriori', '//preview.redd.it/fd8882u95rs41.png', 'width=467', 's=20474b9ec1e57e654517cfc6a703b1703f2cb45c', 'mbb', 'will..', 'discomfort', 'me..', 'fueled', '**have**', 'backpropagation', 'coded', 'priors', 'likelihood', 'approximation/quadrature/mcmc', 'existence', 'confronted', 'existed', 'infinite', 'learn/focus', 'off-the-job', 'faith', 'sci', 'dabbled', 'modellling', 'telegram', 'scrapping', 'supposedly', 'subsetting', 'webscrap', '1/2', 'asides', 'bs4/selenium', 'dynamic', 'glance', 'perpetually', 'baffled', 'staple', 'shed', '*extensively*', 'engineering-related', 'resorting', 'serves', 'paint', 'unintuitive', 'dense', 'stackoverflow', 'motivating', 'virtuosos', 'twb_bi/starting-a-data-quality-checklist-2d500e97ab5c', 'bs', 'ies', 'structural', 'scheduled', 'conversational', 'dba', 'yearly', 'summit', 'uptime', 'archived', 'archiving', 'refreshed', 'time-out', '**tables**', 'naming', 'customer\\\\_new', 'customer\\\\_new\\\\_new', 'alternates', '**joins**', 'parents', 'relatable', 'notated', 'paste-able', 'anti-query', 'reverse', 'filters', 'mirror', 'preventative', 'whitelist', 'blacklist', '**all', 'general**', 'hashes', 'extracts', 'timestamps', '5.99', 'identity', 'invisible', 'strangely', 'line-break', 'inappropriate', 'f-bomb', 'shareholder', '**categorical', 'new/missing', 'hero', 'vastly', 'veh\\\\_type', 'veh\\\\_brand', 'audi', 'ford', 'toyota', 'grouping', '**boolean', 'true/false', 'override\\\\_price=0', 'discount\\\\_price', 'nulls', '**id', 'remains', 'identical', 'number/integer**', 'decimals', 'occurring', 'maximum/minimum', 'linearly', '150', '250…', 'smallint', 'price\\\\*tax=total', 'signs', '**currency**', 'currencies', 'sane', 'debit', 'company/office', 'former', 'no-marketing', '**phone', 'numbers**', 'residence', 'toll', 'bogus', 'dialer', 'returns', '**mailing', 'address**', 'un-cleanable', 'state/region', 'strictly', 'enforced', 'mailing', 'apt', 'po', '**sensitive', 'pii**', 'humanely', 'ethnicity', 'hipaa', '**financial', 'unmasked', 'expiration', 'winner', '**date', 'time**', 'date-time', '12th', 'entered', 'holidays', 'ruin', 'field2', 'field1', 'biweekly', 'midnight', 'hurricanes', 'pandemics', 'daylight', 'use-cases', 'utilized', 'business/mba', 'business/market', 'diminished', 'crave', 'regain', 'acumen', 'v', 'answers/questions', 'science**', '**business**', 'recognize', 'chains', 'generates', '79', 'scroll', 'manages']\n",
            "['wallet', 'birthday', 'keeper', 'fave', 'well..i', 'apologies..i', 'debrief', 'backlash', 'military', 'godhood', 'skills', '//www.reddit.com/poll/hrzfka', 'chillyravenart', 'drawer', 'mock', 'joestsars', 'jojo', 'adventure', 'blurays', '//www.reddit.com/poll/hrgzd3', 'lynesse', 'hightower', 'sailling', 'sparks', 's1e5', 's2e7', 'linking', 'em', 'pencil', 'trent', 'redmond', \"'the\", 'edition*', 'lannister/brienne', 'drinking', 'contest', '21st', 'century', 'vulgar', 'virgin', 'reductive', 'crediting', 'abusers', 'bird', 'reject', 'proposal', 'poignant', 'informed', 'evoked', 'convenience', 'staged', 'unrealistic', 'implausible', 'loyalists', 'injury', 'unseat', 'grief', 'sexist', 'coined', \"'who\", 'rules', 'arianne', 'talla', \"'because\", 'ignores', 'superiority', 'purely', 'spite', \"'stay\", 'response', 'explicitly', 'parallel', 'impulsive', 'saul', 'wash', 'sight', 'sound', '*there', 'editions', '7/10', 'twoiaf', 'eye', 'passage', 'wherein', 'remained', 'autumn', 'howling', 'ascent', 'p.172', 'affc', 'primed', 'patient', 'readers', 'grooming', 'harrold', 'hardnyng', 'regent', 'sickly', 'alteration', 'occurrence', 'flew', 'vhagar', 'inner', 'yard', 'alayne', 'waycastles', 'prudent', 'waddle', 'amiright', 'infiltrate', 'faking', 'unimpressed', 'nonchalant', 'climbing', 'stairs/arya', 'grin/jamie', 'death/dothraki', 'hoard', 'kneeled/ser', 'kneeled/tyrion', 'conquerors', '—', 'differentiating', 'depth', 'unique', 'morning', 'rumor', 'fame', 'awards', 'michelle', 'fairly', 'robbed', 'lena', 'headey', 'harrington', 'guest', 'ass', 'flabbergasted', 'sag', 'ensemble', 'deborah', 'riley', 'production', 'imho', 'garvonka', '//www.instagram.com/gavronka_/', 'featured', 'speculate', 'written/finished', 'pits', 'runner-ups', '//www.reddit.com/r/gameofthrones/comments/hqosj3/spoilers\\\\_best\\\\_fights\\\\_in\\\\_game\\\\_of\\\\_thrones\\\\_final/', '//www.reddit.com/r/gameofthrones/comments/hqosj3/spoilers_best_fights_in_game_of_thrones_final/', '//www.reddit.com/poll/hqowq5', 'bait', 'untrue', 'comprehensive', 'misplaced', 'cares', 'socially', \"'justice\", 'firm', 'allowing', 'effected', 'tact', 'refuses', 'unfit', 'pushed', 'standing', 'promises', 'secrecy', 'hung', 'unneeded', 'defense', 'villainous', 'angered', 'excuse', 'seek', 'betrothed', 'liar', 'lies', 'folly', 'complains', 'resigns', 'targeted', 'actively', 'convenient', 'likelihood', 'willing', 'offered', 'protection', 'slip', 'waits', 'putting', 'danger', 'examples', 'hows', 'expense', 'speaking', 'vanquished', 'inheritance', 'agreed', 'imminent', 'destruction', 'doorstep', 'wreak', 'havoc', '--', 'ridiculousness', 'lessons', 'ruin', 'supposedly', 'pls', 'votes', '//www.reddit.com/r/gameofthrones/comments/hqowq5/spoilers\\\\_best\\\\_fights\\\\_in\\\\_game\\\\_of\\\\_thrones\\\\_bonus/', '//www.reddit.com/r/gameofthrones/comments/hqowq5/spoilers_best_fights_in_game_of_thrones_bonus/', '//www.reddit.com/poll/hqosj3', 'gruff', 'complection', 'leather', 'seats', 'shades', 'amazon', 'aeron', 'essay', 'demands', 'arguing', 'deceived', 'reasoning', 'praise', 'appreciated', 'quick', 'commitment', 'parallell', 'asha', 'pounding', 'unpack', 'score', 'incredible', 'excellent', 'handle', 'suspense', 'aria', 'baddest', 'inhaled', 'loudly', 'shopping', 'visited', 'n.ireland', 'visit', 'ellari3l_cosplay', 'pandemic', 'approaching', 'prioritized', 'defending', 'highgarden', 'acutely', 'aware', 'financial', 'difficulties', 'resolving', 'abundance', 'readily', 'dormant', 'generic', 'resolution', 'chase', 'intermittent', 'culminating', 'reestablishing', 'castles', 'explored', 'regions', 'struggled', 'dismiss', 'brief', 'period', 'alaskan', 'r+l', 'j', 'groundwork', 'crazier', 'brethren', 'senselessly', 'backstabbed', 'affiliations', 'assumed', 'presume', 'indeed', 'fateful', 'begs', 'noses', 'illusory', 'necklace', 'self', 'spell', 'hue', 'shells', 'central', 'focus', 'heroic', 'cook', 'flame', 'cooked', 'bath', 'alludes', 'crustaceous', 'crusader', 'speculated', 'fragility', 'annihilation', 'superior', 'species', 'priestesses', 'hiding', 'exhausted', 'ruler', 'reveals', 'persecute', 'masterfully', 'highlights', 'fleeting', 'humans', '//imgur.com/gallery/4ayhwnk', 'boundaries', 'neck', 'subjugated', 'economic', 'benefit', 'transport', '//www.reddit.com/poll/hpxtcn', 'survivors', 'camped', 'myraham', 'seaguard', 'captain', 'peppercrab', 'stew', 'thinning', 'catches', 'contraption', 'pulled', 'inside', 'loose', 'curly', 'merged', 'interact', 'assuming', 'filmed', 'separately', 'farther', 'corpses', 'savagely', 'feasters', 'strewn', 'overturned', 'chairs', 'hacked', 'trestle', 'tables', 'asprawl', 'pools', 'congealing', 'limbs', 'severed', 'clutched', 'cups', 'wooden', 'spoons', 'roast', 'fowl', 'leg', 'lamb', 'scepter', 'mute', 'appeal', '48', 'clearly', '**sss', '**s', '**a', '**b', 'ygritte', '**c', '**d', '**f', 'gregor', '**per', 'judging', 'persuasive', 'charismatic', 'v=lpqrz974v4k', 'kracken', 'federico', 'musetti', 'roght', 'orgasm', 'atleast', 'drawls', 'threw', 'drawl', 'symptoms', 'coronavirus', 'ant', 'improvised', 'frauds', 'legacy', '1-year', 'retrospective', 'decree', 'invalided', 'jon/aegon', 'refused', '1er', 'manse', 'lings', 'certain', 'border', 'mexico', '–', 'waterfall', 'skylarkling', 'dragonback', 'wished', 'emerges', 'unburned', 'possibilities', 'subversive', 'anti-hero', 'one-note', 'furthermore', 'returning', 'seasoned', 'spanning', 'defiance', 'duskendale', 'predominantly', 'doran', 'exploring', 'exploration', 'sucker', 'learnt', 'newbie', 'preparing', '//www.reddit.com/poll/hpadmp', '\\\\', 'spoilers\\\\', 'coupe', 're-reading', 'wen', 'bc', 'spoiling', '**is', 'rivals', 'seriousness', 'unleashing', 'choreography', 'grips', '**i', 'lotr', 'comparison', 'ep1', '//preview.redd.it/0pn8dv43b6a51.png', 'width=1918', 's=a4f70d4f6c27511b14171ca2a0a9be029d617336', 'metaphor', 'figures', 'shoulders', 'represent', 'devil', 'angel', 'opposite', 'sister-wives', 'largest', 'mix', 'mannis', 'artur', 'tarnowski', 'sahin', 'duezguen', '//youtu.be/pwc-8qqp-qi', 'explanation', 'ig', 'delete', 'physics', 'expert', 'unskilled', 'misunderstandings', 'lore', 'passages', 'affected', 'failing', 'sidetrack', 'exists', 'hllor', 'unpredictable', 'effects', 'center', 'spiraling', 'downvote', 'doom', 'fourteen', 'erupted', 'widely', 'debated', 'volcano', 'drifting', 'orbit', 'entering', 'belt', 'cluster', 'comet', 'tangle', 'myrish', 'lyseni', 'legend', 'tellls', 'hatched', 'alas', 'journeyman', 'pen', 'refuse', 'usual', 'established', 'logical', 'conclusions', 'explaining', 'unfair', '😍😍', 'fot', 'rankings', '//youtu.be/bods-az4jn4', 'bothering', 'tragic', 'direwolf', 'quickie', 'piano', 'inheriting', 'it/forgot', 'corlys', 'velaryon', 'snake', 'fabled', 'tides', 'dracarys', 'devan', 'spin-off', 'amazed', 'detest', 'loathe', 'shamed', 'allegiance', 'treasonous', 'themes', 'g.o.t', 'and/or', 'identify', 'remind', 'wed', 'draw', 'strength', 'dragon/targaryan', 'defined', 'unselfish', 'belonging', 'outcast/black', 'sheep', 'mistreated', 'bitter', 'belonged', 'arrogance', 'self-confidence', 'via', 'torture', 'captive', 'feeling', 'dandy', 'charming', 'reality', 'bitch-slap', 'witnessed', 'beheaded', 'effectively', 'intentions', 'passion', 'sexual', 'ardor', 'is…', 'inhumanity', '//passtime.fun/crossletters/play/39', 'preview', '//i.imgur.com/ixb68en.png', 'tough', 'howuch', 's04e02', 'dancing', 'tirion', 'helper', 'lightsaber', 'item', 'branimal', 'spin', '👁️🐺🦅', '//www.reddit.com/poll/ho0974', 'collectors', 'p.r', '//preview.redd.it/gsv9m2q2sv951.jpg', 'width=600', 's=07f550c43c6c3894e32e3b972c4de1061f41d17f', '//preview.redd.it/aluas7q2sv951.jpg', 'width=402', 's=c49893a9d3117b67c104aa1496118306d6245d1f', 'v=xf\\\\_8tkjilmc', 'v=xf_8tkjilmc', 'words', 'fail', 'who-s', 'accepting', 'lessening', 'armour', 'empowering', 'focusing', 'tying', 'calculated-seeming', 'tyrion/dany', 'grieving', 'prefer', 'resignation', 'appointed', 'shattered', 'repair', 'lesser', 'collateral', 'righteous', 'implement', 'presented', 'presence', 'holes', 'vacillating', 'ratings', '+', 'televison', 'briann', 'reny', 'priestess', 'cosplaying', 'edited', 'queens', 'benefited', 'heel', 'punishment', 'power/lands/assets', 'bind', 'theres', 'forgive', 'heirs', 'maesters', 'warned', 'emissary', 'device', 'romance', 'permitted', 'parrot', '7x03', 'allies', 'sovereignty', 'confessed', 'paternity', 'grenade', 'mixed', 'courtier', 'chew', 'toy', 'olympics', 'manipulate', 'courtiers', 'mea', 'muscle', '//www.reddit.com/r/gameofthrones/comments/hno7zt/spoilers\\\\_best\\\\_fights\\\\_in\\\\_game\\\\_of\\\\_thrones\\\\_part\\\\_5/', '//www.reddit.com/r/gameofthrones/comments/hno7zt/spoilers_best_fights_in_game_of_thrones_part_5/', '//www.reddit.com/poll/hnopxy', 'sigils', 'mdf', 'lights', 'starnado', 'creations', 'fb', '5-', 'modified', 'feature', '//www.reddit.com/r/gameofthrones/comments/hnnlwb/spoilers\\\\_best\\\\_fights\\\\_in\\\\_game\\\\_of\\\\_thrones\\\\_part\\\\_4/', '//www.reddit.com/r/gameofthrones/comments/hnnlwb/spoilers_best_fights_in_game_of_thrones_part_4/', '//www.reddit.com/poll/hno7zt', 'steady', 'nymeria', 'sort-of', 'penance', 'upvote', 'outs', 'ate', 'ball', 'fatness', 'havnt', 'packed', 'politics', 'enlighten', '//www.reddit.com/poll/hnn9q5', '//www.reddit.com/r/gameofthrones/comments/hn15ux/spoilers\\\\_best\\\\_fights\\\\_in\\\\_game\\\\_of\\\\_thrones\\\\_part\\\\_3/', '//www.reddit.com/r/gameofthrones/comments/hn15ux/spoilers_best_fights_in_game_of_thrones_part_3/', '//www.reddit.com/poll/hnnlwb', 'mugs', '..i', 'confess', 'ring', 'frodo', 'congrats', 're-do', 'zombie', 'sisters', 'claiming', 'brien', 'tied', 'sleep', 'floor', 'trunk', 'supper', 'tricks', 'daddy', 'cuts', 'troll', 'trolled', 'gods', 'april', 'fools', 'sides', 'unbearable', 'versions', 'clean', 'ffs', 'official', 'contain', 'yay', 'v=h-out\\\\_vv88e', 'v=h-out_vv88e', 'devote', 'targareyns', 'danny', 'king/queen', 'secession', '//www.reddit.com/r/gameofthrones/comments/hn0g22/spoilers\\\\_best\\\\_fights\\\\_in\\\\_game\\\\_of\\\\_thrones\\\\_part\\\\_1/', '//www.reddit.com/r/gameofthrones/comments/hn0g22/spoilers_best_fights_in_game_of_thrones_part_1/', '//www.reddit.com/poll/hn0vsn', 'bricks', 'savage', '**note', '*jon', 'bolton*', '***just', 'gates***', 'arrows', 'beats', '//www.reddit.com/r/gameofthrones/comments/hn0vsn/spoilers\\\\_best\\\\_fights\\\\_in\\\\_game\\\\_of\\\\_thrones\\\\_part\\\\_2/', '//www.reddit.com/r/gameofthrones/comments/hn0vsn/spoilers_best_fights_in_game_of_thrones_part_2/', '//www.reddit.com/poll/hn15ux', 'havent', 'referred', 'refer', 'addressed', 'recall', '//www.reddit.com/poll/hn0g22', 'covid', 'mask', 'was..', 'glimpse', '*love', 'duty*', 'hindsight', 'mother😭', '10x', 'prologue', 'chaos', 'ladder', 'ros', 'shae', 'shock', 'cinematic', 'beauty', 'episdoe', 'raised', 'boat', 'sequel', 'mom', 'powers', 'exact', 'completing', 'simultaneously', 'hastings', 'catastrophe', '1914', 'audible', 'incident', 'escalated', 'reformed', 'figureheads', 'till', '1918', '1945', 'depending', 'sours', 'rewatchability', '5-6', 'consistently', 'noticably', 'cringey', 'writes', 'memoir', 'cercei', 'mask/face', 'wyman', 'manderly', 'burbrey', 'dustin', 'defect', 'secure', 'skagos', 'asked', 'belief', 'ressurect', 'ressurected', 'amdist', 'amidst', 'passes', 'bleeding', 'execute', 'tempering', 'reborn', 'sometime', 'raegar', 'reenforcing', 'arriving', 'exercise', 'showrunners', 'achievement', 'professional', 'rushing', 'fixing', 'store', 'plotted', 'hauling', 'marked', 'unknowingly', 'ancient', 'protecting', 'underneath', 'weapons', 'mammoths', 'swarm', 'gate', '999th', 'eddison', 'tollett', 'breaches', 'strolling', 'raising', 'signified', 'dolorous', 'edd', 'rising', 'entourage', 'seige', 'characterization', 'odds', 'randall', 'dickon', 'refusing', 'bay', 'surrounding', 'overhead', 'starve', 'inciting', 'uprising', 'dissimilar', 'yunkai', 'garrisons', 'directions', 'hearth', 'karhold', 'deepwood', 'motte', 'dreadfort', 'newly', 'headed', 'ancestral', 'overrun', 'informs', 'arrived', 'setting', 'convince', 'playful', 'banter', 'forcing', 'dragonpit', 'arranged', 'angle', 'prepare', 'costs', 'dedicated', 'loathing', 'builder', 'prison', 'suffer', 'commences', 'wayside', 'knocked', 'injuring', 'flies', 'hero', 'gather', 'duels', 'bests', 'fatal', 'nowhere', 'presumed', 'lunges', 'plunges', 'dragonglass', 'slowly', 'burst', 'breathes', 'sigh', 'relief', 'immediate', 'calvary', 'helm', 'scorned', 'lover', 'decimating', 'turncoats', 'slaughter', 'harbor', 'captures', 'securing', 'subplots', 'spend', 'flirting', 'foundation', 'consummating', 'howland', 'greywater', 'grieve', 'jojen', 'consummated', 'culmination', 'bleed', 'watches', 'reign', 'terror', 'marching', 'narrative', 'purposes', 'bearing', 'disillusioned', 'heals', 'stopping', 'unbelievably', 'idiotic', 'kidnap', 'fruition', 'thankful', 'declared', 'excised', 'crimes', 'drinks', 'task', 'rebuilding', 'spearheads', 'slipping', 'cue', 'torn', 'compelled', 'rallies', 'condition', 'roaring', 'concerned', 'telephone', 'unbeatable', 'motley', 'crew', 'worries', 'frees', 'surrender', 'gates', 'torch', 'sneak', 'quests', 'armys', 'overwhelm', 'nexus', 'civilians', 'liberating', 'wind', 'scorpions', 'shots', 'swaths', 'raining', 'cleganebowl', 'advertised', 'manic', 'desperation', 'ignite', 'wildfyre', 'stores', 'wraps', 'chokes', 'crushing', 'weight', 'bloodbath', 'dazed', 'stumbles', 'surveying', 'tries', 'justify', 'resolves', 'devastation', 'revel', 'victory', 'plunging', 'freeing', 'grip', 'walks', 'leaders', 'treason', 'wide', 'suitable', 'reward', 'status', 'sewer', 'drainage', 'reclaims', 'marry', 'kisses', 'asks', 'matthos', 'country', 'begin', 'explorer', 'discovers', 'americos', 'forests', 'hailed', 'instant', 'judged', 'virtually', 'internal', '//www.reddit.com/poll/hmakvn', 'incest', '6.10', 'non-book', 'prior', '59', 'incestuous', 'underemphasised', 'compass', 'netflix', 'rails', 'non-argument', 'reopened', 'rooting', 'blown', 'wound', \"'is\", \"'oh\", 'partner', \"'do\", 'worry', '*later*', 'random', 'citizen', \"'argh\", 'swarms', 'noooo', '*angry', 'expression', \"'no\", 'articles', 'slight', 'judge', 'shouldve', 'rode', 'depend', 'mercy', 'symbolism', 'justifies', '7x5', 'targaryen/stark/greyjoy/tully/dornish/leftover', 'loyalist', 'depleted', 'ambush', 'increasing', 'despair', 'ongoing', 'keeping', 'triggering', 'burn/accidental', 'setoff', '9/episode', '//www.reddit.com/poll/hllu6l', 'dramatically/secretly', 'minute', '//youtu.be/xf_8tkjilmc', 'popcorn', 'attacking', 'chain', 'archived', 'commentary', 'blu-ray', 'vfx', 'department', 'concept', 'explosion', 'storyboards', 'table', 'allegedly', 'landing—they', 'fascinating', 'infuriating', 'thread', 'rendition', 'troc', 's2', 'e1', 'plex', 'library', 'enter', 'narration', 'describes', 'area', 'accessible', 'disrepair', 'boarded', 'entrances', 'murderer', 'advancing', 'minecraft', 'dudes', 'owned', 'overjoyed', 'purchase', 'villanueva', 'fender', 'guitars', 'elenastripe', 'insane', 'harsh', 'reached', 'cheer', 'met', 'nation', 'taiwanese', 'eng', 'clip', 'v=yn8gqt7xuxs', 'includes', 'secondly', 's8e3', 'acrylic', 'vans', 'traveling/timeline', 'criticisms', '7/8', 'teleport', 'capturing', 'forget', 'indication', 'needing', 'sailing', 'narrow', 'sail', 'elena', 'facts', 'compared', 'paint', 'muciano', 'ultra', 'rough', 's04e09', 'stakes', 'tracking', 's03e09', 's06e09', 'basterds', 'fire-breathing', 'visually', 'stunning', 'inconsistent', 'armor', 'thick', 'described', 'rant', 'elect', 'june', 'f', 'k', 'n', 'cringe', 'normal', 'destroy', 'morals', 'rewrote', 'desperately', 'videogame', 'vibes', 'drew', 'saga', 'sentence', 'clue', 'screwing', 'track', '**if**', '//preview.redd.it/oo811yikpo851.png', 'width=1524', 's=50d8ba43bce1b7ae2e178ff11426cc910cff53fc', 'heh', 'lord.', 'doubted', 'w/', 'hooked', 'sack', 'unite', 'ww', 'realised', 'intent', 'baited', 'assassins', 'queenslayer', 'crossing', 'borked', \"'seeing\", 'inform', 'contribute', 'inactive', 'subreddit', 'subscribers', 'kat', 'leannas', 'popularly', 'childbirth', 'stafford', 'good-brother', 'joanna', 'session-', 'dear', 'assignment', 'tessa', 'y/o', 'dutch', 'student', 'studying', 'creative', 'subject', 'participatory', 'cultures', 'analyse', 'exited', 'dive', 'normally', 'reply', 'research', 'encountered', 'distributors', 'gender', 'f/m/x', 'optional', 'experience', 'meaningful', 'contributing', 'user', 'generated', 'text', 'posted', 'users', 'platforms', 'professionalise', 'answering', '**any', 'perceive', 'welcome', 'nouveau', 'attached', 's8e4', 'funeral', 'djawadi', 'unreal', 'essential', 'conveys', 'immense', 'develop', 'remarkable', 'composer', 'fronts', 'dragoons', '3:9', \"y'all\", 'mahqueen', 'hostage', '__greyjoy', 'rebellion__', 'includign', '^^lannister^^', '^^stark^', '^^tully^^', 'behest', 'greyjoys', 'bid', '__theon', 'greyjoy__', 'ward', '__eddard', 'stark__', '__theon__', '__hostage__', 'quoted', 'joker', 'stable', 'feels', 'threatens', '180', 'monroeidiot', 'torrhen', 'knelt', 'reigned', 'invaded', 'submitting', 'inspiration', 'dion', 'mysteries', 'plotlines', 'differ', 'skip', 'squarely', 'fault', 'restoration', 'schemings', 'illyrio', 'mopatis', 'polar', 'opposites', 'admire', 'narcissistic', 'paramount', 'marches', 'promising', 'marrying', 'ordering', 'secures', 'loan', 'akin', 'hire', 'mercenaries', 'relative', 'placed', 'neither', 'damaged', 'disgust', 'reluctant', 'acceptance', 'flock', 'favour', 'involvement', 'valemen', 'suit', 'represents', 'alliances', 'mutual', 'friendships', 'exploits', 'manipulates', 'possess', 'westerosi', 'chinese', 'becane', 'vlosely', 'dissapointed', 'corrected', 'meetings', 'recognize', 'push', 'inferior', 'servant', 'staff', 's4', 'interviews', '☹', 'mistakes', 'cocktail', 'stained', 'idc', 'boss', 'implausibly', 'passive', 'plausibly', 'food', 'supply', 'tarlys', 'trusting', 'incredibly', 'costly', \"'nuts\", 'breached', 'dangerous', 'f**k', 'civilian', 'bloodshed', 'executing', '8a', 'largely', 'breaching', 'ferrying', 'vulnerable', 'targ/stark', 'alliance', 'blindsided', 'defence', 'hastier', 'antics', 'cost', '8b', 'emergence', 'igniting', 'factions', 'afterward', 'supporters', 'scenario', 'successfully', 'advocate', 'acceptable', 'compromise', 'characrer', 'tho', 'proved', 'pulling', 'litterally', 'binging', 'harder', 'root', 'fast', 'geoffrey', 'duolingo', 'teaches', '//www.reddit.com/poll/hjdycq', 'twice', 'granduer', 'noticing', 'colonist', 'trees', 'structures', 'oldstown', 'genetic', 'manipulation', 'andals', 'countries', 'developed', 'dinosaurs', 'gravity', 'animals', 'feeds', 'americans', 'step', 'europeans', 'asians', 'achieved', '500', 'famine', 'technology', 'grew', 'plants', 'thorough', 'planters', '//www.reddit.com/poll/hjla7z', 'aspects', 'three-eye', 'commissions', '👑', 'matters', 'exist', 'receives', 'plotline', 'declined', 'reunion', 'recruiting', 'dotharaki', 'umbers', 'siding', 'darrio', 'downs', 'alongside', 'bravery', 'wasted', 'opportunities', 'neglecting', 'abilities', 'trident', 'breach', 'pyke', 'tourney', 'arthur', 'dayne', 'cripple', 'wierdo', 'height', 'paying', 'circlejerk', 'recreation', 'zoo', 'images/drawings', 'ensures', 'illusion', 'historically', 'roman', 'austrian', 'habsburgs', 'habsburg-lorraines', 'indefinitely', 'maria', 'theresa', '400', 'streak', 'husband', 'elected', 'fadly', 'romdhani', 'inquires', 'inquired', 'supernatural', 'exception', 'sign', 'chalk', 'unreliable', 'poisonous', 'mushrooms', '>', 'captors', '<', 'coincidence', 'visions', 'casting', 'purposefully', 'outright', 'shaken', 'theoretically', 'stark/lannister', 'mrycella', 'titles', 'outlived', 'dissappointed', 'prophesied', 'legends', 'interpret', 'childeren', 'afraid', 'glad', 'begun', 'planned', 'c', 'blog', '2021', '\\U0001f97a', 'e', 'craft', 'upcoming', 'ebook', 'vital', 'crafting', 'deciding', 'rolls', '9th', '30', 'whoever', 'algo', 'ex', 'ellaborate', 'phase', 'pleased', 'raleigh', 'ritchie', 'singer', 'titel', 'tagging', 'careful', 'damnit', 'express', 'fictional', 'nice', 'wierwood', 'dunkirk', 'redeemable', 'smarter', 'sincere', 'gutted', 'redeemed', 'blade', 'redeem', 'treatment', 'exclusive', '//www.reddit.com/poll/hia621', 'descendents', 'unless', 'marries', 'watchmen', 'vows', 'wear', 'darkness', 'watcher', 'walls', 'wakes', 'sleepers', 'pledge', 'guard', 'warn', 'proclaimed', 'cloaks', 'tribute', 'snapped', 'sighed', 'chapters', 'update', 'accuracy', 'gots', 'deaths', 'contained', 'pants', 'clout', 'tik', 'tok', 'reposting', 'acc', 'adapted', 'confusing', 'becuase', 'replys', 'johnny', 'airport', 'airing', 'disgraced', 'strand', 'mutiny', 'replicas', 'receiving', 'jaimie', 'views', 'faces', 'forms', 'bond', 'h', 'ghar', 'goodbye', 'wears', 'acquire', 'personality', '4:16', 'chella', 'cheyk', 'clan', 'chief', 'clans', 'fifty', 'forty-six', 'adaptation', 'portrayed', 'natalie', 'lee', 'football', 'crazed', 'introducing', 'teams', 'premier', 'league', 'uniforms', 'designed', 'ssooooonnn', 'kinder', 'joys', 'everyday', 'sucking', 'shitshow', 'kinda', 'sucks', 'expectation', 'helpful', 'overwhelmed', 'backstories', 'googling', 'names/and', 'connected', 'mood', 'osha', 'timelapse', 'jaw-dropping', '//preview.redd.it/e4xsykf7fn751.png', 'width=1280', 's=27c14398d98622ee7013c392dafe90e82ae661ec', 'stitch', 'collection/missing', 'arantza', 'sestayo', 'acknowledged', 'rheagar', 'runners', 's7e2', 'planning', 'olena', 'greyworm', 'penis', 'emotionally', 'shay', 'hitting', 'g.', '72', 'completion', '//www.reddit.com/poll/hh29wz', 'categorizing', 'classes', 'brutish', 'principals', 'baratheon-', 'overly', 'tire', 'facing', 'opponents', 'armed', 'uninjured', 'bolton', 'solders', 'roberts', 'hammer', 'chest', 'frequently', 'carnal', 'siring', 'plethora', 'barbaric', 'stark-', 'paladin', 'strict', 'ethics', 'stray', 'grave', 'freys', 'murdered', 'lannisters-', 'tacticians', 'field', 'loses', 'skill', 'swordsman', 'sunspear', 'experienced', 'strategic', 'warrants', 'devised', 'ships', 'retains', 'outsmarted', 'guerrilla', 'targaryen-', 'sorcerer', 'sorcerers', 'fits', 'hatch', 'resistant', 'additional', '27', 'overview', '6th', '7th', 'entirety', 'concurrently', 'two-thirds', 'equated', '700', 'surpassed', 'stated', '6-7', '1500', '23', '10-episode', 'totalling', '100', 'handful', 'ebay', \"'winds\", 'analogy', 'lanister', 'colored', 'portfolio', 'makeup', 'brushes', 'joey', 'cup', 'consentration', 'average', 'rating', 'descent', 'cutting', 'brann', 'underwhelming', 'spinoff/prequel', 'development', 'qarth', 'selsnt', 'babies', 'recorded', 'ludvig', 'neighbour', 'iorek', 'solo', 'acoustic', 'propaganda', 'boot', 'flea', 'market', 'captions', 'access', 'commentaries', 'sleeve', 'printed', 'printer', 'unclearly', 'attach', 'recognises', 'bootlegged', 'searches', 'promotional', '//preview.redd.it/1f8j5x0ir8751.jpg', 's=9427f9598ab2a1c2a3e95a932da07d695f24d0bf', 'lists', 'provides', 'subtitles', '//preview.redd.it/h5tw6y0ir8751.jpg', 's=2760a95782d83497f429ffbbe9c4e0119559a653', 'logo', '//preview.redd.it/kynl5x0ir8751.jpg', 's=c237237cf699c2c9bbd08edf3ff9dcacc2286162', 'decor', 'covered', 'classical', 'first-ever', 'funko', 'customs', 'repainting', 'costumes', 'itunes', 'discounts', 'veep', 'appleosophy', 'evolve', 'suspenseful', 'tv/movies', 'greatness', 'medieval', 'portrrait', 'walkthrough', 'renders', 'badassery', 'redeeming', '//www.reddit.com/poll/hfse74', 'aaand', 'expire', 'pleasure', 'despicable', '5/5', 'whichever', 'closes', '//www.reddit.com/r/gameofthrones/comments/hftp58/spoilers\\\\_best\\\\_battles\\\\_in\\\\_game\\\\_of\\\\_thrones\\\\_65\\\\_bonus/', '//www.reddit.com/r/gameofthrones/comments/hftp58/spoilers_best_battles_in_game_of_thrones_65_bonus/', '//www.reddit.com/poll/hft53d', '1-73', 'top/bottom', 'finishes', 'crescendo', 'class', 'amplify', 'tension', '5.8', 'bright', 'weak', 'massacre', 'breathtaking', '8.2', 'letter', 'w/the', 'montage', '3.9', '4.9', '8.5', 'lion', 'rose', '4.2', '8.4', 'egregious', 'forgetting', 'parlay', '7.6', 'expedition', 'dumb', 'entertaining', 'bonkers', 'beef', 'arya/sansa', 'unbowed', 'unbent', 'unbroken', '5.6', 'rape', 'inexcusable', 'jaime/bronn', 'laughably', 'dishonorable', '5.5', 'stormborn', '7.2', 'harpy', '5.4', 'cute', 'sprees', 'understood', 'interpreted', 'permanently', 'thag', 'misinterpret', 'booming', 'tooth', 'smashed', 'buddy', 'bootleg', 'poetic', 'false', 'admits', \"'disapointed\", '6/5', 'choosing', '//www.reddit.com/r/gameofthrones/comments/hft53d/spoilers\\\\_best\\\\_battles\\\\_in\\\\_game\\\\_of\\\\_thrones\\\\_55\\\\_final/', '//www.reddit.com/r/gameofthrones/comments/hft53d/spoilers_best_battles_in_game_of_thrones_55_final/', '//www.reddit.com/poll/hftp58', 'pods', 'rr', 'reportedly', 'adara', 'parallels', 'impacts', 'torrential', 'floods', 'freezing', 'temperatures', 'starvation', 'breakup', 'correspond', 'basic', 'level', 'sheet', 'levels', 'wiping', 'coastal', 'reset', 'recovering', 'scratch', 'schoch', 'impacted', 'coronal', 'mass', 'ejection', 'ravaged', 'magnetosphere', 'sized', 'freak', 'hurricanes', 'thunderstorms', 'forming', 'scientist', 'ought', 'brush', 'convey', 'personified', 'extent', 'inspirations', 'edits', 'grammer', 'granted', '*hurts*', 'topographic', 'tl', 'dr', 'print', 'file', 'cnc', 'efforts', 'werent', 'integrity', 'important', 'reputation', 'franchize', 'sullied', 'complained', 'cheque', 'greater', 'spoiler', 'alert', 'remove', 'tag', 'posts', 'anniversary', 'westeros/essos/ect', 'ease', 'zanza', 'uniting', 'continents', 'whose', 'road', '2004', 'memory', 'jogged', 'peoples', 'complaints', 'longer', 'scheming', 'strategy', 'complaint', 'surrounded', 'streaming', 'reccomend', 'blu', 'ray', 'colors', 'ditch', 'peoole', 'opposed', 'david', 'd.b', 'anymore', 'f*', 'contract', 'lommy', 'unbelievable', 'twins', 'twin', 'shitting', 'g', 'smartest', 'motherfucker', 'btw', 'practically', 'assured', 'exile', 'necessary', 'steps', 'combine', 'light-jesus', 'thousand', 'necrotic', 'conjecture', 'speculation', 'twow', 'n+a=j', 'savior', 'a-pie', 'slapping', 'stuffing', 'hopes', 'ign', '..nuff', 'doltrice', 'musical', 'actresses', 'aryas', 'poisoned', 'audiobook', 'replacement', 'dotrice', 'redo', 'narratorial', 're-write', 'rewrite', 'handmade', 'bolo', 'challenge', '50', 'ultimate', 'featuring', 'interacting', 'unstoppable', 'clever', 'brynden', 'asleep', 'coupleofkooks', 'petty', 'gripe', 'hotk', 'sharp', 'cunning', 'rid', 'betrothal', 'reminding', 'scared', 'wiki', 'filled', 'monarch', 'shortsighted', 'timid', 'foolish', 'stubborn', 'devolve', 'open-world', 'skyrim-esque', 'developers', 'npc', 'create-your-character', 'picking', 'proceeds', 'banner', 'tyrells', 'instance', 'distant', 'ancestor', '//youtu.be/qhkpvtoif94', 'focuses', 'connects', 'dyed', 'choked', 'recognizable', 'disguise', 'worn', 'forel', 'climb', 'avenged', 'fulfilled', 'forged', '//youtu.be/mnbmnr1yrf4', 'figured', 'linkin', 'park', 'emergency', 'imagery', 'jimmy', 'barnes', 'pic', 'kitty', 'septa', 'mordane', 'recurring', 'notice', 'awhile', 'cersi', 'supports', 'targarian', 'grows', 'flees', 'afrer', 'wont', 'offers', 'fresh', 'mantz', 'johns', 'feedback', 'settled', 'inclined', '**8', '5**', 'controversial', 'skippable', 'attention', 'harpies', 'sparrows', 'regularly', 'disengaged', 'ironically', '**7', '7**', 'exhibit', 'nadir', 'regard', 'reduced', 'evident', 'hunt', 'convoluted', 'worthy', 'admit', 'exciting', '**6', '8**', 'improvement', 'rewatchable', 'technical', 'standpoint', 'condensed', 'e4', 'ludicrous', 'stops', '**5', '6**', 'definite', 'shines', 'flaws', 'endgame', 'solid', 'bob', 'cathartic', 'scrutiny', 'joy', '**4', '1**', 'large', 'gap', 'draws', 'brutal', 'twists', '**3', '2**', 'introduced', 'denser', 'opened', 'hallway', '**2', '4**', 'hits', 'combined', 'increased', 'spectacle', '**1', '3**', 'invested', 'campaign', 'reaches', 'dramatic', 's3', 'absolute', 'capable', 'threatening', 'love/hate', 'gentle', 's6e10', 'tommen..that', 'chills', 'shed', 'haha', '**please', '1st', 'seaosn', 'technologically', 'advanced', 'global', 'warming', 'melted', '/s', 'introduce', 'criticizing', 'unable', 'ban', 'unnecessarily', 'disparities', 'ubiquitous', 'literature', 'critiquing', 'ideologies', 'injustice', 'deserving', 'subtly', 'pleading', 'nationalism', 'xenophobia', 'govern', 'science', 'compassion', 'involves', 'exchange', 'brothels', 'sports', 'turning', 'mocking', 'waves', 'nationalistic', 'pride', 'usa', 'ignoring', 'favor', '.soun', 'insanely', 'throwing', 'jordan', 'belford', 'yacht', '.sound', 'pile', 'produced', 'shelves', 'inherent', 'stereotypical', '100x', 'speaks', 'volumes', 'kidding', 's1e7', 'popped', 'porno', 'loser', 'enjoys', 'annoys', 'purposely', 'windows', 'neighbours', 'street', 'load', 's***t', 'contains', 'fair', 'e10', 'ep10', 'selyse', 'cut-away', 'reek', 'jamp', 'gained', 'controll', 'atonement', 'extermely', '10/10', 'discussed', 'separated', 'annoying', '6x9', '8x3', '5x8', 'mega', 'construx', 'fixed', 'forbidden', 'forbade', 'damned', 'rast', 'served', 'squire', 'sorts', 'sheets', 'restore', 'marathon', 'insert', 'humble', 'brag', 'walk', 'recommended', 'hesitation', 'dedicate', '250+', 'villian', '//www.reddit.com/poll/he0lxs', 'involved', 'lake', 'loop', 'revolve', 'inability', 'swim', 'ok', 'initially', 'prophecies', 'shape', 'reacted', 'theorizing', 'sopranos', 'lame', 'expecting', '//www.reddit.com/poll/hdobxf', 'happiness', 'heartbreak', 'cinema', 'doesnt', 'grasped', 'ornament', 'aidan', 'gillen', 'segment', 'covering', 'imgur', 'compilation', 'caricature', 'fix', 'photoremake', 'polish', 'painting', 'pomarańczarka', 'amount', 'commotion', 'concern', 'tuning', 'whenevr', 'jesus', 'christ', 'roller-coaster', 'gladiators..', 'tense', 'gripping', 'immersive', 'aahhhh', 'restart', 'fuckin', 'programme', 'laugh', 'cry', 'bite', 'nails', 'inbetween', 'masterpiece', '//www.reddit.com/poll/hdc07w', 'districts', 'realizing', 'snows', 'murders', 'outsmarting', 'considers', 'greates', '😥', 'dinklage', 'deserves', 'oscar', 'grammy', 'outstanding', 'delight', 'villeneuve', '4/5', 'finalists', '//www.reddit.com/poll/hdhpbm', 'walked', 'tonight', 's5e10', 'refers', 'stanis', 'ramsay', '//www.reddit.com/poll/hdbupw', 'vr', '🐺🐺🐺', '@', 'artauro02', 'undying', 'graphic', 'dificult', '//www.reddit.com/poll/hcz9wz', 'banned', 'apply', 'worging', 'nearby', 'creature', 'ravening', 'ya', 'franchise', 'tall', 'limit', 'per', 'namely', 'bealor', 's1e9', 's4e9', 's6e5', 's7e4', 's8e5', '//www.reddit.com/poll/hct6v4', 'proven', 'memorable', 'belongs', '//www.reddit.com/poll/hcrjo3', '2/5', '//www.reddit.com/poll/hcx8t9', 'east', '5-7', '*also*', 'majorly', 'executions', 'drives', 'fiasco', 'mind-blowing', 'recap', 'conscience', 'bodies', 'awake', 'cowering', 'freaking', 'shouts', '**while', 'wargs', 'phased', 'suggests', 'consciousness', 'sentience', 'ensure', 'install', 'slams', 'backdoor', 'adult', 'drop', 'deck', 'flop', 'fish', 'spongebob', 'squarepants', 'nonsense', 'letting', 'fam', '1/5', '//www.reddit.com/poll/hcw93b', 'electricity', 'thirsty', 'eat', 'telltale', 'trudging', 'whiteness', 'brothers', 'propped', 'frozen', 'melt', 'mouth', 'drink', 'wilding', 'hip', 'hop', 'podricks', 'sang', 'prepping', 'stuck', '//soundcloud.com/klydethemoonboy/jenny', 'cartoon', 'parody', '25', 'seconds', 'destination', 'serving', 'ruker', 'ps', 'adverse', 'media', 'adaptations', 'wonderful', 'hubbub', 'moreee', 'onwards', 'reasonable', 'viva', 'la', 'revolution', 'hobbit', 'cameo', 'gentleman', 'approaches', 'recognized', 'rewind', 'billy', 'boyd', 'doppelgänger', 'confirm', 'stamp', 'reveal-', '3:02', 'phone', 'photo', 'blacked', 'actor/doppelgänger', '30:36', 'hollystarkk', 'separation', 'pony', 'nuke', 'tysha', 'fires', 'dread', 'treasons', 'threaten', 'anamaria', 'vartolomei', 'l', 'alike', 'subvert', 'essentially', 'protagonist', 'killer', 'cos', 'traditional', 'enemy', 'acquired', 'differently', 'succeeded', 'companions', 'importance', 'remembered', 'bore', 'criticism', 'hey', 'melisandre/stannis', 'johnnie', 'whisky', 'strong-willed', 'resilient', 'revolutionary', 'bleak-minded', 'typical', 'batshit', 'envisioned', 'exemplify', \"'fuck\", 'mesmerising', 'half-arsed', 'shite', 'anger', 'saudi', 'arabian', 'ahia', '//youtu.be/louxnua6vow', 'comes…', 'lions', 'roar…', 'stags', 'grazing', 'fields…', 'roses', 'meadows…', 'sand…', 'krakens', 'swim…', 'flayed', 'rot', 'wither…', 'trouts', 'swimming', 'falcons', 'air…', 'warm', 'halls', 'howl…', '**winter', 'listens', 'demotivated', 'motivational', 'pov', 'scratches', 'maps', 'heated', '5:30', '3-7', 'ledge', 'throwaway', 'websites/', 'apps', 'site', 'promise', 'selfish', 'blue', 'stars', 'soul', 'wic', 'collector', 'senior', 'hs', 'error', 'intended', 'surmises', 'beric', 'shore', 'defences', 'sources', 'crosses', 'forgetful/lazy', 'deliberate', 'ploy', 'anticipating', 'seeking', 'confrontation', 'generous', 'sean', 'bean']\n"
          ],
          "name": "stdout"
        }
      ]
    },
    {
      "cell_type": "code",
      "metadata": {
        "id": "5M643A7tZ4xX",
        "colab_type": "code",
        "colab": {
          "base_uri": "https://localhost:8080/",
          "height": 71
        },
        "outputId": "d63e2d7a-3190-4176-ba18-b103237d82d5"
      },
      "source": [
        "print(wordfreqs_cat1.most_common(20))\n",
        "print(wordfreqs_cat2.most_common(20))"
      ],
      "execution_count": null,
      "outputs": [
        {
          "output_type": "stream",
          "text": [
            "[('.', 3786), (',', 3672), ('?', 1428), ('data', 1409), (')', 1095), ('(', 1033), (':', 658), ('science', 446), (\"'m\", 418), ('*', 398), (\"n't\", 377), (\"'s\", 368), ('like', 353), ('would', 348), ('’', 347), ('work', 345), (\"''\", 275), ('&', 274), ('``', 268), ('time', 254)]\n",
            "[('.', 1635), (',', 1122), ('[', 624), (']', 624), ('spoilers', 563), ('?', 440), ('’', 301), (')', 272), ('(', 249), (':', 247), (\"'s\", 231), ('season', 208), ('show', 187), ('game', 178), ('would', 169), ('thrones', 167), ('one', 152), ('got', 146), ('king', 142), ('jon', 141)]\n"
          ],
          "name": "stdout"
        }
      ]
    },
    {
      "cell_type": "code",
      "metadata": {
        "id": "U4YG95Aiam5d",
        "colab_type": "code",
        "colab": {}
      },
      "source": [
        "# Data Reddit Processing revised after data exploration\n",
        "#Intializes stemmer from NLTK Library\n",
        "stemmer = nltk.SnowballStemmer(\"english\")\n",
        "def wordStemmer(wordrow):\n",
        "  stemmed = [stemmer.stem(word) for word in wordrow]\n",
        "  return stemmed\n",
        "\n",
        "manual_stopwords = [',','.',')',',','(','m',\"'m\",\"n't\",'e.g',\"'ve\",'s','#','/','``',\"'s\",\"''\",'!','r',']','=','[','s','&','%','*','...','1','2','3','4','5','6','7','8','9','10','--',\"''\",';','-',':']\n",
        "\n",
        "#defining revised data preparation\n",
        "def data_processing(sql, manual_stopwords):\n",
        "  #create pointer to sqlite data\n",
        "  c.execute(sql)\n",
        "  data={'wordMatrix':[], 'all_words':[] }\n",
        "  interWordMatrix = []\n",
        "  interWordList = []\n",
        "\n",
        "#fetch data(reddit posts) one by one from SQLite database\n",
        "  row = c.fetchone()\n",
        "  while row is not None:\n",
        "    tokenizer = nltk.tokenize.RegexpTokenizer(r'\\w+|[^\\w\\s]+')\n",
        "    wordrow = tokenizer.tokenize(row[0]+\" \"+row[1])\n",
        "    wordrow_lowercased = lowercaseArray(wordrow)\n",
        "    wordrow_nostopwords = wordFilter(stopwords,wordrow_lowercased)\n",
        "    wordrow_nostopwords = wordFilter(manual_stopwords, wordrow_nostopwords) #Remove manually added stopwords\n",
        "    wordrow_stemmed = wordStemmer(wordrow_nostopwords)\n",
        "\n",
        "    interWordList.extend(wordrow_stemmed)\n",
        "    interWordMatrix.append(wordrow_stemmed)\n",
        "\n",
        "    row = c.fetchone()\n",
        "\n",
        "# Make frequency distribution of all terms\n",
        "  wordfreqs = nltk.FreqDist(interWordList)\n",
        "  hapaxes = wordfreqs.hapaxes()\n",
        "  #loop through temporary wordmatrix\n",
        "  for wordvector in interWordMatrix:\n",
        "    wordvector_nohapaxes = wordFilter(hapaxes, wordvector) # remove hapaxes in each word vector\n",
        "    data['wordMatrix'].append(wordvector_nohapaxes)\n",
        "    data['all_words'].extend(wordvector_nohapaxes) #extend list of all terms with corrected word vector\n",
        "\n",
        "  return data\n",
        "\n",
        "# Running new data processing function for both subreddits\n",
        "for subject in subreddits:\n",
        "  data[subject] = data_processing(sql ='''SELECT topicTitle, topicText, topicCategory FROM topics WHERE topicCategory= ''' + \"'\" + subject + \"'\", manual_stopwords = manual_stopwords)"
      ],
      "execution_count": null,
      "outputs": []
    },
    {
      "cell_type": "code",
      "metadata": {
        "id": "GnNenFUKd7qG",
        "colab_type": "code",
        "colab": {
          "base_uri": "https://localhost:8080/",
          "height": 54
        },
        "outputId": "9e3a6807-5b96-4bb4-aa9b-c5aa67606f95"
      },
      "source": [
        "wordfreqs_cat1 = nltk.FreqDist(data['datascience']['all_words'])\n",
        "print(wordfreqs_cat1.most_common(20))"
      ],
      "execution_count": null,
      "outputs": [
        {
          "output_type": "stream",
          "text": [
            "[(\"'\", 1574), ('data', 1458), ('?', 1304), ('work', 580), ('use', 536), ('scienc', 472), ('like', 399), ('\"', 384), ('’', 345), ('model', 344), ('get', 342), ('learn', 340), ('would', 339), ('time', 311), ('job', 279), ('compani', 271), ('scientist', 260), ('project', 246), ('know', 240), ('question', 229)]\n"
          ],
          "name": "stdout"
        }
      ]
    },
    {
      "cell_type": "code",
      "metadata": {
        "id": "rzqgZv5_dYuW",
        "colab_type": "code",
        "colab": {
          "base_uri": "https://localhost:8080/",
          "height": 54
        },
        "outputId": "4e8379cb-4f35-4212-b2d5-526d62a181c9"
      },
      "source": [
        "wordfreqs_cat2 = nltk.FreqDist(data['gameofthrones']['all_words'])\n",
        "print(wordfreqs_cat2.most_common(20))"
      ],
      "execution_count": null,
      "outputs": [
        {
          "output_type": "stream",
          "text": [
            "[('spoiler', 588), (\"'\", 524), ('?', 367), ('’', 297), ('season', 258), ('throne', 214), ('show', 213), ('game', 185), ('\\\\', 170), ('king', 168), ('poll', 164), ('would', 163), ('one', 159), ('got', 145), ('jon', 143), ('like', 142), ('think', 141), ('watch', 140), ('book', 139), ('battl', 133)]\n"
          ],
          "name": "stdout"
        }
      ]
    },
    {
      "cell_type": "code",
      "metadata": {
        "id": "Ly0_8UtXduR7",
        "colab_type": "code",
        "colab": {}
      },
      "source": [
        "# Holdout set is comprised of unlabeled data from two subreddits: 100 observations from each data set\n",
        "\n",
        "holdoutLength = 100\n",
        "#Creating a single dataset with every word vector tagged as being either 'datascience' or 'gameofthrones'. We keep part of the data aside for holdout sample\n",
        "labeled_data1 = [(word, 'datascience') for word in data['datascience']['wordMatrix'][holdoutLength:]]\n",
        "labeled_data2 = [(word, 'gameofthrones') for word in data['gameofthrones']['wordMatrix'][holdoutLength:]]\n",
        "labeled_data = []\n",
        "labeled_data.extend(labeled_data1)\n",
        "labeled_data.extend(labeled_data2)\n",
        "#holout sample comprised of unlabeled data from two subreddits: 100 observations from each data set. The labels are kept in seperate data set.\n",
        "holdout_data = data['datascience']['wordMatrix'][:holdoutLength]\n",
        "holdout_data.extend(data['gameofthrones']['wordMatrix'][:holdoutLength])\n",
        "holdout_data_labels = ([('datascience') for _ in range(holdoutLength)] + [('gameofthrones') for _ in range(holdoutLength)])\n",
        "\n",
        "data['datascience']['all_words_dedup'] = list(OrderedDict.fromkeys(data['datascience']['all_words']))\n",
        "data['gameofthrones']['all_words_dedup'] = list(OrderedDict.fromkeys(data['gameofthrones']['all_words']))\n",
        "all_words=[]\n",
        "all_words.extend(data['datascience']['all_words_dedup'])\n",
        "all_words.extend(data['gameofthrones']['all_words_dedup'])\n",
        "all_words_dedup = list(OrderedDict.fromkeys(all_words))\n",
        "#data is turned into a binary bag of words format\n",
        "prepared_data = [({word: (word in x[0]) for word in all_words_dedup}, x[1]) for x in labeled_data]\n",
        "prepared_holdout_data = [({word: (word in x[0]) for word in all_words_dedup}) for x in holdout_data]\n",
        "\n",
        "random.shuffle(prepared_data) #data for model training and testing is shuffled\n",
        "train_size = int(len(prepared_data) * 0.75) #training data is 75%\n",
        "train = prepared_data[:train_size]\n",
        "test = prepared_data[train_size:]"
      ],
      "execution_count": null,
      "outputs": []
    },
    {
      "cell_type": "code",
      "metadata": {
        "id": "BUBrpfV6Z-zh",
        "colab_type": "code",
        "colab": {
          "base_uri": "https://localhost:8080/",
          "height": 54
        },
        "outputId": "c910ffd1-eb14-430b-bf9c-0f9b4da087f0"
      },
      "source": [
        "print(prepared_data[0])"
      ],
      "execution_count": null,
      "outputs": [
        {
          "output_type": "stream",
          "text": [
            "({'week': False, 'enter': False, 'transit': False, 'thread': False, '|': False, '12': False, 'jul': False, '2020': False, '19': False, 'welcom': False, \"'\": False, 'question': False, 'get': False, 'start': False, 'studi': False, 'data': False, 'scienc': False, 'field': False, 'topic': False, 'includ': False, 'learn': False, 'resourc': False, 'e': False, 'g': False, 'book': False, 'tutori': False, 'video': False, 'tradit': False, 'educ': False, 'school': False, 'degre': False, 'elect': False, 'altern': False, 'onlin': False, 'cours': False, 'bootcamp': False, 'job': False, 'search': False, 'resum': False, 'appli': False, 'career': False, 'prospect': False, 'elementari': False, 'next': False, 'wait': False, 'answer': False, 'communiti': False, 'check': False, 'faq': False, '](': False, 'https': False, '://': False, 'www': False, 'reddit': False, 'com': False, 'datasci': False, 'wiki': False, 'frequent': False, 'ask': False, 'page': False, 'also': False, 'past': False, '?': True, 'q': False, '20thread': False, 'restrict_sr': False, 'sort': False, 'new': False, ').': False, 'profession': False, 'ml': False, 'engin': False, 'certif': False, 'googl': False, 'cloud': False, 'beta': False, 'xgboost': False, 'most': False, 'use': False, 'work': False, 'non': False, 'deep': False, 'model': False, 'notic': False, 'scientist': False, 'team': False, 'end': False, 'product': False, 'except': False, 'one': False, 'need': False, 'case': False, 'structur': False, 'common': False, 'ds': False, 'process': False, 'held': False, 'offic': False, 'polit': False, 'assign': False, 'multipl': False, 'project': False, 'role': False, 'everi': False, 'singl': False, 'alway': False, 'point': False, 'due': False, 'exampl': False, 'stakehold': False, 'current': False, 'perform': False, 'simpl': False, 'review': False, 'done': False, 'outsid': False, 'vendor': False, 'manag': False, '’': False, 'want': False, 'think': False, 'noth': False, 'contract': False, 'state': False, 'mind': False, 'actual': False, 'would': False, 'like': False, 'somewhat': False, 'slow': False, 'recent': False, 'big': False, 'deal': False, 'let': False, 'someth': False, 'hour': False, 'wherea': False, 'least': False, 'two': False, 'hear': False, 'back': False, 'anyon': False, 'els': False, 'experi': False, 'best': False, 'exist': False, 'decis': False, 'tree': False, 'flow': False, 'chart': False, 'choos': False, 'right': False, 'analysi': False, 'method': False, 'http': False, 'jpg': False, 'incorpor': False, 'much': False, 'wider': False, 'varieti': False, 'test': False, 'kind': False, 'cheat': False, 'sheet': False, 'startup': False, 'middl': False, 'pandem': False, 'ai': False, 'covid': False, 'abl': False, 'vc': False, 'fund': False, 'give': False, 'im': False, 'virtual': False, 'meetup': False, 'event': False, 'come': False, 'talk': False, 'wanna': False, 'sell': False, 'advic': False, 'speaker': False, 'previous': False, 'sold': False, 'compani': False, 'well': False, 'investor': False, 'attend': False, 'group': False, 'aymkmziu': False, '271913112': False, '/](': False, '/)': False, 'stori': False, 'almost': False, 'went': False, 'lesson': False, 'today': False, 'mess': False, 'focus': False, 'part': False, 'predict': False, 'busi': False, 'uk': False, 'day': False, 'extra': False, 'granular': False, 'level': False, 'requir': False, 'local': False, 'author': False, 'rather': False, 'countri': False, 'benefit': False, 'explain': False, 'situat': False, 'ultim': False, 'mistak': False, 'correct': False, 'alreadi': False, 'everyth': False, 'track': False, 'learnt': False, 'import': False, 'doubt': False, 'scope': False, 'conflict': False, 'prioriti': False, 'differ': False, 'peopl': False, 'verifi': False, 'first': False, 'remot': False, 'adjust': False, 'join': False, 'rule': False, 'go': False, 'wrong': False, '!)': False, 'pick': False, 'year': False, 'across': False, 'soft': False, 'technic': False, 'skill': False, 'begin': False, 'mysql': False, 'recommend': False, 'someon': False, '0': False, 'system': False, 'irl': False, 'hard': False, 'understand': False, 'implement': False, 'feel': False, 'regular': False, 'algo': False, 'autom': False, 'platform': False, 'leav': False, 'progress': False, 'hi': False, 'small': False, 'organ': False, 'person': False, 'posit': False, 'coupl': False, 'look': False, 'automat': False, 'featur': False, '\"': False, 'scale': False, '\".': False, 'hand': True, 'allow': False, 'cover': False, 'mani': False, 'concern': False, 'make': False, 'edit': False, 'made': False, 'realli': False, 'great': False, 'lot': False, 'perspect': False, 'decid': False, 'tool': False, 'place': False, 'write': False, 'code': False, 'base': False, 'step': False, 'obvious': False, 'scalabl': False, 'got': False, 'self': False, 'taught': False, 'prove': False, 'knowledg': False, 'type': False, 'impact': False, 'request': False, 'help': False, 'nlp': False, 'tri': False, 'creat': False, 'open': False, 'comment': False, 'collect': False, 'survey': False, 'exact': False, 'favorit': False, 'brand': False, '?).': False, 'problem': False, 'inde': False, 'generat': False, '**': False, 'sens': False, 'keyword': False, 'repres': False, 'even': False, 'ngram': False, 'default': False, 'text': False, 'without': False, 'remov': False, 'stopword': False, 'useless': False, 'word': False, 'accur': False, 'appear': False, 'togeth': False, '&#': False, 'x200b': False, 'sustain': False, 'way': False, 'forward': False, 'better': False, 'distinct': False, 'categor': False, 'time': False, 'generic': False, 'stop': False, 'markdown': False, 'convers': False, 'header': False, '```': False, 'panda': False, 'pd': False, 'warn': False, 'os': False, 'string': False, 'itertool': False, 'language_check': False, 'spaci': False, 'pprint': False, 'groupbi': False, 'nltk': False, 'token': False, 'word_token': False, 'gensim': False, 'dictionari': False, 'ldamulticor': False, \"('\": False, 'en': False, 'us': False, \"')\": False, 'load': False, '(\"': False, '\")': False, 'ignor': False, 'def': False, 'remove_punct': False, '):': False, 'return': False, 'translat': False, 'str': False, \"',\": False, 'punctuat': False, ')).': False, 'replac': False, ',': False, 'convert_tripl': False, 'txt': False, 'x': False, 'sub': False, '{': False, \",}',\": False, \"'\\\\\": False, '\\\\': False, 'ignorecas': False, 'spellcheck': False, 'match': False, 'categori': False, \"['\": False, 'redund': False, 'phrase': False, 'capit': False, 'plain': False, 'english': False, \"']\": False, 'style': False, '!=': False, 'possibl': False, 'found': False, 'len': False, ')>': False, 'spacy_token': False, 'txtobj': False, ')==': False, '[]': False, 'disabl': False, '=[\"': False, 'parser': False, '\",': False, 'ner': False, '\"])]': False, 'stop_n': False, '30': False, 'isnumer': False, '()': False, ')]': False, 'list': False, 'spacy_lemmat': False, 'folder': False, 'path': False, 'oe': False, 'read_csv': False, 'csv': False, '),': False, 'encod': False, \"='\": False, 'stop_o': False, 'extend': False, '))': False, 'digit': False, 'n': False, '100': False, 'love': False, 'nan': False, 'ton': False, 'set': False, 'good': False, 'everywher': False, 'find': False, 'less': False, 'littl': False, 'never': False, 'name': False, 'high': False, 'newer': False, 'young': False, 'anywher': False, 'descript': False, 'q5_clean': False, 'q5': False, '].': False, 'astyp': False, 'lambda': False, 'row': False, ']),': False, 'axi': False, 'loc': False, 'notna': False, '(),': False, 'strip': False, 'q5_token': False, 'q5_valid': False, 'q5_lemma': False, \"'.\": False, 'uniqu': False, 'q5_sent_tok': False, 'f': False, '95': False, 'bow_corpus': False, 'tfidf': False, 'normal': False, 'true': False, 'tfidf_corpus': False, 'tf_idf_lda_model': False, 'corpus': False, '1000': False, 'pass': False, '20': False, 'iter': False, 'worker': False, 'top_topics_tf': False, 'access': False, 'secur': False, 'approach': False, 'laptop': False, 'vm': False, 'consum': False, 'dev': False, 'easier': False, 'queri': False, 'anonym': False, 'super': False, 'account': False, 'databas': False, 'polici': False, 'strike': False, 'balanc': False, 'b': False, 'w': False, 'enabl': False, 'interest': False, 'employe': False, 'sure': False, 'correl': False, 'second': False, 'bachelor': False, 'master': False, 'guy': False, 'might': False, 'long': False, 'post': False, 'thank': False, 'take': False, 'read': False, ':)': False, 'graduat': False, 'sociolog': False, 'colleg': False, 'u': False, 'discov': False, 'senior': False, 'know': False, 'told': False, 'sql': False, 'python': False, 'east': False, 'hope': False, 'abroad': False, 'futur': False, 'visa': False, 'canada': False, 'etc': False, 'wonder': False, 'univers': False, 'offer': False, 'avoid': False, 'bit': False, 'difficult': False, 'obtain': False, 'stuck': False, 'quit': False, 'stress': False, 'amount': False, 'money': False, 'afford': False, 'spend': False, 'whole': False, 'accommod': False, 'fee': False, 'tuition': False, 'usd': False, '$': False, '65k': False, 'sinc': False, 'spent': False, 'fortun': False, 'undergrad': False, '<': False, 'professor': False, 'letter': False, 'month': False, 'ago': False, 'program': False, 'comput': False, 'last': False, 'semest': False, 'privileg': False, 'depart': False, 'publish': False, 'paper': False, 'seem': False, 'happi': False, 'agre': False, 'said': False, 'will': False, 'colleagu': False, 'famous': False, 'sign': False, 'util': False, 'opportun': False, 'option': False, 'linkedin': False, 'profil': False, 'view': False, 'public': False, 'recruit': False, 'hr': False, 'valu': False, 'howev': False, 'specif': False, 'solut': False, 'increas': False, 'admit': False, 'basic': False, 'goe': False, 'relat': False, 'subject': False, 'suggest': False, 'see': False, 'free': False, 'appreci': False, 'aw': False, 'machin': False, 'special': False, 'home': False, 'valuabl': False, 'industri': False, 'add': False, '+': False, 'distribut': False, 'individu': False, 'sampl': False, 'sorri': False, 'vagu': False, 'titl': False, 'frame': False, 'classif': False, 'divid': False, 'class': False, 'label': False, 'moment': False, 'handl': False, 'aggreg': False, 'train': False, 'ugli': False, 'lose': False, 'inform': False, 'techniqu': False, 'direct': False, 'thing': False, 'freelanc': False, 'market': False, 'explor': False, 'viabl': False, 'show': False, 'qualifi': False, 'pharma': False, 'decad': False, 'far': False, 'side': False, 'seen': False, 'anybodi': False, 'anoth': False, 'everyon': False, 'fail': False, 'demonstr': False, 'communic': False, 'shortcom': False, 'happen': False, 'intend': False, 'per': False, 'goal': False, 'say': False, 'liter': False, 'showcas': False, 'accomplish': False, 'later': False, 'revert': False, 'wrote': False, 'prior': False, 'fault': False, 'general': False, 'head': False, 'especi': False, 'complic': False, 'walk': False, 'math': False, 'key': False, 'shift': False, 'shuffl': False, 'brain': False, 'abil': False, 'speak': False, 'proper': False, 'lol': False, 'real': False, 'practic': False, 'tip': False, 'anyth': False, 'advanc': False, 'codebas': False, 'subreddit': False, 'pleas': False, 'toward': False, 'appropri': False, 'tldr': False, 'unorgan': False, 'poor': False, 'document': False, 'jupyt': False, 'notebook': False, 'py': False, 'file': False, 'figur': False, 'standard': False, 'hire': False, 'healthcar': False, 'statist': False, 'analyst': False, 'hell': False, 'juptyer': False, 'directori': False, '\\\\~': False, 'worth': False, 'ad': False, 'hoc': False, 'analyt': False, 'finish': False, 'outlin': False, 'sever': False, 'major': False, 'store': False, 'meaning': False, 'version': False, 'control': False, 'co': False, 'call': False, 'bob': False, 'background': False, 'still': False, 'copi': False, 'bunch': False, 'within': False, 'alon': False, 'readm': False, 'fast': False, 'shadow': False, 'jump': False, 'forth': False, 'dozen': False, 'sometim': False, 'overal': False, 'messi': False, 'workflow': False, 'output': False, 'put': False, 'fashion': False, 'confus': False, 'build': False, 'fall': False, 'habit': False, '(.': False, 'float': False, 'around': False, 'luckili': False, 'freedom': False, 'improv': False, 'aspect': False, 'origin': False, 'reason': False, 'push': False, 'github': False, 'order': False, 'astrophys': False, 'plan': False, 'dont': False, 'jupyterlab': False, 'extens': False, 'fresh': False, 'novel': False, 'kernel': False, 'complet': False, 'servic': False, 'lab': False, 'kite': False, 'qualiti': False, 'life': False, 'cluster': False, 'solv': False, 'main': False, 'area': False, 'regress': False, 'fundament': False, 'nobodi': False, 'ever': False, 'either': False, 'algorithm': False, 'k': False, 'mean': False, 'dbscan': False, 'fit': False, 'pictur': False, 'supplier': False, 'task': False, 'essenc': False, 'limit': False, 'construct': False, 'mainten': False, 'instal': False, 'consid': False, 'strategi': False, 'api': False, 'scrape': False, 'top': False, 'ten': False, 'result': False, 'pre': False, 'built': False, 'tabl': False, 'associ': False, 'tricki': False, 'delta': False, 'air': False, ',\"': False, 'airlin': False, 'condit': False, 'addit': False, 'present': False, 'manual': False, 'input': False, '*.': False, 'may': False, 'hierarchi': False, 'smart': False, 'user': False, 'tackl': False, 'could': False, 'simplifi': False, 'develop': False, 'hello': False, 'follow': False, 'respons': False, '\\\\-': False, 'websit': False, 'analys': False, 'backend': False, 'rest': False, 'applic': False, '60': False, 'softwar': False, 'thought': True, 'director': False, 'vps': False, 'interview': False, 'ic': False, 'tap': False, 'leader': False, 'panel': False, 'expect': False, 'aptitud': False, 'candid': False, '\\\\[': False, 'princip': False, '\\\\]': False, 'mid': False, 'size': False, 'bay': False, 'leadership': False, '15': False, 'simpli': False, 'member': False, 'frustrat': False, 'continu': False, 'receiv': False, 'prais': False, 'ensur': False, 'stay': False, 'total': False, 'round': False, 'clear': False, 'scrutini': False, 'miss': False, 'front': False, 'short': False, 'rusti': False, 'truth': False, 'matter': False, 'other': False, 'crazi': False, 'rant': False, 'updat': False, 'grammar': False, 'detail': False, 'averag': False, 'format': False, 'isnt': False, 'clean': False, 'mine': False, 'reshap': False, 'curious': False, 'aspir': False, 'whether': False, 'coursera': False, 'care': False, 'perfect': False, 'shape': False, 'autonomi': False, 'programm': False, 'locat': False, 'youtub': False, 'popular': False, '2019': False, 'larg': False, 'excel': False, 'identifi': False, 'column': False, 'extract': False, 'threw': False, 'semi': False, 'line': False, '000': False, 'run': False, 'ingest': False, 'coordin': False, 'pair': False, 'attempt': False, 'spatial': False, 'distanc': False, 'trivial': False, 'hit': False, 'wall': False, 'pipelin': False, 'eda': False, 'dashboard': False, 'custom': False, 'logic': False, 'idea': False, '?)': False, 'log': False, 'monitor': False, 'metric': False, 'phd': False, 'holder': False, 'left': False, 'pm': False, 'typic': False, 'often': False, 'familiar': False, 'languag': False, 'packag': False, 'compil': False, 'mayb': False, 'speed': False, 'becom': False, 'natur': False, 'librari': False, 'multivari': False, 'timer': False, 'seri': False, 'sale': False, '365': False, 'traffic': False, 'p500': False, 'index': False, 'struggl': False, 'rememb': False, 'intern': False, 'taken': False, 'entir': False, 'honest': False, 'mathemat': False, 'span': False, 'optim': False, 'dl': False, 'retain': False, 'sourc': False, 'memori': False, 'effici': False, 'linear': False, 'tell': False, 'formula': False, 'equat': False, 'gradient': False, 'despit': False, 'concept': False, 'gist': False, 'visual': False, 'essenti': False, 'highest': False, 'negat': False, 'chang': False, 'logist': False, 'mle': False, 'probabl': False, 'involv': False, 'binari': False, 'represent': False, 'manner': False, 'cool': False, 'easi': False, 'hash': False, 'complex': False, 'exponenti': False, 'refresh': False, 'web': False, 'server': False, 'chanc': False, 'yet': False, 'maintain': False, 'hypothesi': False, 'old': False, 'slight': False, 'pretti': False, 'tech': False, 'midwestern': False, 'usa': False, 'sas': False, 'move': False, 'divis': False, '50': False, 'ba': False, 'faang': False, 'door': False, 'various': False, 'employ': False, 'promot': False, 'tenur': False, ':**': False, 'ridicul': False, 'lucki': False, '21': False, 'portfolio': False, 'famili': False, 'connect': False, 'friend': False, 'ahead': False, 'knew': False, 'gift': False, 'yes': False, 'gold': False, 'rush': False, 'choic': False, 'stand': False, 'internet': False, 'meant': False, 'folk': False, 'internship': False, 'absenc': False, 'kaggl': False, 'competit': False, 'titan': False, 'million': False, 'domain': False, 'viz': False, 'experienc': False, 'highlight': False, 'lead': False, 'neat': False, 'unless': False, 'research': False, 'arm': False, 'fair': False, 'academia': False, 'boss': False, 'methodolog': False, 'cut': False, 'cost': False, 'effect': False, 'entri': False, 'given': False, 'reli': False, 'mentor': False, 'independ': False, 'constant': False, 'adapt': False, 'keep': False, 'pay': False, 'attent': False, 'talent': False, 'feedback': False, 'grow': False, 'influenc': False, 'peer': False, 'compet': False, 'exercis': False, 'muscl': False, 'capabl': False, 'serious': False, 'burnt': False, 'took': False, 'becam': False, 'half': False, 'eventu': False, 'bait': False, 'switch': False, 'equival': False, 'prepar': False, 'mentorship': False, 'session': False, 'comfort': False, 'enough': False, 'forum': False, 'reach': False, 'accept': False, 'mention': False, 'beauti': False, 'axe': False, 'cannot': False, 'lax': False, 'world': False, '~': False, 'gonna': False, 'negoti': False, 'break': False, 'disconnect': False, 'endless': False, 'burn': False, 'unabl': False, 'felt': False, 'overwhelm': False, 'sound': False, 'environ': False, 'immedi': False, 'gatekeep': False, 'bother': False, 'monkey': False, 'paid': False, 'depend': False, 'nice': False, 'known': False, '“': False, '”': False, '10x': False, 'term': False, 'provid': False, 'proof': False, 'mod': False, 'worri': False, 'oil': False, 'medic': False, 'technolog': False, 'issu': False, 'formal': False, 'easili': False, 'stat': False, 'umbrella': False, 'although': False, 'huge': False, 'flexibl': False, 'quick': False, 'away': False, 'spreadsheet': False, 'warehous': False, 'success': False, 'lack': False, 'breath': False, 'enjoy': False, 'rout': False, 'de': False, 'expand': False, 'timelin': False, 'transact': False, 'info': False, 'display': False, 'date': False, 'apolog': False, 'fellow': False, 'timeseri': False, 'yield': False, 'forecast': False, 'feed': False, 'drive': False, 'red': False, 'split': False, 'regard': False, 'curv': False, 'rough': False, 'window': False, ')?': False, 'achiev': False, 'mediocr': False, 'lurk': False, 'claim': False, 'inadequ': False, 'describ': False, 'stupid': False, 'impress': False, 'minut': False, 'cheer': False, 'though': False, 'deserv': False, 'incid': False, 'report': False, 'neither': False, 'dataset': False, 'numer': False, 'risk': False, '>': False, 'john': False, 'stumbl': False, 'fell': False, '07': False, '11': False, 'mari': False, 'low': False, 'particular': False, 'purchas': False, 'function': False, 'interpret': False, 'target': False, 'troubl': False, 'final': False, 'argu': False, 'retail': False, 'opinion': False, 'student': False, 'hate': False, 'mix': False, 'earlier': False, 'min': False, 'chat': False, 'stuff': False, 'bayesian': False, 'ok': False, 'ing': False, 'id': False, 'thus': False, 'stack': False, 'exchang': False, '([': False, 'stackexchang': False, '77538': False, 'weight': False, ')),': False, 'edit2': False, 'unstructur': False, 'tini': False, 'dimension': False, 'imgur': False, 'embed': False, 'entitl': False, 'treat': False, 'shit': False, 'gave': False, 'disregard': False, 'shut': False, 'boy': False, 'buddi': False, 'fine': False, 'email': False, 'respect': False, 'meet': False, 'discuss': False, 'doubl': False, 'apart': False, 'consult': False, 'usual': False, 'forev': False, 'stem': False, 'academ': False, 'impost': False, 'syndrom': False, 'anxieti': False, 'visualis': False, 'support': False, 'lift': False, 'reject': False, 'initi': False, 'journey': False, 'artifici': False, 'intellig': False, 'screen': False, 'aim': False, 'dedic': False, 'age': False, 'network': False, 'fake': False, 'brag': False, 'imposs': False, 'citi': False, 'sf': False, 'hey': False, 'salari': False, 'col': False, 'daili': False, 'basi': False, 'cs': False, 'scare': False, 'land': False, 'da': False, 'saw': False, 'meme': False, 'brief': False, 'explan': False, 'organis': False, '***': False, 'literaci': False, 'matur': False, 'massiv': False, 'challeng': False, 'chariti': False, 'social': False, 'enterpris': False, 'combin': False, 'fundrais': False, 'commerci': False, 'activ': False, 'draft': False, 'determin': False, 'pointer': False, 'avail': False, '\\\\----': False, 'purpos': False, 'confirm': False, 'greater': False, 'routin': False, 'defin': False, 'wide': False, 'strateg': False, 'vision': False, 'architectur': False, 'met': False, 'ceo': False, 'rang': False, 'central': False, 'aid': False, 'throughout': False, 'insight': False, 'object': False, 'infrastructur': False, 'partner': False, 'map': False, 'evalu': False, 'consist': False, 'administ': False, 'crm': False, 'share': False, 'indic': False, 'donor': False, 'content': False, 'advertis': False, 'campaign': False, 'optimis': False, 'kpi': False, 'close': False, 'gain': False, 'holist': False, 'trend': False, 'competitor': False, 'feet': False, 'fill': False, 'magic': False, 'fix': False, 'bare': False, 'minimum': False, '?**': False, 'context': False, 'salesforc': False, 'financi': False, 'wisdom': False, 'mindset': False, 'scam': False, '3rd': False, 'owner': False, 'nowaday': False, 'dude': False, 'worthless': False, 'btw': False, 'threaten': False, 'kid': False, 'critic': False, 'audienc': False, 'live': False, 'dollar': False, 'mit': False, 'turn': False, 'regul': False, 'unlik': False, 'harsh': False, 'buy': False, 'shitti': False, 'number': False, 'gone': False, 'rise': False, '300': False, 'oracl': False, 'ms': False, 'corpor': False, 'etl': False, 'wareh': False, 'bi': False, 'offend': False, 'framework': False, 'save': False, 'bookmark': False, 'url': False, 'tweet': False, 'handi': False, 'brush': False, 'wordpress': False, 'blog': False, 'potenti': False, 'face': False, 'note': False, 'remind': False, 'articl': False, 'toolbox': False, 'heard': False, 'demand': False, 'rais': False, 'zone': False, 'behind': False, 'schedul': False, 'unsur': False, 'navig': False, 'compens': False, 'charg': False, 'west': False, 'coast': False, 'interact': False, 'violat': False, 'guidelin': False, 'indirect': False, 'junior': False, 'bad': False, 'medium': False, 'site': False, 'profici': False, 'suppos': False, 'lucrat': False, 'gorgeous': False, 'anim': False, 'graph': False, 'gganim': False, 'youtu': False, 'qnw1xdnt_ec': False, 'decent': False, 'ggplot2': False, '[**': False, '**](': False, 'ggplot': False, 'subscrib': False, 'channel': False, 'ucbv194xnr6ciqccuw1v2rmq': False, 'sub_confirm': False, 'mape': False, 'absolut': False, 'percentag': False, 'error': False, 'valid': False, 'arima': False, 'percent': False, 'compar': False, 'ought': False, 'lost': False, 'starter': False, 'textbook': False, 'beginn': False, 'theori': False, 'minor': False, 'belt': False, 'diagnosi': False, 'upon': False, 'observ': False, 'night': False, 'coop': False, 'flaw': False, 'toolset': False, 'script': False, 'play': False, 'narrow': False, 'creativ': False, 'innov': False, 'definit': False, 'rn': False, 'medoid': False, 'sum': False, 'gower': False, 'dissimilar': False, 'matrix': False, 'furthermor': False, 'correspond': False, 'invers': False, 'merg': False, 'analyz': False, 'lectur': False, 'fulli': False, 'wrangl': False, 'everybodi': False, 'spss': False, 'mac': False, 'besid': False, '....': False, 'anyway': False, '2018': False, 'spring': False, 'fa18': False, 'sp19': False, 'sp20': False, 'four': False, '101': False, 'csc': False, '362': False, 'bch': False, '231': False, 'three': False, 'uniform': False, 'bgn': False, 'phase': False, 'wish': False, 'certain': False, 'download': False, 'qualtric': False, 'bring': False, 'send': False, 'henc': False, 'fantast': False, 'variabl': False, '.\"': False, 'interest1': False, 'exclud': False, 'tedious': False, 'address': False, '99': False, 'integ': False, 'convert': False, 'spit': False, 'rate': False, '_bgn': False, '_mid': False, '_end': False, 'paramet': False, 'intersect': False, 'appar': False, 'respond': False, 'overlap': False, 'feasibl': False, 'idiot': False, 'grad': False, 'pure': False, 'psycholog': False, 'summer': False, 'macbook': False, 'pro': False, 'die': False, 'appl': False, 'studio': False, 'trial': False, 'jesus': False, 'freak': False, 'froze': False, 'plus': False, 'refin': False, 'yeah': False, 'volum': False, '(~': False, '400gb': False, 'upload': False, 'space': False, 'passion': False, 'azur': False, 'spark': False, 'colab': False, 'storag': False, 'datafram': False, 'guess': False, 'remain': False, 'privat': False, '\"?': False, 'smaller': False, 'seek': False, 'somewher': False, 'udemi': False, 'udac': False, '”.': False, 'benefici': False, 'deriv': False, 'deploy': False, 'quantifi': False, 'profit': False, 'asset': False, 'record': False, 'rare': False, 'visibl': False, 'storytel': False, 'count': False, 'macro': False, 'captur': False, 'widget': False, '_x': False, 'extern': False, 'launch': False, 'law': False, 'affect': False, 'price': False, 'drop': False, '.)': False, 'buyer': False, 'holiday': False, 'confer': False, 'variat': False, 'period': False, 'tl': False, 'dr': False, 'imagin': False, 'annoy': False, 'select': False, 'assess': False, 'kubeflow': False, 'sklearn': False, 'parallel': False, 'contain': False, 'realiz': False, 'insid': False, 'arbitrari': False, 'briefli': False, 'oper': False, 'separ': False, 'ordin': False, 'configur': False, 'runtim': False, 'establish': False, 'tweak': False, 'preprocess': False, 'skip': False, 'altogeth': False, 'desir': False, 'raw': False, 'certifi': False, 'wast': False, '.](': False, 'amazon': False, 'dp': False, 'signal': False, 'piec': False, 'z': False, 'human': False, 'sensibl': False, 'relationship': False, 'primari': False, 'leg': False, 'distinguish': False, 'cert': False, 'leetcod': False, '2nd': False, 'full': False, 'supplement': False, 'relev': False, 'advantag': False, 'facilit': False, 'signific': False, 'longer': False, 'must': False, 'advisor': False, 'strong': False, 'client': False, 'retent': False, 'gra': False, 'physic': False, 'sysadmin': False, 'earli': False, '30s': False, 'weak': False, 'random': False, 'forest': False, 'auc': False, 'f1': False, 'score': False, 'none': False, 'phenomenon': False, 'assist': False, 'naiv': False, 'understood': False, 'inspect': False, 'invest': False, 'eye': False, 'rank': False, 'higher': False, 'incom': False, 'volatil': False, 'lower': False, 'eyebal': False, 'classifi': False, 'safe': False, 'entail': False, 'datamart': False, 'design': False, 'unit': False, 'mock': False, 'pull': False, 'transform': False, 'star': False, 'schema': False, 'assumpt': False, 'core': False, 'water': False, 'extent': False, 'lockdown': False, 'factor': False, 'caus': False, 'otherwis': False, 'soon': False, 'linux': False, 'ubuntu': False, 'prefer': False, 'tend': False, 'reliabl': False, 'incred': False, 'broad': False, 'reveal': False, 'okay': False, '80': False, 'necessarili': False, 'concentr': False, 'subset': False, 'draw': False, 'plot': False, '..': False, 'unfortun': False, 'pattern': False, '28': False, '2017': False, 'dual': False, 'intel': False, 'stata': False, 'econometr': False, 'late': False, 'beyond': False, 'econom': False, 'instanc': False, 'power': False, 'own': False, 'hardwar': False, 'spec': False, 'quad': False, 'processor': False, 'boost': False, '16gb': False, 'ram': False, 'mini': False, 'gb': False, 'advis': False, 'forb': False, 'vs': False, 'convent': False, 'kalevleetaru': False, '03': False, '/#': False, '1823ddcd257c': False, 'journal': False, 'latest': False, 'news': False, 'favourit': False, 'third': False, 'gather': False, 'media': False, 'watch': False, 'manipul': False, 'larger': False, 'facebook': False, 'netflix': False, 'microsoft': False, 'airbnb': False, 'invit': False, 'p85xcmz': False, 'prep': False, 'fang': False, 'color': False, '05': False, 'pycharm': False, 'ide': False, 'aesthet': False, 'sqlite': False, 'termin': False, 'chose': False, '(?)': False, 'command': False, 'link': False, 'boom': False, 'relax': False, 'kinda': False, 'estim': False, 'lifetim': False, 'subscript': False, 'podcast': False, 'measur': False, 'trick': False, 'behaviour': False, 'arguabl': False, 'attract': False, 'comparison': False, 'eager': False, 'form': False, 'cross': False, 'hot': False, 'knn': False, 'compromis': False, 'readili': False, 'heavili': False, 'stage': False, 'discord': False, 'mente': False, 'weekend': False, 'guid': False, 'listen': False, 'bio': False, 'msc': False, 'septemb': False, 'suppli': False, 'chain': False, 'sne': False, 'produc': False, 'mesh': False, 'repeat': False, 'bigger': False, '9a1eazi': False, 'png': False, 'item': False, 'vector': False, 'standpoint': False, 'therefor': False, 'infer': False, 'colour': False, 'numb': False, 'meanwhil': False, 'sudden': False, 'quantit': False, 'loss': False, 'fire': False, 'wise': False, 'somehow': False, 'conclus': False, '**,': False, 'bill': False, 'diseas': False, 'parti': False, 'messag': False, 'assum': False, 'pleasant': False, 'frequenc': False, 'c': False, '200': False, 'calcul': False, 'zero': False, 'null': False, 'behavior': False, 'awar': False, 'precomput': False, 'instead': False, 'inbuilt': False, 'silhouett': False, 'euclidean': False, 'ideal': False, 'inertia': False, 'squar': False, 'jr': False, 'perk': False, 'austin': False, 'encrypt': False, 'privaci': False, 'similar': False, 'transfer': False, 'exam': False, 'reusabl': False, 'toy': False, 'generaliz': False, 'carri': False, 'plenti': False, 'terribl': False, 'near': False, 'encount': False, 'hdbscan': False, 'reproduc': False, 'noisi': False, 'simul': False, '\\\\`': False, '_state': False, 'scikit': False, '`': False, 'fals': False, 'dropdown': False, 'filter': False, 'dimens': False, '1s': False, '175': False, 'datacamp': False, 'rstudio': False, 'fun': False, 'motiv': False, 'thrown': False, 'disappoint': False, 'smooth': False, 'branch': False, '16d': False, 'rep': False, 'heavi': False, 'duti': False, 'ie': False, 'd6': False, 'whatev': False, 'parentmodel': False, 'childmodel': False, 'd6d': False, 'garbag': False, 'pile': False, 'parent': False, 'child': False, 'tier': False, 'forgot': False, '2500': False, '2500b': False, '2504': False, '250': False, '250h': False, 'br': False, '250k': False, '250m': False, 'jupytext': False, 'came': False, 'app': False, 'prototyp': False, 'stabl': False, 'mwout': False, 'readabl': False, 'git': False, 'diff': False, 'ui': False, 'auto': False, 'black': False, 'eg': False, 'debug': False, 'written': False, 'creator': False, 'towardsdatasci': False, 'versus': False, '5e72218eb3e8': False, 'reward': False, 'admin': False, 'foundat': False, 'grasp': False, 'under': False, 'scratch': False, 'compon': False, 'discourag': False, 'refer': False, 'contact': False, 'db': False, 'capac': False, 'led': False, 'tough': False, 'luck': False, 'devic': False, 'sent': False, 'temperatur': False, '24': False, 'avg': False, 'popul': False, 'along': False, 'dive': False, 'deeper': False, 'nich': False, 'dissert': False, 'pursu': False, 'penalti': False, 'player': False, 'fifa': False, 'attribut': False, 'europ': False, 'footbal': False, 'whoscor': False, 'opta': False, 'gk': False, 'contrari': False, 'statement': False, 'odd': False, 'formul': False, 'beast': False, 'board': False, 'mechan': False, 'approv': False, '3d': False, 'bonus': False, 'stock': False, 'emphasi': False, 'among': False, 'seeker': False, '+++': False, 'swap': False, 'trade': False, '.,': False, 'hedg': False, 'shop': False, 'bank': False, '.|': False, '++|': False, '+++|': False, '+|': False, 'experiment': False, 'powerbi': False, 'tableau': False, 'csuit': False, 'execut': False, 'overview': False, 'particip': False, '%.': False, 'bottom': False, 'supervis': False, 'afraid': False, 'impract': False, 'brows': False, 'germani': False, 'march': False, 'ecommerc': False, 'touch': False, 'cv': False, 'modifi': False, 'perhap': False, 'straight': False, 'outright': False, '**:': False, '14': False, '22': False, 'theoret': False, 'room': False, 'pyspark': False, 'airflow': False, '.),': False, 'depress': False, 'morn': False, 'kept': False, 'grade': False, 'worst': False, 'teach': False, '++.': False, 'vba': False, 'org': False, 'prompt': False, 'hybrid': False, 'throw': False, 'anaconda': False, 'minim': False, 'unnecessari': False, 'detect': False, 'conda': False, 'acceler': False, 'sensor': False, 'nois': False, 'stationari': False, 'materi': False, 'frechet': False, 'edg': False, 'strength': False, 'modul': False, 'html': False, 'diagram': False, '.**': False, 'intermedi': False, 'intro': False, 'biggest': False, 'collabor': False, 'confid': False, 'quantiti': False, 'harder': False, 'clinic': False, 'bsc': False, 'delv': False, 'timeout': False, '90': False, 'nba_api': False, 'static': False, 'endpoint': False, 'commonplayerinfo': False, 'sleep': False, 'traceback': False, 'usr': False, 'lib': False, 'python3': False, 'dist': False, 'chunk': False, '-->': False, 'six': False, 'occur': False, 'readtimeouterror': False, 'httpsconnectionpool': False, 'host': False, 'nba': False, 'port': False, '443': False, 'readtimeout': False, 'stream': False, 'proxi': False, '527': False, 'tight': False, '.”': False, 'retrain': False, 'interv': False, 'bias': False, 'permiss': False, 'pivot': False, 'ambit': False, 'unearth': False, 'administr': False, 'inhous': False, 'expertis': False, 'snake': False, 'occasion': False, 'phone': False, 'comprehens': False, 'convey': False, 'moder': False, 'matplotlib': False, 'via': False, 'kpis': False, 'wikipedia': False, 'typo': False, 'garch': False, 'annual': False, 'wors': False, '!).': False, 'implicit': False, 'explicit': False, 'click': False, 'overtim': False, 'neural': False, 'autoencod': False, 'yifanhu': False, 'net': False, 'pub': False, 'cf': False, 'pdf': False, 'fact': False, 'ecosystem': False, 'integr': False, 'tremend': False, 'frankenstein': False, 'piss': False, 'doc': False, '98': False, '381': False, 'roll': False, 'visitor': False, 'causalimpact': False, 'variant': False, 'setup': False, 'imag': False, 'thumbnail': False, 'spiki': False, 'visit': False, 'readi': False, 'offens': False, 'swe': False, 'jot': False, 'bar': False, 'kafka': False, 'migrat': False, 'dream': False, 'numpi': False, 'tune': False, 'tensorflow': False, 'kera': False, 'overcom': False, '(<': False, 'bert': False, 'gpt2': False, 'neighbor': False, 'coeffici': False, 'extrem': False, 'lof': False, 'outlier': False, 'unsupervis': False, 'belong': False, 'blood': False, 'discret': False, 'skeptic': False, 'dummi': False, 'classic': False, 'primarili': False, 'modern': False, 'necess': False, 'excus': False, 'jun': False, '**\\\\[': False, 'max': False, 'dm': False, 'action': False, 'convinc': False, '\\\\]**': False, 'slack': False, 'monday': False, '.*': False, 'contribut': False, 'maxim': False, 'closer': False, 'energi': False, 'align': False, 'tag': False, '**#': False, '\\\\->': False, '_and': False, 'recognis': False, 'overse': False, 'hold': False, 'slot': False, '!!': False, 'pca': False, '+)': False, 'began': False, 'varianc': False, 'yairhadad1': False, 'mse': False, 'iqr': False, 'upper': False, 'bracket': False, 'criteria': False, 'scatter': False, '40': False, 'mapreduc': False, 'exposur': False, 'prostitut': False, 'meantim': False, 'estat': False, 'staff': False, '?\"': False, 'dumb': False, 'oh': False, 'evid': False, 'shown': False, 'propos': False, 'dead': False, 'doctor': False, 'sick': False, 'believ': False, 'superpow': False, 'china': False, 'silicon': False, 'valley': False, 'surpass': False, 'nation': False, 'copyright': False, 'ventur': False, 'thesi': False, 'assert': False, 'procedur': False, 'suit': False, 'expert': False, 'cycl': False, 'production': False, 'agil': False, 'sprint': False, 'fight': False, 'up': False, 'ish': False, 'aris': False, 'frank': False, 'transpar': False, 'workload': False, 'steal': False, '.?': False, 'abstract': False, 'deliv': False, 'audit': False, 'ran': False, 'pose': False, 'examin': False, 'stump': False, 'restaur': False, 'shrink': False, 'difficulti': False, 'pitch': False, 'oppos': False, 'yoe': False, 'faangmulla': False, 'firm': False, 'specialist': False, 'supermarket': False, 'vehicl': False, 'driver': False, 'nowher': False, 'tidi': False, 'car': False, 'principl': False, 'crisi': False, 'priorit': False, 'yesterday': False, 'fuck': False, 'district': False, 'crimin': False, 'heck': False, 'ball': False, 'redditor': False, 'founder': False, 'tensor': False, 'accuraci': False, 'flask': False, 'ivr': False, 'anomali': False, '!!!': False, 'underwhelm': False, 'pigeonhol': False, 'growth': False, 'excit': False, 'mission': False, 'analog': False, '500': False, '.).': False, 'expos': False, 'exit': False, 'box': False, 'un': False, 'creation': False, 'unappreci': False, 'spare': False, 'electr': False, 'equip': False, 'gradual': False, 'driven': False, 'debat': False, 'jupit': False, 'rfm': False, 'recenc': False, 'workbench': False, 'churn': False, 'joe': False, 'insert': False, '26': False, 'onto': False, 'dataquest': False, 'subtract': False, 'print': False, 'summari': False, 'tab': False, 'sit': False, 'distract': False, 'secret': False, 'accord': False, 'chase': False, 'ruthless': False, 'intens': False, 'substanti': False, 'upgrad': False, 'skyrocket': False, 'game': False, 'pain': False, 'guilti': False, 'funni': False, 'crap': False, 'entic': False, 'slower': False, 'workbook': False, 'ineffici': False, 'xkcd': False, 'commit': False, 'cultur': False, 'vast': False, 'subsid': False, 'margin': False, 'surviv': False, 'forc': False, 'refactor': False, 'simpler': False, 'faster': False, 'seaborn': False, 'straightforward': False, 'proceed': False, 'newbi': False, 'center': False, 'brought': False, 'god': False, 'void': False, 'undoubt': False, '”?': False, 'pop': False, 'climat': False, 'scenario': False, 'fluent': False, '”,': False, 'bound': False, 'rabbit': False, 'hole': False, 'conceptu': False, 'deepli': False, 'necessari': False, \"*'\": False, \"'*\": False, 'patient': False, 'bold': False, 'casino': False, 'leap': False, 'pytorch': False, 'hundr': False, 'gender': False, 'histor': False, 'reduc': False, 'tempt': False, 'outcom': False, 'hurt': False, 'scientif': False, 'govern': False, 'meta': False, 'machinelearn': False, 'buzzword': False, 'cooler': False, 'hang': False, 'regardless': False, 'restrict': False, '**.': False, 'overrun': False, 'overflow': False, 'homework': False, 'effort': False, 'sake': False, '-**': False, 'bot': False, 'flair': False, 'revisit': False, 'grown': False, 'equiti': False, 'dabbl': False, 'anticip': False, 'hous': False, 'acquisit': False, 'median': False, 'rental': False, 'yoy': False, 'rent': False, 'ratio': False, 'composit': False, 'nosql': False, 'skew': False, '%+': False, 'skim': False, 'white': False, '!\".': False, 'tabular': False, 'covid19': False, 'citizen': False, 'green': False, 'card': False, 'cap': False, 'lie': False, 'status': False, 'mont': False, 'carlo': False, 'queu': False, 'hackernew': False, 'lobster': False, 'par': False, 'fluff': False, 'serv': False, 'corona': False, 'desk': False, 'reput': False, 'vari': False, 'workspac': False, 'multi': False, 'constraint': False, 'erd': False, 'export': False, 'autocomplet': False, 'trace': False, 'psql': False, 'pgcli': False, 'superior': False, 'ipython': False, 'datagrip': False, '/):': False, 'popsql': False, 'editor': False, 'freez': False, 'dbeaver': False, 'io': False, 'holi': False, 'tax': False, 'proven': False, 'inaccur': False, 'repo': False, 'tire': False, 'siraj': False, 'raval': False, 'plagiar': False, 'femal': False, 'men': False, 'soap': False, 'solidifi': False, 'entertain': False, 'surpris': False, 'women': False, 'sentenc': False, 'javascript': False, 'js': False, 'silli': False, 'pc': False, 'dig': False, 'rich': False, 'audio': False, 'heart': False, 'sentiment': False, 'predictor': False, 'amaz': False, 'mba': False, 'fraud': False, 'laid': False, 'lazi': False, 'forget': False, 'fantasi': False, 'fool': False, 'bing': False, 'tv': False, 'repli': False, 'tomorrow': False, 'iplot': False, 'bought': False, 'vscode': False, 'sequenti': False, 'mb': False, 'docker': False, 'lean': False, 'pvalu': False, 'segment': False, '\").': False, 'hive': False, 'benefiti': False, 'scala': False, 'apach': False, 'trigger': False, 'jenkin': False, 'anymor': False, 'convolut': False, 'cpu': False, '->': False, 'asid': False, 'gpu': False, 'bear': False, 'grid': False, 'empti': False, '%)': False, 'gap': False, 'partial': False, 'deleg': False, 'light': False, 'skillset': False, 'institut': False, 'adopt': False, 'deliveri': False, 'chatbot': False, 'suffici': False, 'devis': False, 'declar': False, '35': False, 'budget': False, 'ident': False, 'spoken': False, 'decemb': False, 'workforc': False, 'robot': False, 'blind': False, 'realiti': False, 'durabl': False, 'p': False, 'devop': False, 'shini': False, 'repositori': False, 'gui': False, 'phenomena': False, 'press': False, 'interfac': False, 'browser': False, 'restart': False, 'dark': False, 'mode': False, 'succeed': False, 'elsewher': False, 'summar': False, 'incoher': False, 'somebodi': False, 'spot': False, 'mental': False, 'checklist': False, 'earth': False, 'dip': False, 'spike': False, 'moreov': False, 'robust': False, 'cpus': False, 'ingredi': False, 'weird': False, '(%)|': False, '25': False, 'toxic': False, '%,': False, '75': False, 'twitter': False, '—': False, 'polituit': False, 'haha': False, 'realist': False, '06': False, 'prod': False, '/),': False, 'dash': False, '/).': False, 'latter': False, 'huggingfac': False, 'abhishek': False, 'powerpoint': False, 'gotten': False, 'ship': False, 'cell': False, 'there': False, 'quot': False, '?](': False, 'overarch': False, 'theme': False, 'win': False, 'consequ': False, '?”': False, 'proactiv': False, 'julia': False, 'templat': False, 'concret': False, 'cowork': False, 'nasti': False, 'bug': False, 'promis': False, 'pareto': False, 'recur': False, 'scrutin': False, 'genuin': False, 'encourag': False, 'celebr': False, 'quarter': False, 'dump': False, 'clearer': False, 'illustr': False, 'careerfair': False, 'undergradu': False, 'conduct': False, 'literatur': False, 'hobbi': False, 'leaderboard': False, 'qualif': False, 'bin': False, 'introductori': False, 'clariti': False, 'trainer': False, 'anecdot': False, 'augment': False, '10s': False, '16': False, 'thinkpad': False, 'x1': False, 'carbon': False, 'gen': False, '”)': False, 'inspir': False, 'cltv': False, 'exploratori': False, 'unusu': False, 'august': False, 'algebra': False, 'acf': False, 'cyclic': False, 'season': False, 'duplic': False, 'corner': False, 'quicker': False, 'stronger': False, 'gan': False, 'solid': False, 'crisp': False, 'traction': False, 'guidanc': False, 'februari': False, 'emr': False, '...)': False, 'grate': False, 'trust': False, 'vim': False, 'neovim': False, '??': False, '…': False, 'isol': False, 'hyperparamet': False, 'broken': False, 'penetr': False, 'headcount': False, 'drastic': False, 'introduc': False, 'immens': False, 'gitlab': False, 'grunt': False, 'autoregress': False, 'ambient': False, 't0': False, 'ar': False, 'overkil': False, 'award': False, 'bodi': False, 'findaphd': False, 'aspx': False, 'art': False, 'classroom': False, 'soul': False, 'ps': False, 'bore': False, 'investig': False, 'slice': False, 'unhappi': False, 'weigh': False, 'inher': False, 'unpredict': False, 'inventori': False, 'wherein': False, 'manpow': False, 'inquiri': False, 'revenu': False, 'discount': False, 'cov': False, 'precis': False, 'tuesday': False, 'agent': False, 'judg': False, '##': False, 'expens': False, 'financ': False, 'food': False, 'hint': False, 'ticket': False, 'nonetheless': False, 'absurd': False, 'inflat': False, 'enlighten': False, 'mask': False, 'presidio': False, '\"<': False, '\"[': False, 'shelf': False, 'decreas': False, 'ethic': False, 'intent': False, 'argument': False, 'pace': False, 'lag': False, 'catch': False, 'anxious': False, 'dear': False, 'rapid': False, 'awesom': False, 'standardis': False, ':-)': False, '|[': False, 'wandb': False, '/)|': False, ')|': False, 'dvc': False, 'sagemak': False, 'dbs': False, 'mlflow': False, 'pros': False, 'con': False, 'handbook': False, 'utm_sourc': False, 'utm_medium': False, 'web2x': False, 'qualit': False, 'pen': False, 'audibl': False, 'station': False, 'pipe': False, 'road': False, 'legitim': False, 'simultan': False, 'cyber': False, 'depth': False, 'sharp': False, 'jack': False, 'hunt': False, '**\"': False, 'truli': False, 'dba': False, 'clue': False, 'pressur': False, 'region': False, 'pip': False, 'statistician': False, 'stick': False, 'economi': False, 'sc': False, 'nn': False, 'postgr': False, 'queue': False, 'orient': False, 'elimin': False, 'backward': False, 'poster': False, 'sophomor': False, 'debt': False, 'aa': False, 'batch': False, 'circumst': False, 'drake': False, '70': False, 'logisticregress': False, 'liblinear': False, 'l1': False, 'spyder': False, 'crowdsourc': False, 'wow': False, 'takeaway': False, 'interfer': False, 'rot': False, 'b2b': False, 'characterist': False, '470044': False, 'ls': False, 'iri': False, 'kick': False, 'court': False, 'billion': False, 'bright': False, 'slide': False, '?\".': False, 'wild': False, 'attitud': False, 'uplift': False, 'baselin': False, 'man': False, 'pr': False, 'realis': False, 'overcam': False, 'openai': False, 'dexter': False, 'releas': False, 'contrast': False, 'clone': False, 'demograph': False, 'centroid': False, 'sensit': False, 'preliminari': False, 'redact': False, 'thousand': False, 'expotenti': False, 'alloc': False, 'maximum': False, 'scipi': False, 'credenti': False, 'password': False, 'architect': False, 'propublica': False, 'over': False, 'uber': False, 'ride': False, 'san': False, 'francisco': False, 'marketplac': False, 'backup': False, 'spoke': False, 'dynam': False, 'everytim': False, 'ux': False, 'tension': False, 'quora': False, 'layer': False, 'bureaucraci': False, 'teammat': False, 'club': False, 'changer': False, 'bs': False, 'intuit': False, 'datascientist': False, 'prevent': False, '_train': False, '_test': False, 'divers': False, '31': False, 'defens': False, 'contractor': False, 'cybersecur': False, '93ba7195e4c9': False, '15b9b86e86c6': False, 'dn5uxq': False, '_data': False, 'kmean': False, 'nervous': False, 'fear': False, 'magazin': False, 'poll': False, '100k': False, 'json': False, 'md': False, 'articul': False, ');': False, 'deadlin': False, 'incorrect': False, 'boot': False, 'camp': False, 'uncov': False, 'leverag': False, 'svp': False, 'exec': False, 'consider': False, 'quantize': False, 'lock': False, 'protect': False, 'safeti': False, 'prioritis': False, 'multipli': False, 'mood': False, '...\"': False, 'blow': False, '++': False, 'java': False, 'imput': False, '077': False, 'hassl': False, 'mulesoft': False, 'rhapsodi': False, 'spin': False, 'assur': False, 'april': False, 'usc': False, 'california': False, 'webscrap': False, 'hadoop': False, 'kubernet': False, 'container': False, '✔': False, '/@': False, '94daac85108b': False, 'cookiecutt': False, 'pls': False, 'islr': False, '\"...': False, 'pcr': False, ')\"': False, 'wash': False, 'photo': False, 'logo': False, 'matlab': False, 'font': False, 'op': False, 'gg': False, 'floor': False, 'oscilloscop': False, 'cheap': False, '400': False, 'cpp': False, 'pysimplegui': False, 'unfamiliar': False, 'payment': False, '(\\\\*),': False, 'sport': False, 'episod': False, 'plackett': False, 'luce': False, 'latent': False, 'element': False, 'winner': False, 'fulfil': False, 'incompet': False, 'mbas': False, 'conferenc': False, 'demo': False, 'cook': False, 'chapter': False, 'amsterdam': False, 'am': False, 'gaug': False, 'medior': False, '67k': False, '18k': False, 'rsu': False, 'vest': False, '78k': False, 'med': False, 'spars': False, 'graphic': False, 'stole': False, 'gf': False, 'repost': False, 'dean': False, 'hoffman': False, 'credit': False, 'justia': False, 'feder': False, 'cacdc': False, '2004cv09484': False, '167815': False, '776': False, 'rss': False, 'reader': False, 'hair': False, 'credibl': False, 'enhanc': False, '20intellig': False, 'hl': False, 'gl': False, 'ceid': False, '3aen': False, 'drag': False, 'semant': False, 'gmirk': False, '_apolog': False, '_from': False, '_a': False, '_scienc': False, '_compani': False, '_stole': False, '_mi': False, 'my_apologies_from_a_data_science_company_stole_mi': False, 'theft': False, 'rebuild': False, 'cite': False, 'blacklist': False, '3b': False, 'girlfriend': False, 'actionablelab': False, 'stolen': False, 'tds': False, 'infring': False, 'delet': False, 'gkoxpd': False, '_price': False, 'actionableinsight': False, 'strict': False, '5fce18238dbc': False, '2015': False, '17': False, 'ts': False, 'histori': False, 'borrow': False, 'delinqu': False, 'impli': False, 'cutoff': False, 'complianc': False, 'notion': False, 'telephon': False, 'express': False, 'giant': False, 'ture': False, 'jl': False, 'stan': False, 'pymc3': False, 'pharmaceut': False, 'rbms': False, 'homecourt': False, 'lotteri': False, 'geograph': False, 'fb': False, 'eu': False, 'apparel': False, 'subtl': False, 'tidytuesday': False, 'tattoo': False, 'fp5npy2': False, 'submiss': False, 'polish': False, 'shock': False, 'df': False, 'practition': False, 'width': False, 'webinar': False, 'circl': False, 'death': False, 'yall': False, 'epidemiolog': False, 'micromast': False, 'offici': False, 'arxiv': False, '2004': False, '02349': False, 'reign': False, 'announc': False, '‘': False, 'codespac': False, 'satellit': False, 'salti': False, 'bullshit': False, 'inevit': False, 'replic': False, 'obstacl': False, 'lineup': False, 'broader': False, 'flex': False, 'nfl': False, 'portion': False, 'geo': False, 'y1': False, 'y2': False, 'datatau': False, 'chest': False, 'agenc': False, 'symptom': False, '80k': False, ')]`': False, 'vlookup': False, 'strang': False, 'babi': False, 'wrt': False, 'conting': False, 'b3gawa': False, 'middleman': False, 'exclus': False, 'compars': False, 'interst': False, 'european': False, 'german': False, '9k': False, 'eur': False, '17k': False, 'nine': False, 'retrospect': False, 'hype': False, '**!': False, 'v3zesgb': False, 'healthi': False, 'quarantin': False, 'ceil': False, 'gc': False, 'mckinsey': False, 'insourc': False, 'outsourc': False, 'realize': False, 'pitfal': False, 'toolchain': False, 'tie': False, 'ci': False, 'cd': False, 'beefi': False, 'vms': False, 'mirror': False, 'sharehold': False, 'satisfi': False, 'apr': False, 'cartoon': False, 'inclin': False, 'epidem': False, '(\\\\*': False, '\\\\*)': False, 'cto': False, 'curriculum': False, 'streak': False, 'ebook': False, 'yt': False, 'edu': False, 'statquest': False, 'itsl': False, 'scroll': False, 'aerospac': False, 'ocr': False, 'recogn': False, 'michaelf736': False, 'apriori': False, 'karthik': False, 'thandapani': False, 'f6c0054dfb7c': False, 'friends_link': False, 'sk': False, '70c9b7177a1e731b3c742aca26ae22e7': False, 'diaper': False, 'beer': False, 'preview': False, 'redd': False, 'webp': False, 'plausibl': False, 'husband': False, 'groceri': False, 'itemset': False, 'proport': False, '}': False, '\\\\/': False, 'uncomfort': False, 'posterior': False, 'archiv': False, 'invalid': False, 'rhyme': False, '_new': False, 'children': False, 'timestamp': False, ')**': False, 'charact': False, 'downstream': False, 'comma': False, 'upstream': False, 'veh': False, 'autonum': False, 'postal': False, 'currenc': False, 'mail': False, 'latitud': False, 'longitud': False, '120': False, 'spoiler': True, 'throne': False, 'dire': False, 'wolv': False, 'grrm': False, 'diana': False, 'rigg': False, 'song': False, 'fan': False, 'charisma': False, 'tactic': False, 'honor': False, 'sacrific': False, 'aegon': False, 'visenya': False, 'rhaeni': False, 'artist': False, 'bizarr': False, 'bluray': False, 'daeneri': False, 'dragon': False, 'rewatch': False, 'damn': False, 'weaker': False, 'battl': False, 'westero': False, 'shame': False, 'arya': False, 'foreshadow': False, 'needl': False, 'alright': False, 'robert': False, 'cersei': False, 'lyanna': False, 'tyrion': False, 'scene': False, 'pencil': False, 'stark': True, 'lannist': False, 'brienn': False, 'drink': False, 'centuri': False, 'crude': False, 'cruel': False, 'sansa': False, 'hound': False, 'wolf': False, 'aliv': False, 'gendri': False, 'winterfel': False, 'bran': False, 'pod': False, 'tormund': False, 'davo': False, 'king': False, 'reaction': False, 'l': False, 'j': False, 'arc': False, 'euron': False, 'ambush': False, 'dani': False, 'sea': False, 'dragonston': False, 'castl': False, 'rhaenyra': False, 'ii': False, 'conveni': False, 'missandei': False, 'rhaegal': False, 'implaus': False, 'jon': False, 'loyalist': False, 'kill': False, 'speech': False, 'coin': False, 'eight': False, 'lieg': False, 'lord': False, 'yara': False, 'martel': False, 'tar': False, 'rhaegar': False, 'sibl': False, 'kingdom': False, 'emot': False, 'ned': False, 'joffrey': False, 'retak': False, 'iron': False, 'island': False, 'vent': False, 'ear': False, 'dislik': False, 'viserion': False, 'born': False, 'dothraki': False, 'drogon': False, 'queen': False, 'targaryen': True, 'brother': False, 'princ': False, 'viseri': False, 'uninhabit': False, 'eyri': False, 'caught': False, 'passag': False, 'seat': False, 'arryn': False, 'winter': False, 'ice': False, 'snow': False, 'howl': False, 'wind': False, 'adwd': False, 'prime': False, 'littlefing': False, 'vale': False, 'forgotten': False, 'raven': False, 'ruler': False, 'fallen': False, 'ser': False, 'portrait': False, 'prismacolor': False, 'ashton': False, 'wood': False, 'instagram': False, 'autograph': False, 'qhorin': False, 'halfhand': False, 'wildl': False, 'whilst': False, 'climb': False, 'jami': False, 'bronn': False, 'kneel': False, 'jorah': False, 'remak': False, 'conqueror': False, 'walker': False, 'storylin': False, 'metal': False, 'valyrian': False, 'steel': False, 'rival': False, 'sword': False, 'overr': False, 'emmi': False, 'actress': False, 'rob': False, 'act': False, 'maisi': False, 'william': False, 'kit': False, 'charl': False, 'danc': False, 'actor': False, 'emilia': False, 'clark': False, 'drama': False, 'bell': False, 'shot': False, 'cosplay': False, 'mormont': False, 'specul': False, 'armi': False, 'vote': False, 'cast': False, 'runner': False, 'gameofthron': False, 'hqosj3': False, '_best': False, '_fight': False, '_in': False, '_game': False, '_of': False, '_throne': False, '_final': False, 'hqowq5': False, 'villain': False, 'rebellion': False, 'oath': False, 'breaker': False, 'warp': False, 'mad': False, 'hypocrit': False, 'justic': False, 'aveng': False, 'horribl': False, 'horror': False, 'disgust': False, 'refus': False, 'realm': False, 'haunt': False, 'wife': False, 'poison': False, 'innoc': False, 'broke': False, 'daughter': False, 'defend': False, 'butcher': False, 'anger': False, 'wake': False, 'betroth': False, 'imo': False, 'crime': False, 'complain': False, 'resign': False, 'murder': False, 'bend': False, 'bid': False, 'slip': False, 'danger': False, 'obsess': False, 'lucif': False, 'asoiaf': False, 'antagonist': False, 'symbol': False, 'melt': False, 'societi': False, 'council': False, 'inherit': False, 'closest': False, 'defeat': False, 'tale': False, 'ruin': False, '_bonus': False, 'voic': False, 'khalessi': False, 'sun': False, 'shade': False, 'weather': False, 'greyjoy': False, 'uncl': False, 'theon': False, 'younger': False, 'balon': False, 'ulemye0ewg0': False, 'clegan': False, 'showdown': False, 'hors': False, 'ive': False, 'televis': False, 'sister': False, 'hbo': False, 'shook': False, 'music': False, 'suspens': False, 'bitch': False, 'loud': False, 'steelbook': False, 'caster': False, 'rock': False, 'former': False, 'crown': False, 'resolv': False, 'assault': False, 'wealth': False, 'stormland': False, 'dorn': False, 'enemi': False, 'quest': False, 'culmin': False, 'conquer': False, 'westerland': False, 'film': False, 'alot': False, 'crab': False, 'north': False, 'crustacean': False, 'betray': False, 'backstab': False, 'melisandr': False, 'aka': False, 'witch': False, 'presum': False, 'fate': False, 'nose': False, 'hidden': False, 'hide': False, 'older': False, 'allus': False, 'flame': False, 'cold': False, 'destin': False, 'glori': False, 'asteroid': False, 'mankind': False, 'faceless': False, 'priestess': False, 'civil': False, 'war': False, 'extinct': False, 'fleet': False, 'territori': False, 'race': False, 'religion': False, 'drawn': False, 'invad': False, 'fanart': False, 'stanni': False, 'clash': False, 'recip': False, 'pilot': False, 'occas': False, 'wear': False, 'wig': False, 'behead': False, 'knight': False, 'arriv': False, 'feast': False, 'dinner': False, 'catelyn': False, 'wed': False, 'corps': False, 'savag': False, 'slaughter': False, 'lay': False, 'bloodi': False, 'cup': False, 'heel': False, 'bread': False, 'sat': False, 'wore': False, 'direwolv': False, 'petyr': False, 'baelish': False, 'manc': False, 'rayder': False, 'tywin': False, 'olenna': False, 'tyrel': False, 'margaeri': False, 'jaim': False, 'oberyn': False, 'baratheon': False, 'jano': False, 'slynt': False, 'pycell': False, 'tulli': False, 'v': False, 'golden': False, 'wtf': False, '?!?!': False, '!!!!!': False, 's8': False, 'drawl': False, 'idk': False, 'ggn75kmjyji': False, 'heir': False, 'bed': False, 'royal': False, 'son': False, 'oldest': False, 'male': False, 'barbarian': False, 'raider': False, 'disagre': False, 'emerg': False, 'reconcil': False, 'hero': False, 'prequel': False, 'conquest': False, 'writer': False, 'ninepenni': False, 'reyn': False, 'tarbeck': False, 'barristan': False, 'blackfish': False, 'aeri': False, 'flesh': False, 'fighter': False, 'crow': False, 'fifth': False, 'spoil': False, 'loot': False, 'sequenc': False, 'grip': False, '1918': False, 'metaphor': False, 'opposit': False, 'disclaim': False, 'grain': False, 'salt': False, 'maester': False, 'misunderstand': False, 'tilt': False, 'planet': False, 'planeto': False, 'cataclysm': False, 'valyria': False, 'meteor': False, 'messeng': False, 'legend': False, 'moon': False, 'sky': False, 'hatch': False, 'birth': False, 'asshai': False, 'disast': False, 'forg': False, 'valar': False, 'morghuli': False, 'proud': False, 'gotta': False, 'banish': False, 'unsulli': False, '4k': False, 'fli': False, 'ren': False, 'xd': False, 'tommen': False, 'seaworth': False, 'mother': False, 'samwel': False, 'halfway': False, 'loath': False, 'sworn': False, 'treason': False, 'american': False, 'danaeri': False, 'khal': False, 'drogo': False, 'bastard': False, 'father': False, 'dwarf': False, 'woman': False, 'girl': False, 'marri': False, 'slap': False, 'reveng': False, '......': False, 'puzzl': False, 'duel': False, 'mysteri': False, 'seed': False, 'collector': False, 'pjpg': False, 'sknr': False, '09': False, '763s': False, 'xf_8tkjilmc': False, 'finger': False, 'assassin': False, 'griev': False, 'imprison': False, 'equal': False, 'moral': False, 'ambigu': False, 'damag': False, 'grey': False, 'worm': False, 'imdb': False, 'woke': False, 'tarth': False, 'chosen': False, 'movi': False, 'georg': False, 'martin': False, 'consort': False, 'beneath': False, 'umber': False, 'karstark': False, 'glover': False, 'rain': False, 'castamer': False, 'glass': False, 'flat': False, 'surrend': False, 'confess': False, 'courtier': False, 'grab': False, 'cat': False, 'laugh': False, 'rude': False, 'hno7zt': False, '_part': False, 'eldarion': False, 'justifi': False, 'hnnlwb': False, 'ghost': False, 'sept': False, 'faith': False, 'youv': False, 'hn15ux': False, 'trailer': False, 'wight': False, 'sex': False, 'zombi': False, '!?': False, 'troll': False, 'blunt': False, 'backstori': False, 'soundtrack': False, 'sad': False, 'desper': False, 'h': False, 'overthrown': False, 'legit': False, 'maegor': False, 'seven': False, 'hn0g22': False, 'hn0vsn': False, 'daario': False, 'nahari': False, 'robb': False, 'ramsey': False, 'bolton': False, 'gate': False, 'parentag': False, 'aemon': False, 'birthright': False, 'dialogu': False, 'attack': False, 'escap': False, 'sam': False, 'tower': False, 'ww1': False, 'hast': False, 'monarchi': False, 'wheel': False, 's7': False, 'ep': False, 'rickon': False, 'azor': False, 'ahai': False, 'abandon': False, 'ressurect': False, 'shireen': False, 'pyre': False, 'smoke': False, 'tear': False, 'bleed': False, 'propheci': False, 'afterward': False, 'greatest': False, 'botch': False, 'meera': False, 'reed': False, 'benjen': False, '8000': False, 'weapon': False, 'undead': False, 'swarm': False, 'flee': False, 'south': False, 'breach': False, 'contin': False, 'sacrif': False, 'knee': False, 'dornish': False, 'blackwat': False, 'sieg': False, 'surround': False, 'meereen': False, 'carnag': False, 'bannerman': False, 'moat': False, 'cailin': False, 'converg': False, 'spear': False, 'threat': False, 'northern': False, 'reunit': False, 'bent': False, 'destroy': False, 'epic': False, 'ensu': False, 'clip': False, 'injur': False, 'dodg': False, 'immun': False, 'plung': False, 'dagger': False, 'ground': False, 'sigh': False, 'soldier': False, 'aftermath': False, 'sail': False, 'consumm': False, 'fought': False, 'snap': False, 'massacr': False, 'frey': False, 'crossroad': False, 'pie': False, 'brotherhood': False, 'narrat': False, 'citadel': False, 'horn': False, 'hill': False, 'gilli': False, 'unbeliev': False, 'stood': False, 'peac': False, 'ellaria': False, 'sand': False, 'roar': False, 'esso': False, 'retreat': False, 'civilian': False, 'destini': False, 'qyburn': False, 'ignit': False, 'wrap': False, 'throat': False, 'choke': False, 'empir': False, 'tyrant': False, 'spread': False, 'seiz': False, 'podrick': False, 'weirwood': False, 'compass': False, 'lyric': False, 'royalti': False, 'democraci': False, 'root': False, \"?'\": False, \".'\": False, \"!'\": False, 'crowd': False, 'mount': False, 'wouldv': False, 'pointless': False, 'eastwatch': False, 'riverland': False, 'wildfir': False, 'dramat': False, 'commentari': False, 'blu': False, 'ray': False, 'dragonfir': False, 'lego': False, 'magali': False, 'guitar': False, '6i0a7rdpkm8': False, 'insan': False, 'misand': False, 'rumour': False, 'quiz': False, 'paint': True, 'travel': False, 'catlyn': False, 'hd': False, 's6': False, 'e3': False, 'consensus': False, 'watcher': False, 'upset': False, 'viewer': False, 'dirti': False, 's1': False, 'godswood': False, 'witcher': False, 'skyrim': False, 'dare': False, 'canon': False, 'evil': False, 'sweet': False, 'wouldnt': False, 'fourth': False, 'warden': False, 'ladi': False, 'cousin': False, 'fandom': False, 'loyal': False, 'ugc': False, '!**': False, 'attach': False, 'knife': False, 'underr': False, 'thorough': False, 'heartbreak': False, '^^': False, '^^,': False, 'scream': False, 'plotlin': False, 'orchestr': False, 'peter': False, 'restor': False, 'scheme': False, 'river': False, 'lancel': False, 'lysa': False, 'allianc': False, 'selmi': False, 'defenc': False, 'wasnt': False, 'cersi': False, 'drug': False, 'didnt': False, 'rape': False, 'planetus': False, 'coloni': False, 'apocalypt': False, 'nativ': False, 'storm': False, 'worship': False, 'section': False, 'hardhom': False, 'barriston': False, 'bryden': False, 'kingsguard': False, 'flashback': False, 'harrenh': False, 'peak': False, 'habsburg': False, '603': False, 'inquir': False, 'thoro': False, 'myr': False, 'bloodlin': False, 'prophesi': False, 'hodor': False, 'craft': False, 'redeem': False, 'targaren': False, 'cant': False, 'vow': False, 'shall': False, 'dawn': False, 'shield': False, 'guard': False, 'five': False, 'johnni': False, 'allis': False, 'thorn': False, '???': False, 'jaqen': False, 'ghar': False, 'braavo': False, 'acquir': False, 'clan': False, 'mountain': False, 'joy': False, 'reread': False, 'suck': False, 'lizvlquipmu': False, 'cave': False, 'combat': False, 'brilliant': False, 'outsmart': False, 'sorcer': False, 'neighbour': False, 'dog': False, 'dvd': False, 'disc': False, 'bootleg': False, 'revers': False, '3024': False, 'jokest': False, 'redempt': False, 'groundbreak': False, 'hftp58': False, '_battl': False, 'hft53d': False, 'baelor': False, 'phenomen': False, 'sing': False, 'jenni': False, 'lion': False, 'rose': False, 'harpi': False, 'willi': False, 'brian': False, 'bless': False, 'heat': False, 'graham': False, 'hancock': False, 'complaint': False, 'twin': False, 'audiobook': False, 'roy': False, 'myrcella': False, 'syrio': False, 'lightbring': False, 's5': False, 'viper': False, 'boyfriend': False, 'warm': False, 'ban': False, 'hatr': False, 'swam': False, 'swim': False, 'cuz': False, 'tragedi': False, 'yvjy2o9qysa': False, '169': False, 't2cihrd': False, 'that': False, 'hcw93b': False, '_15': False, 'spoilers_best_battles_in_game_of_thrones_15': False, 'hcx8t9': False, '_25': False, 'spoilers_best_battles_in_game_of_thrones_25': False, 'hdhpbm': False, '_45': False, 'spoilers_best_battles_in_game_of_thrones_45': False, 'hdc07w': False, 'hunger': False, 'presid': False, 'katniss': False, 'hg': False, '_35': False, 'spoilers_best_battles_in_game_of_thrones_35': False, 'unsatisfi': False, 'bb': False, 'worg': False, 'shout': False, 'unconsci': False, 'corn': False, 'foot': False, 'kl': False, 'doppelgäng': False, 'khaleesi': False, 'valerian': False, 'daerneri': False, 'hh83rvz81pe': False, 'skin': False}, 'gameofthrones')\n"
          ],
          "name": "stdout"
        }
      ]
    },
    {
      "cell_type": "code",
      "metadata": {
        "id": "_9JE8yKXbLyH",
        "colab_type": "code",
        "colab": {}
      },
      "source": [
        "#Training a Naive Bayes Classifier\n",
        "classifier  = nltk.NaiveBayesClassifier.train(train)"
      ],
      "execution_count": null,
      "outputs": []
    },
    {
      "cell_type": "code",
      "metadata": {
        "id": "n5YJ0aLqdOLB",
        "colab_type": "code",
        "colab": {
          "base_uri": "https://localhost:8080/",
          "height": 34
        },
        "outputId": "7cedef6a-5f29-4ce5-dc4c-bc60d64f52dd"
      },
      "source": [
        "#determining the accuracy of the classifier\n",
        "nltk.classify.accuracy(classifier, test)"
      ],
      "execution_count": null,
      "outputs": [
        {
          "output_type": "execute_result",
          "data": {
            "text/plain": [
              "0.946058091286307"
            ]
          },
          "metadata": {
            "tags": []
          },
          "execution_count": 50
        }
      ]
    },
    {
      "cell_type": "code",
      "metadata": {
        "id": "0IP0FqkBdRZu",
        "colab_type": "code",
        "colab": {
          "base_uri": "https://localhost:8080/",
          "height": 340
        },
        "outputId": "f734f58b-693c-4b5a-8db0-9e600fe9799d"
      },
      "source": [
        "classified_data = classifier.classify_many(prepared_holdout_data)\n",
        "cm = nltk.ConfusionMatrix(holdout_data_labels, classified_data)\n",
        "print(cm)"
      ],
      "execution_count": null,
      "outputs": [
        {
          "output_type": "stream",
          "text": [
            "              |       g |\n",
            "              |       a |\n",
            "              |   d   m |\n",
            "              |   a   e |\n",
            "              |   t   o |\n",
            "              |   a   f |\n",
            "              |   s   t |\n",
            "              |   c   h |\n",
            "              |   i   r |\n",
            "              |   e   o |\n",
            "              |   n   n |\n",
            "              |   c   e |\n",
            "              |   e   s |\n",
            "--------------+---------+\n",
            "  datascience |  <.>100 |\n",
            "gameofthrones |   .<100>|\n",
            "--------------+---------+\n",
            "(row = reference; col = test)\n",
            "\n"
          ],
          "name": "stdout"
        }
      ]
    },
    {
      "cell_type": "code",
      "metadata": {
        "id": "V4HZLChUdifB",
        "colab_type": "code",
        "colab": {
          "base_uri": "https://localhost:8080/",
          "height": 391
        },
        "outputId": "0df96aa1-e82d-449d-b2b8-44d475911ce2"
      },
      "source": [
        "print(classifier.show_most_informative_features(20))"
      ],
      "execution_count": null,
      "outputs": [
        {
          "output_type": "stream",
          "text": [
            "Most Informative Features\n",
            "                 spoiler = False          datasc : gameof =    222.4 : 1.0\n",
            "                   learn = True           datasc : gameof =     29.4 : 1.0\n",
            "                 project = True           datasc : gameof =     28.4 : 1.0\n",
            "                     job = True           datasc : gameof =     28.1 : 1.0\n",
            "                    code = True           datasc : gameof =     27.8 : 1.0\n",
            "                 charact = True           gameof : datasc =     26.7 : 1.0\n",
            "                    busi = True           datasc : gameof =     25.5 : 1.0\n",
            "                 process = True           datasc : gameof =     25.0 : 1.0\n",
            "                 predict = True           datasc : gameof =     23.8 : 1.0\n",
            "                 compani = True           datasc : gameof =     23.2 : 1.0\n",
            "                    type = True           datasc : gameof =     19.2 : 1.0\n",
            "                    work = True           datasc : gameof =     18.1 : 1.0\n",
            "                    role = True           datasc : gameof =     16.9 : 1.0\n",
            "                    user = True           datasc : gameof =     16.9 : 1.0\n",
            "                   watch = True           gameof : datasc =     16.1 : 1.0\n",
            "                    issu = True           datasc : gameof =     15.8 : 1.0\n",
            "                   field = True           datasc : gameof =     15.3 : 1.0\n",
            "               recommend = True           datasc : gameof =     14.6 : 1.0\n",
            "                   relat = True           datasc : gameof =     14.3 : 1.0\n",
            "                  search = True           datasc : gameof =     14.1 : 1.0\n",
            "None\n"
          ],
          "name": "stdout"
        }
      ]
    },
    {
      "cell_type": "code",
      "metadata": {
        "id": "joowVuI6dtk_",
        "colab_type": "code",
        "colab": {}
      },
      "source": [
        "# Decision tree model training and evaluation\n",
        "\n",
        "classifier2  = nltk.DecisionTreeClassifier.train(train)"
      ],
      "execution_count": null,
      "outputs": []
    },
    {
      "cell_type": "code",
      "metadata": {
        "id": "KDsjyQxDenwL",
        "colab_type": "code",
        "colab": {
          "base_uri": "https://localhost:8080/",
          "height": 34
        },
        "outputId": "72b4676b-b58b-4b74-c579-63d5d38897ad"
      },
      "source": [
        "nltk.classify.accuracy(classifier2, test)"
      ],
      "execution_count": null,
      "outputs": [
        {
          "output_type": "execute_result",
          "data": {
            "text/plain": [
              "1.0"
            ]
          },
          "metadata": {
            "tags": []
          },
          "execution_count": 57
        }
      ]
    },
    {
      "cell_type": "code",
      "metadata": {
        "id": "PaFWuO2CfHJ4",
        "colab_type": "code",
        "colab": {
          "base_uri": "https://localhost:8080/",
          "height": 340
        },
        "outputId": "a9d73110-07b1-422f-96eb-f59ff43bf0e7"
      },
      "source": [
        "classified_data = classifier2.classify_many(prepared_holdout_data)\n",
        "cm = nltk.ConfusionMatrix(holdout_data_labels, classified_data)\n",
        "print(cm)"
      ],
      "execution_count": null,
      "outputs": [
        {
          "output_type": "stream",
          "text": [
            "              |       g |\n",
            "              |       a |\n",
            "              |   d   m |\n",
            "              |   a   e |\n",
            "              |   t   o |\n",
            "              |   a   f |\n",
            "              |   s   t |\n",
            "              |   c   h |\n",
            "              |   i   r |\n",
            "              |   e   o |\n",
            "              |   n   n |\n",
            "              |   c   e |\n",
            "              |   e   s |\n",
            "--------------+---------+\n",
            "  datascience |<100>  . |\n",
            "gameofthrones |   .<100>|\n",
            "--------------+---------+\n",
            "(row = reference; col = test)\n",
            "\n"
          ],
          "name": "stdout"
        }
      ]
    },
    {
      "cell_type": "code",
      "metadata": {
        "id": "qzXBBU0gewwU",
        "colab_type": "code",
        "colab": {
          "base_uri": "https://localhost:8080/",
          "height": 68
        },
        "outputId": "11483927-54af-4680-dcea-e8c286f993c4"
      },
      "source": [
        "print(classifier2.pseudocode(depth=4))"
      ],
      "execution_count": 60,
      "outputs": [
        {
          "output_type": "stream",
          "text": [
            "if spoiler == False: return 'datascience'\n",
            "if spoiler == True: return 'gameofthrones'\n",
            "\n"
          ],
          "name": "stdout"
        }
      ]
    },
    {
      "cell_type": "code",
      "metadata": {
        "id": "GInOLm3we1pm",
        "colab_type": "code",
        "colab": {}
      },
      "source": [
        ""
      ],
      "execution_count": null,
      "outputs": []
    }
  ]
}